{
 "cells": [
  {
   "cell_type": "code",
   "execution_count": null,
   "metadata": {},
   "outputs": [],
   "source": [
    "class Book:\n",
    "    all_books = []\n",
    "    def __init__(self,title, author,ISBN):\n",
    "        self.title = title\n",
    "        self.author = author\n",
    "        self.ISBN = ISBN\n",
    "        self.in_library = True\n",
    "\n",
    "        Book.all_books.append(self)\n",
    "        print(f'You just added new book named: {self.title}!')\n",
    "    \n",
    "   \n",
    "    def __repr__(self):\n",
    "        if self.in_library:\n",
    "            return f'''Book named: {self.title}, written by {self.author}, with ISBN {self.ISBN} is aviable'''\n",
    "        else:\n",
    "            return f'''Book named: {self.title}, written by {self.author}, with ISBN {self.ISBN} is not aviable'''\n",
    "\n",
    "class Users:\n",
    "    \n",
    "    def __init__(self,id , name , age):\n",
    "        self.id = id\n",
    "        self.name = name\n",
    "        self.age = age\n",
    "        self.borrowed_books = []\n",
    "\n",
    "\n",
    "    def borrow_book(self,book):\n",
    "        if book.in_library == True:\n",
    "            self.borrowed_books.append(book)\n",
    "            book.in_library = False\n",
    "            return f'Congratulations! {self.name}, You manage to borrow book named: {book.title}'\n",
    "        else:\n",
    "            return 'Book is already taken!'\n",
    "        \n",
    "    def return_book(self,book):\n",
    "        if book in self.borrowed_books:\n",
    "            self.borrowed_books.remove(book)\n",
    "            book.in_library = True\n",
    "            return f'You returned book: {book.title}'\n",
    "        else:\n",
    "            return 'The book is not available!'\n",
    "\n",
    "\n",
    "    def __repr__(self):\n",
    "        return f'{self.id}. {self.name}, {self.age} years old '\n",
    "    \n",
    "class Library:\n",
    "    \n",
    "    def __init__(self):\n",
    "        self.books = []\n",
    "        self.users = []\n",
    "    \n",
    "    def add_book(self,book):\n",
    "        if not any(i.ISBN == book.ISBN for i in self.books):\n",
    "            self.books.append(book)\n",
    "            return f'You added new book named: {book.title}'\n",
    "        else:\n",
    "            return 'We have this kind of books'\n",
    "\n",
    "    def register_user(self,user):\n",
    "        if not any(i.id == user.id for i in self.users):\n",
    "            self.users.append(user)\n",
    "            return f'{user} successfully registered!'\n",
    "        else: \n",
    "            return f'{user} already in the client list!'\n",
    "        \n",
    "    def display_books(self):\n",
    "        for i in self.books:\n",
    "            print(i)    \n",
    "    \n",
    "    def display_users(self):\n",
    "        for i in self.users:\n",
    "            print(i)"
   ]
  },
  {
   "cell_type": "code",
   "execution_count": null,
   "metadata": {},
   "outputs": [],
   "source": [
    "library = Library()\n"
   ]
  },
  {
   "cell_type": "code",
   "execution_count": null,
   "metadata": {},
   "outputs": [],
   "source": [
    "book1 = Book('Browman','Jim Kerry',2323)\n",
    "book2 = Book('Infinity','Den Braun',4576)\n",
    "book3 = Book('Harry Potter','Joanne Rowling',1111)\n",
    "book4 = Book('War and Piece','Ferih Nuye',9092)"
   ]
  },
  {
   "cell_type": "markdown",
   "metadata": {},
   "source": [
    "Adding books to the library"
   ]
  },
  {
   "cell_type": "code",
   "execution_count": null,
   "metadata": {},
   "outputs": [],
   "source": [
    "print(library.add_book(book1))\n",
    "print(library.add_book(book2))\n",
    "print(library.add_book(book3))\n",
    "print(library.add_book(book4))"
   ]
  },
  {
   "cell_type": "markdown",
   "metadata": {},
   "source": [
    "Displaying all books with its availability"
   ]
  },
  {
   "cell_type": "code",
   "execution_count": null,
   "metadata": {},
   "outputs": [],
   "source": [
    "library.display_books()"
   ]
  },
  {
   "cell_type": "markdown",
   "metadata": {},
   "source": [
    "Adding Users"
   ]
  },
  {
   "cell_type": "code",
   "execution_count": null,
   "metadata": {},
   "outputs": [],
   "source": [
    "user1 = Users(1,'Abama',55)\n",
    "user2 = Users(2,'Dave',23)\n",
    "user3 = Users(3,'Keyn',44)"
   ]
  },
  {
   "cell_type": "markdown",
   "metadata": {},
   "source": [
    "Registring Users"
   ]
  },
  {
   "cell_type": "code",
   "execution_count": null,
   "metadata": {},
   "outputs": [],
   "source": [
    "print(library.register_user(user1))\n",
    "print(library.register_user(user2))\n",
    "print(library.register_user(user3))"
   ]
  },
  {
   "cell_type": "markdown",
   "metadata": {},
   "source": [
    "Displaying users"
   ]
  },
  {
   "cell_type": "code",
   "execution_count": null,
   "metadata": {},
   "outputs": [],
   "source": [
    "library.display_users()"
   ]
  },
  {
   "cell_type": "markdown",
   "metadata": {},
   "source": [
    "Borrowing book"
   ]
  },
  {
   "cell_type": "code",
   "execution_count": null,
   "metadata": {},
   "outputs": [],
   "source": [
    "user1.borrow_book(book1)"
   ]
  },
  {
   "cell_type": "markdown",
   "metadata": {},
   "source": [
    "Borrowing borrowed book"
   ]
  },
  {
   "cell_type": "code",
   "execution_count": null,
   "metadata": {},
   "outputs": [],
   "source": [
    "user2.borrow_book(book1)"
   ]
  },
  {
   "cell_type": "markdown",
   "metadata": {},
   "source": [
    "Returning\n",
    " Book"
   ]
  },
  {
   "cell_type": "code",
   "execution_count": null,
   "metadata": {},
   "outputs": [],
   "source": [
    "user1.return_book(book1)"
   ]
  }
 ],
 "metadata": {
  "kernelspec": {
   "display_name": "Python 3",
   "language": "python",
   "name": "python3"
  },
  "language_info": {
   "codemirror_mode": {
    "name": "ipython",
    "version": 3
   },
   "file_extension": ".py",
   "mimetype": "text/x-python",
   "name": "python",
   "nbconvert_exporter": "python",
   "pygments_lexer": "ipython3",
   "version": "3.12.8"
  }
 },
 "nbformat": 4,
 "nbformat_minor": 2
}
