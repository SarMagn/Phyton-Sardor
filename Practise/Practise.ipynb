{
 "cells": [
  {
   "cell_type": "markdown",
   "metadata": {},
   "source": [
    "Sets"
   ]
  },
  {
   "cell_type": "code",
   "execution_count": 3,
   "metadata": {},
   "outputs": [
    {
     "name": "stdout",
     "output_type": "stream",
     "text": [
      "apple\n"
     ]
    }
   ],
   "source": [
    "myset = {'apple','banana','orange','carrot'}\n",
    "for i in myset: \n",
    "    if i == 'apple':\n",
    "     print(i)\n"
   ]
  },
  {
   "cell_type": "code",
   "execution_count": 4,
   "metadata": {},
   "outputs": [
    {
     "name": "stdout",
     "output_type": "stream",
     "text": [
      "Yes banana in your set\n"
     ]
    }
   ],
   "source": [
    "if 'banana' in myset:\n",
    "    print(f'Yes banana in your set')"
   ]
  },
  {
   "cell_type": "code",
   "execution_count": 5,
   "metadata": {},
   "outputs": [
    {
     "name": "stdout",
     "output_type": "stream",
     "text": [
      "True\n",
      "False\n"
     ]
    }
   ],
   "source": [
    "print('banana' in myset )\n",
    "print('banana' not in myset)"
   ]
  },
  {
   "cell_type": "code",
   "execution_count": 6,
   "metadata": {},
   "outputs": [],
   "source": [
    "myset.add('pineapple')"
   ]
  },
  {
   "cell_type": "code",
   "execution_count": 7,
   "metadata": {},
   "outputs": [
    {
     "name": "stdout",
     "output_type": "stream",
     "text": [
      "{'carrot', 'orange', 'apple', 'pineapple', 'banana'}\n"
     ]
    }
   ],
   "source": [
    "print(myset)"
   ]
  },
  {
   "cell_type": "code",
   "execution_count": 8,
   "metadata": {},
   "outputs": [
    {
     "name": "stdout",
     "output_type": "stream",
     "text": [
      "{'Notebook', 'carrot', 'phone', 'orange', 'apple', 'pineapple', 'banana', 'Mouse', 'Laptop', 'Motherbord'}\n"
     ]
    }
   ],
   "source": [
    "yourset = {'phone', 'Notebook', 'Laptop', 'Mouse', 'Motherbord'}\n",
    "myset.update(yourset)\n",
    "print(myset)"
   ]
  },
  {
   "cell_type": "code",
   "execution_count": 16,
   "metadata": {},
   "outputs": [],
   "source": [
    "set1 = {\"a\", \"b\", \"c\"}\n",
    "set2 = {1, 2, 3}\n",
    "set3 = {\"John\", \"Elena\"}\n",
    "set4 = {\"apple\", \"bananas\", \"cherry\"}\n",
    "\n",
    "a  = set1.union(set2,set3,set4)\n",
    "b = set1 | set2 | set3 | set4\n"
   ]
  },
  {
   "cell_type": "code",
   "execution_count": 21,
   "metadata": {},
   "outputs": [
    {
     "name": "stdout",
     "output_type": "stream",
     "text": [
      "{1, 'b', 2, 3, 'John', 'apple', 'Elena', 'cherry', 'bananas', 'a', 'c'}\n"
     ]
    }
   ],
   "source": [
    "print(b)"
   ]
  },
  {
   "cell_type": "code",
   "execution_count": 22,
   "metadata": {},
   "outputs": [
    {
     "data": {
      "text/plain": [
       "{'brand': 'BMW', 'model': 'Mustang', 'year': 1964}"
      ]
     },
     "execution_count": 22,
     "metadata": {},
     "output_type": "execute_result"
    }
   ],
   "source": [
    "mydict = {\n",
    "  \"brand\": \"Ford\",\n",
    "  \"model\": \"Mustang\",\n",
    "  \"year\": 1964\n",
    "}\n",
    "\n",
    "mydict[\"brand\"] = \"BMW\"\n",
    "mydict"
   ]
  },
  {
   "cell_type": "code",
   "execution_count": 41,
   "metadata": {},
   "outputs": [],
   "source": [
    "\n",
    "\n",
    "def get_number():    \n",
    "    input_numbers  = input('Please enter numbers')\n",
    "    str_numbers = input_numbers.replace(' ','').split(',')\n",
    "    numbers = []\n",
    "    for i in str_numbers:\n",
    "        try:\n",
    "            numbers.append(int(i))\n",
    "        except ValueError:\n",
    "            print('Values are invalid!')\n",
    "\n",
    "    return numbers\n",
    "\n",
    "def remover(numbers):\n",
    "    unique_numbers = list(set(numbers))\n",
    "    unique_numbers.sort()\n",
    "    return unique_numbers\n",
    "\n",
    "def divisi_5(unique_numbers):\n",
    "    for i in unique_numbers:\n",
    "        if i % 5 == 0:\n",
    "            return i\n",
    "    return None     \n",
    "\n",
    "def write_to_file(sorted_numbers, divisble_5):\n",
    "    with open(r\"W:\\Users\\sardo\\Desktop\\Maab and Data Analytics\\Phyton-Sardor\\result.txt\",'w') as file: \n",
    "        file.write('Sorted numbers: '+ str(sorted_numbers) + '\\n')\n",
    "        if divisble_5 is not None:\n",
    "            file.write('First number is ' +  str(divisble_5) )\n",
    "        else:\n",
    "            file.write('There are no numbers divisible by 5')\n",
    "\n",
    "def main():\n",
    "    input_numbers = get_number()\n",
    "    sorted_numbers = remover(input_numbers)\n",
    "    divisble_5 = divisi_5(sorted_numbers)\n",
    "\n",
    "    write_to_file(sorted_numbers,divisble_5)\n",
    "\n",
    "\n",
    "if __name__=='__main__':\n",
    "    main()\n",
    "\n",
    "\n"
   ]
  },
  {
   "cell_type": "code",
   "execution_count": 34,
   "metadata": {},
   "outputs": [
    {
     "name": "stdout",
     "output_type": "stream",
     "text": [
      "1,2,3,4,5,6,7,8,9,10\n",
      "['1', '2', '3', '4', '5', '6', '7', '8', '9', '10']\n",
      "[1, 2, 3, 4, 5, 6, 7, 8, 9, 10]\n"
     ]
    }
   ],
   "source": [
    "input_numbers  = input('Please enter numbers')\n",
    "str_numbers = input_numbers.replace(' ','').split(',')\n",
    "\n",
    "print(input_numbers)\n",
    "print(str_numbers)\n",
    "\n",
    "\n",
    "numbers = []\n",
    "for i in str_numbers:\n",
    "    numbers.append(int(i))\n",
    "\n",
    "print(numbers)"
   ]
  },
  {
   "cell_type": "code",
   "execution_count": 38,
   "metadata": {},
   "outputs": [],
   "source": [
    "main()"
   ]
  },
  {
   "cell_type": "code",
   "execution_count": 10,
   "metadata": {},
   "outputs": [
    {
     "name": "stdout",
     "output_type": "stream",
     "text": [
      "Current char: a, Window: a\n",
      "Updated window: a, Max Length: 1\n",
      "\n",
      "Current char: b, Window: ab\n",
      "Updated window: ab, Max Length: 2\n",
      "\n",
      "Current char: c, Window: abc\n",
      "Updated window: abc, Max Length: 3\n",
      "\n",
      "Current char: a, Window: abca\n",
      "Duplicate a found! Removing a\n",
      "Updated window: bca, Max Length: 3\n",
      "\n",
      "Current char: b, Window: bcab\n",
      "Duplicate b found! Removing b\n",
      "Updated window: cab, Max Length: 3\n",
      "\n",
      "Current char: c, Window: cabc\n",
      "Duplicate c found! Removing c\n",
      "Updated window: abc, Max Length: 3\n",
      "\n",
      "Current char: b, Window: abcb\n",
      "Duplicate b found! Removing a\n",
      "Duplicate b found! Removing b\n",
      "Updated window: cb, Max Length: 3\n",
      "\n",
      "Current char: b, Window: cbb\n",
      "Duplicate b found! Removing c\n",
      "Duplicate b found! Removing b\n",
      "Updated window: b, Max Length: 3\n",
      "\n",
      "Final Output: 3\n"
     ]
    }
   ],
   "source": [
    "def longest_unique_substring(s):\n",
    "    char_set = set()\n",
    "    start = 0\n",
    "    max_length = 0\n",
    "\n",
    "    for end in range(len(s)):\n",
    "        print(f\"Current char: {s[end]}, Window: {s[start:end+1]}\")\n",
    "\n",
    "        while s[end] in char_set:\n",
    "            print(f\"Duplicate {s[end]} found! Removing {s[start]}\")\n",
    "            char_set.remove(s[start])\n",
    "            start += 1\n",
    "\n",
    "        char_set.add(s[end])\n",
    "        max_length = max(max_length, end - start + 1)\n",
    "        \n",
    "        print(f\"Updated window: {s[start:end+1]}, Max Length: {max_length}\\n\")\n",
    "\n",
    "    return max_length\n",
    "\n",
    "s = \"abcabcbb\"\n",
    "print(\"Final Output:\", longest_unique_substring(s))\n"
   ]
  },
  {
   "cell_type": "code",
   "execution_count": null,
   "metadata": {},
   "outputs": [],
   "source": [
    "class Car:\n",
    "    def __init__(self, make: str , model: str, year: int, speed = 0 ):\n",
    "        self.make: str = make\n",
    "        self.model: str = model\n",
    "        self.year: int = year\n",
    "        self.speed = speed\n",
    "\n",
    "    def increase(self,spd):\n",
    "        return f'Speed increased by{spd}.The current speed is {}'\n",
    "    \n",
    "    def decrease(self,spdd):\n",
    "        return f'Speed de'"
   ]
  },
  {
   "cell_type": "code",
   "execution_count": 1,
   "metadata": {},
   "outputs": [
    {
     "data": {
      "text/plain": [
       "3"
      ]
     },
     "execution_count": 1,
     "metadata": {},
     "output_type": "execute_result"
    }
   ],
   "source": [
    "len({'a': 1, 'b': 2, 'c': 3})"
   ]
  },
  {
   "cell_type": "code",
   "execution_count": 2,
   "metadata": {},
   "outputs": [
    {
     "name": "stdout",
     "output_type": "stream",
     "text": [
      "5\n"
     ]
    }
   ],
   "source": [
    "def add(a, b): \n",
    "    return a + b; \n",
    "\n",
    "print(add(2, 3))"
   ]
  },
  {
   "cell_type": "code",
   "execution_count": null,
   "metadata": {},
   "outputs": [],
   "source": [
    "def add(a, b): return a + b; print(add(2, 3))"
   ]
  },
  {
   "cell_type": "code",
   "execution_count": 3,
   "metadata": {},
   "outputs": [
    {
     "name": "stdout",
     "output_type": "stream",
     "text": [
      "5\n"
     ]
    }
   ],
   "source": [
    "class MyClass: x = 5; \n",
    "print(MyClass().x)"
   ]
  },
  {
   "cell_type": "code",
   "execution_count": 4,
   "metadata": {},
   "outputs": [
    {
     "name": "stdout",
     "output_type": "stream",
     "text": [
      "'hello'\n"
     ]
    }
   ],
   "source": [
    "print(\"'hello'\")"
   ]
  },
  {
   "cell_type": "code",
   "execution_count": 5,
   "metadata": {},
   "outputs": [
    {
     "data": {
      "text/plain": [
       "3"
      ]
     },
     "execution_count": 5,
     "metadata": {},
     "output_type": "execute_result"
    }
   ],
   "source": [
    "{'a': 1, 'b': 2}.get('c', 3)"
   ]
  },
  {
   "cell_type": "code",
   "execution_count": 7,
   "metadata": {},
   "outputs": [],
   "source": [
    "while False: print(\"Hello\")"
   ]
  }
 ],
 "metadata": {
  "kernelspec": {
   "display_name": "Python 3",
   "language": "python",
   "name": "python3"
  },
  "language_info": {
   "codemirror_mode": {
    "name": "ipython",
    "version": 3
   },
   "file_extension": ".py",
   "mimetype": "text/x-python",
   "name": "python",
   "nbconvert_exporter": "python",
   "pygments_lexer": "ipython3",
   "version": "3.12.8"
  }
 },
 "nbformat": 4,
 "nbformat_minor": 2
}
