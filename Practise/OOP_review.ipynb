{
 "cells": [
  {
   "cell_type": "markdown",
   "metadata": {},
   "source": [
    "Library"
   ]
  },
  {
   "cell_type": "code",
   "execution_count": 46,
   "metadata": {},
   "outputs": [],
   "source": [
    "class Book(object):\n",
    "\n",
    "    def __init__(self, title, author , ISBN):\n",
    "        self.title  = title \n",
    "        self.author = author\n",
    "        self.ISBN = ISBN\n",
    "\n",
    "class User():\n",
    "    def __init__(self, fname ,  lname, age ):\n",
    "        self.fname = fname\n",
    "        self.lname = lname\n",
    "        self.age = age \n",
    "        self.client_list = []\n",
    "\n",
    "    def __str__(self) -> str:\n",
    "        return f'FistName: {self.fname}, LastName: {self.lname}, Age: {self.age}'\n",
    "\n",
    "    def add_client(self):\n",
    "        self.client_list.append(self)\n",
    "\n",
    "    def display_clients(self):\n",
    "        for i in self.client_list:\n",
    "            print(i)\n",
    "\n",
    "    \n",
    "    # def display_clients(self,):\n",
    "\n",
    "\n"
   ]
  },
  {
   "cell_type": "code",
   "execution_count": 58,
   "metadata": {},
   "outputs": [],
   "source": [
    "client = User('Huge','Kenni',42)\n",
    "client.add_client()\n",
    "\n",
    "user = User('Nije','Banni',25)\n",
    "user.add_client()"
   ]
  },
  {
   "cell_type": "code",
   "execution_count": 59,
   "metadata": {},
   "outputs": [
    {
     "name": "stdout",
     "output_type": "stream",
     "text": [
      "FistName: Huge, LastName: Kenni, Age: 42\n"
     ]
    }
   ],
   "source": [
    "client.display_clients()\n"
   ]
  },
  {
   "cell_type": "code",
   "execution_count": 60,
   "metadata": {},
   "outputs": [
    {
     "data": {
      "text/plain": [
       "{'fname': 'Huge',\n",
       " 'lname': 'Kenni',\n",
       " 'age': 42,\n",
       " 'client_list': [<__main__.User at 0x2371b0f11f0>]}"
      ]
     },
     "execution_count": 60,
     "metadata": {},
     "output_type": "execute_result"
    }
   ],
   "source": [
    "client.__dict__"
   ]
  },
  {
   "cell_type": "code",
   "execution_count": 169,
   "metadata": {},
   "outputs": [],
   "source": [
    "import csv \n",
    "\n",
    "class Item:\n",
    "    pay_rate = 0.8\n",
    "    all = []\n",
    "\n",
    "    def __init__(self,name: str,price: float, quantity=0):\n",
    "        \n",
    "        assert price >= 0 \n",
    "        assert quantity >= 0\n",
    "\n",
    "        self.__name  = name\n",
    "        self.price = price\n",
    "        self.quantity  = quantity   \n",
    "\n",
    "        Item.all.append(self)\n",
    "\n",
    "    @property\n",
    "    def name(self):\n",
    "        return self.__name\n",
    "    \n",
    "    @name.setter\n",
    "    def name(self,value):\n",
    "        if len(value) > 10 :\n",
    "            raise Exception('You can not write too long words here!')\n",
    "        else:\n",
    "            self.__name = value\n",
    "\n",
    "\n",
    "    def calcualtion(self):\n",
    "        return self.price * self.quantity\n",
    "    \n",
    "    def apply_discount(self):\n",
    "        self.price = self.price * Item.pay_rate\n",
    "\n",
    "    def __repr__(self):\n",
    "        return f\"{self.__class__.__name__}('{self.name}',{self.price}, {self.quantity})\"\n",
    "    \n",
    "\n",
    "    @classmethod\n",
    "    def instantiate_from_csv(cls):\n",
    "        with open('items.csv','r') as f:\n",
    "            reader = csv.DictReader(f)\n",
    "            items = list(reader)\n",
    "\n",
    "        for i in items:\n",
    "            Item (\n",
    "                name=i.get('name'),\n",
    "                price=float(i.get('price')),\n",
    "                quantity=int(i.get('quantity'))\n",
    "            )\n",
    "\n",
    "    @staticmethod\n",
    "    def is_integer(num):\n",
    "        if isinstance(num,float):\n",
    "            return num.is_integer()\n",
    "        elif isinstance(num,int):\n",
    "            return True\n",
    "        else:\n",
    "            return False\n",
    "        \n",
    "    # @property\n",
    "    # def read_only_name(self):\n",
    "    #     return 'AAA'\n",
    "        \n",
    "    "
   ]
  },
  {
   "cell_type": "code",
   "execution_count": null,
   "metadata": {},
   "outputs": [],
   "source": []
  },
  {
   "cell_type": "code",
   "execution_count": 170,
   "metadata": {},
   "outputs": [],
   "source": [
    "item6 = Item('MyItem', 750)"
   ]
  },
  {
   "cell_type": "code",
   "execution_count": 159,
   "metadata": {},
   "outputs": [
    {
     "data": {
      "text/plain": [
       "'YourItem'"
      ]
     },
     "execution_count": 159,
     "metadata": {},
     "output_type": "execute_result"
    }
   ],
   "source": [
    "item6.name"
   ]
  },
  {
   "cell_type": "code",
   "execution_count": 167,
   "metadata": {},
   "outputs": [
    {
     "ename": "Exception",
     "evalue": "You can not write too long words here!",
     "output_type": "error",
     "traceback": [
      "\u001b[1;31m---------------------------------------------------------------------------\u001b[0m",
      "\u001b[1;31mException\u001b[0m                                 Traceback (most recent call last)",
      "Cell \u001b[1;32mIn[167], line 1\u001b[0m\n\u001b[1;32m----> 1\u001b[0m \u001b[43mitem6\u001b[49m\u001b[38;5;241;43m.\u001b[39;49m\u001b[43mname\u001b[49m \u001b[38;5;241m=\u001b[39m \u001b[38;5;124m'\u001b[39m\u001b[38;5;124mYourItemoeroerere\u001b[39m\u001b[38;5;124m'\u001b[39m\n",
      "Cell \u001b[1;32mIn[165], line 25\u001b[0m, in \u001b[0;36mItem.name\u001b[1;34m(self, value)\u001b[0m\n\u001b[0;32m     22\u001b[0m \u001b[38;5;129m@name\u001b[39m\u001b[38;5;241m.\u001b[39msetter\n\u001b[0;32m     23\u001b[0m \u001b[38;5;28;01mdef\u001b[39;00m\u001b[38;5;250m \u001b[39m\u001b[38;5;21mname\u001b[39m(\u001b[38;5;28mself\u001b[39m,value):\n\u001b[0;32m     24\u001b[0m     \u001b[38;5;28;01mif\u001b[39;00m \u001b[38;5;28mlen\u001b[39m(value) \u001b[38;5;241m>\u001b[39m \u001b[38;5;241m10\u001b[39m :\n\u001b[1;32m---> 25\u001b[0m         \u001b[38;5;28;01mraise\u001b[39;00m \u001b[38;5;167;01mException\u001b[39;00m(\u001b[38;5;124m'\u001b[39m\u001b[38;5;124mYou can not write too long words here!\u001b[39m\u001b[38;5;124m'\u001b[39m)\n\u001b[0;32m     26\u001b[0m     \u001b[38;5;28;01melse\u001b[39;00m:\n\u001b[0;32m     27\u001b[0m         \u001b[38;5;28mself\u001b[39m\u001b[38;5;241m.\u001b[39m__name \u001b[38;5;241m=\u001b[39m value\n",
      "\u001b[1;31mException\u001b[0m: You can not write too long words here!"
     ]
    }
   ],
   "source": [
    "item6.name = 'YourItemoeroerere'"
   ]
  },
  {
   "cell_type": "code",
   "execution_count": 171,
   "metadata": {},
   "outputs": [
    {
     "data": {
      "text/plain": [
       "'AAA'"
      ]
     },
     "execution_count": 171,
     "metadata": {},
     "output_type": "execute_result"
    }
   ],
   "source": [
    "item1.read_only_name"
   ]
  },
  {
   "cell_type": "code",
   "execution_count": 90,
   "metadata": {},
   "outputs": [],
   "source": [
    "class Phone(Item):\n",
    "    all = []\n",
    "\n",
    "    def __init__(self,name: str,price: float, quantity=0,broken_phones=0):\n",
    "        super().__init__(name,price,quantity)\n",
    "\n",
    "        assert broken_phones >= 0\n",
    "     \n",
    "        self.broken_phones = broken_phones   \n",
    "\n",
    "        Phone.all.append(self)\n"
   ]
  },
  {
   "cell_type": "code",
   "execution_count": 91,
   "metadata": {},
   "outputs": [],
   "source": [
    "phone1 = Phone('jdcPhonec10',500,5,1)\n",
    "\n",
    "phone2 = Phone('jscPhonev20',700,5,1)\n"
   ]
  },
  {
   "cell_type": "code",
   "execution_count": 64,
   "metadata": {},
   "outputs": [
    {
     "data": {
      "text/plain": [
       "2500"
      ]
     },
     "execution_count": 64,
     "metadata": {},
     "output_type": "execute_result"
    }
   ],
   "source": [
    "phone1.calcualtion()"
   ]
  },
  {
   "cell_type": "code",
   "execution_count": 172,
   "metadata": {},
   "outputs": [
    {
     "data": {
      "text/plain": [
       "[Item('MyItem',750, 0)]"
      ]
     },
     "execution_count": 172,
     "metadata": {},
     "output_type": "execute_result"
    }
   ],
   "source": [
    "Item.all\n"
   ]
  },
  {
   "cell_type": "code",
   "execution_count": 93,
   "metadata": {},
   "outputs": [
    {
     "data": {
      "text/plain": [
       "[Phone('jdcPhonec10',500, 5), Phone('jscPhonev20',700, 5)]"
      ]
     },
     "execution_count": 93,
     "metadata": {},
     "output_type": "execute_result"
    }
   ],
   "source": [
    "Phone.all"
   ]
  },
  {
   "cell_type": "code",
   "execution_count": 107,
   "metadata": {},
   "outputs": [],
   "source": [
    "item1 = Item(\"Phone\", 100, 1)\n",
    "item2 = Item(\"Laptop\", 1000, 3)\n",
    "item3 = Item(\"Cable\", 10, 5)\n",
    "item4 = Item(\"Mouse\", 50, 5)\n",
    "item5 = Item(\"Keyboard\", 75, 5)"
   ]
  },
  {
   "cell_type": "code",
   "execution_count": 17,
   "metadata": {},
   "outputs": [
    {
     "data": {
      "text/plain": [
       "True"
      ]
     },
     "execution_count": 17,
     "metadata": {},
     "output_type": "execute_result"
    }
   ],
   "source": [
    "Item.is_integer(33)"
   ]
  },
  {
   "cell_type": "code",
   "execution_count": 5,
   "metadata": {},
   "outputs": [],
   "source": [
    "Item.instantiate_from_csv()"
   ]
  },
  {
   "cell_type": "code",
   "execution_count": 108,
   "metadata": {},
   "outputs": [
    {
     "data": {
      "text/plain": [
       "80.0"
      ]
     },
     "execution_count": 108,
     "metadata": {},
     "output_type": "execute_result"
    }
   ],
   "source": [
    "item1.apply_discount()\n",
    "item1.calcualtion()"
   ]
  },
  {
   "cell_type": "code",
   "execution_count": 6,
   "metadata": {},
   "outputs": [
    {
     "name": "stdout",
     "output_type": "stream",
     "text": [
      "Product is Phone, and its price 100\n",
      "Product is Laptop, and its price 1000\n",
      "Product is Cable, and its price 10\n",
      "Product is Mouse, and its price 50\n",
      "Product is Keyboard, and its price 75\n"
     ]
    }
   ],
   "source": [
    "for i in Item.all:\n",
    "    print(f'Product is {i.name}, and its price {i.price}')"
   ]
  },
  {
   "cell_type": "code",
   "execution_count": 9,
   "metadata": {},
   "outputs": [
    {
     "name": "stdout",
     "output_type": "stream",
     "text": [
      "[Item('Phone',100.0, 1), Item('Laptop',1000.0, 3), Item('Cable',10.0, 5), Item('Mouse',50.0, 5), Item('Keyboard',75.0, 5)]\n"
     ]
    }
   ],
   "source": [
    "Item.instantiate_from_csv()\n",
    "print(Item.all)"
   ]
  },
  {
   "cell_type": "code",
   "execution_count": null,
   "metadata": {},
   "outputs": [],
   "source": []
  }
 ],
 "metadata": {
  "kernelspec": {
   "display_name": "Python 3",
   "language": "python",
   "name": "python3"
  },
  "language_info": {
   "codemirror_mode": {
    "name": "ipython",
    "version": 3
   },
   "file_extension": ".py",
   "mimetype": "text/x-python",
   "name": "python",
   "nbconvert_exporter": "python",
   "pygments_lexer": "ipython3",
   "version": "3.12.8"
  }
 },
 "nbformat": 4,
 "nbformat_minor": 2
}
