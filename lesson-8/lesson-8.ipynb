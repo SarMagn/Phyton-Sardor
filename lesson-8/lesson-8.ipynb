{
 "cells": [
  {
   "cell_type": "code",
   "execution_count": 5,
   "metadata": {},
   "outputs": [],
   "source": [
    "import this"
   ]
  },
  {
   "cell_type": "code",
   "execution_count": 1,
   "metadata": {},
   "outputs": [
    {
     "name": "stdout",
     "output_type": "stream",
     "text": [
      "The Zen of Python, by Tim Peters\n",
      "\n",
      "Beautiful is better than ugly.\n",
      "Explicit is better than implicit.\n",
      "Simple is better than complex.\n",
      "Complex is better than complicated.\n",
      "Flat is better than nested.\n",
      "Sparse is better than dense.\n",
      "Readability counts.\n",
      "Special cases aren't special enough to break the rules.\n",
      "Although practicality beats purity.\n",
      "Errors should never pass silently.\n",
      "Unless explicitly silenced.\n",
      "In the face of ambiguity, refuse the temptation to guess.\n",
      "There should be one-- and preferably only one --obvious way to do it.\n",
      "Although that way may not be obvious at first unless you're Dutch.\n",
      "Now is better than never.\n",
      "Although never is often better than *right* now.\n",
      "If the implementation is hard to explain, it's a bad idea.\n",
      "If the implementation is easy to explain, it may be a good idea.\n",
      "Namespaces are one honking great idea -- let's do more of those!\n"
     ]
    }
   ],
   "source": [
    "import this"
   ]
  },
  {
   "cell_type": "code",
   "execution_count": 14,
   "metadata": {},
   "outputs": [
    {
     "name": "stdout",
     "output_type": "stream",
     "text": [
      "['the', 'the', 'the', 'the', 'the', 'the']\n",
      "{'the': 6}\n"
     ]
    }
   ],
   "source": [
    "with open(r'W:\\Users\\sardo\\Desktop\\Maab and Data Analytics\\Phyton-Sardor\\Lesson-8\\this.txt') as f:\n",
    "    data = f.read()\n",
    "    thecount = []\n",
    "    # for i in data:\n",
    "    # data = data.replace(' ','').replace(',','').replace('\\n','').replace('.','').replace(\"'\",'').replace('!','').replace('-','').lower()\n",
    "    unwanted_chars = [',','\\n','.',\"'\",'!','-']\n",
    "    for i in unwanted_chars:\n",
    "        data = data.replace(i,'')\n",
    "    data = data.lower().split(' ')\n",
    "    for x in data:\n",
    "        if x == 'the':\n",
    "          thecount.append(x)\n",
    "    dictionary = {thecount[0]:len(thecount)}\n",
    "    \n",
    "\n",
    "\n",
    "    # data.replace(' ','')\n",
    "\n",
    "print(thecount)\n",
    "print(dictionary)"
   ]
  }
 ],
 "metadata": {
  "kernelspec": {
   "display_name": "Python 3",
   "language": "python",
   "name": "python3"
  },
  "language_info": {
   "codemirror_mode": {
    "name": "ipython",
    "version": 3
   },
   "file_extension": ".py",
   "mimetype": "text/x-python",
   "name": "python",
   "nbconvert_exporter": "python",
   "pygments_lexer": "ipython3",
   "version": "3.12.8"
  }
 },
 "nbformat": 4,
 "nbformat_minor": 2
}
