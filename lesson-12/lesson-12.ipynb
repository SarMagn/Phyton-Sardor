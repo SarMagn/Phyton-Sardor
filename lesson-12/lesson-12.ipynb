{
 "cells": [
  {
   "cell_type": "code",
   "execution_count": 7,
   "metadata": {},
   "outputs": [
    {
     "ename": "AttributeError",
     "evalue": "Could not find PyAudio; check installation",
     "output_type": "error",
     "traceback": [
      "\u001b[1;31m---------------------------------------------------------------------------\u001b[0m",
      "\u001b[1;31mModuleNotFoundError\u001b[0m                       Traceback (most recent call last)",
      "File \u001b[1;32mw:\\Users\\sardo\\AppData\\Local\\Programs\\Python\\Python312\\Lib\\site-packages\\speech_recognition\\__init__.py:103\u001b[0m, in \u001b[0;36mMicrophone.get_pyaudio\u001b[1;34m()\u001b[0m\n\u001b[0;32m    102\u001b[0m \u001b[38;5;28;01mtry\u001b[39;00m:\n\u001b[1;32m--> 103\u001b[0m     \u001b[38;5;28;01mimport\u001b[39;00m\u001b[38;5;250m \u001b[39m\u001b[38;5;21;01mpyaudio\u001b[39;00m\n\u001b[0;32m    104\u001b[0m \u001b[38;5;28;01mexcept\u001b[39;00m \u001b[38;5;167;01mImportError\u001b[39;00m:\n",
      "\u001b[1;31mModuleNotFoundError\u001b[0m: No module named 'pyaudio'",
      "\nDuring handling of the above exception, another exception occurred:\n",
      "\u001b[1;31mAttributeError\u001b[0m                            Traceback (most recent call last)",
      "Cell \u001b[1;32mIn[7], line 12\u001b[0m\n\u001b[0;32m      9\u001b[0m     text \u001b[38;5;241m=\u001b[39m recognizer\u001b[38;5;241m.\u001b[39mrecognize_google(audio)\n\u001b[0;32m     10\u001b[0m     \u001b[38;5;28mprint\u001b[39m(\u001b[38;5;124mf\u001b[39m\u001b[38;5;124m'\u001b[39m\u001b[38;5;124mYou said: \u001b[39m\u001b[38;5;132;01m{\u001b[39;00mtext\u001b[38;5;132;01m}\u001b[39;00m\u001b[38;5;124m'\u001b[39m)\n\u001b[1;32m---> 12\u001b[0m \u001b[43mspeech_to_text\u001b[49m\u001b[43m(\u001b[49m\u001b[43m)\u001b[49m\n",
      "Cell \u001b[1;32mIn[7], line 4\u001b[0m, in \u001b[0;36mspeech_to_text\u001b[1;34m()\u001b[0m\n\u001b[0;32m      3\u001b[0m \u001b[38;5;28;01mdef\u001b[39;00m\u001b[38;5;250m \u001b[39m\u001b[38;5;21mspeech_to_text\u001b[39m():\n\u001b[1;32m----> 4\u001b[0m     \u001b[38;5;28;01mwith\u001b[39;00m \u001b[43msr\u001b[49m\u001b[38;5;241;43m.\u001b[39;49m\u001b[43mMicrophone\u001b[49m\u001b[43m(\u001b[49m\u001b[43m)\u001b[49m \u001b[38;5;28;01mas\u001b[39;00m source:\n\u001b[0;32m      5\u001b[0m         \u001b[38;5;28mprint\u001b[39m(\u001b[38;5;124m'\u001b[39m\u001b[38;5;124mListening...\u001b[39m\u001b[38;5;124m'\u001b[39m)\n\u001b[0;32m      6\u001b[0m         recognizer\u001b[38;5;241m.\u001b[39madjust_for_ambient_noise(source)\n",
      "File \u001b[1;32mw:\\Users\\sardo\\AppData\\Local\\Programs\\Python\\Python312\\Lib\\site-packages\\speech_recognition\\__init__.py:75\u001b[0m, in \u001b[0;36mMicrophone.__init__\u001b[1;34m(self, device_index, sample_rate, chunk_size)\u001b[0m\n\u001b[0;32m     72\u001b[0m \u001b[38;5;28;01massert\u001b[39;00m \u001b[38;5;28misinstance\u001b[39m(chunk_size, \u001b[38;5;28mint\u001b[39m) \u001b[38;5;129;01mand\u001b[39;00m chunk_size \u001b[38;5;241m>\u001b[39m \u001b[38;5;241m0\u001b[39m, \u001b[38;5;124m\"\u001b[39m\u001b[38;5;124mChunk size must be a positive integer\u001b[39m\u001b[38;5;124m\"\u001b[39m\n\u001b[0;32m     74\u001b[0m \u001b[38;5;66;03m# set up PyAudio\u001b[39;00m\n\u001b[1;32m---> 75\u001b[0m \u001b[38;5;28mself\u001b[39m\u001b[38;5;241m.\u001b[39mpyaudio_module \u001b[38;5;241m=\u001b[39m \u001b[38;5;28;43mself\u001b[39;49m\u001b[38;5;241;43m.\u001b[39;49m\u001b[43mget_pyaudio\u001b[49m\u001b[43m(\u001b[49m\u001b[43m)\u001b[49m\n\u001b[0;32m     76\u001b[0m audio \u001b[38;5;241m=\u001b[39m \u001b[38;5;28mself\u001b[39m\u001b[38;5;241m.\u001b[39mpyaudio_module\u001b[38;5;241m.\u001b[39mPyAudio()\n\u001b[0;32m     77\u001b[0m \u001b[38;5;28;01mtry\u001b[39;00m:\n",
      "File \u001b[1;32mw:\\Users\\sardo\\AppData\\Local\\Programs\\Python\\Python312\\Lib\\site-packages\\speech_recognition\\__init__.py:105\u001b[0m, in \u001b[0;36mMicrophone.get_pyaudio\u001b[1;34m()\u001b[0m\n\u001b[0;32m    103\u001b[0m     \u001b[38;5;28;01mimport\u001b[39;00m\u001b[38;5;250m \u001b[39m\u001b[38;5;21;01mpyaudio\u001b[39;00m\n\u001b[0;32m    104\u001b[0m \u001b[38;5;28;01mexcept\u001b[39;00m \u001b[38;5;167;01mImportError\u001b[39;00m:\n\u001b[1;32m--> 105\u001b[0m     \u001b[38;5;28;01mraise\u001b[39;00m \u001b[38;5;167;01mAttributeError\u001b[39;00m(\u001b[38;5;124m\"\u001b[39m\u001b[38;5;124mCould not find PyAudio; check installation\u001b[39m\u001b[38;5;124m\"\u001b[39m)\n\u001b[0;32m    106\u001b[0m \u001b[38;5;28;01mreturn\u001b[39;00m pyaudio\n",
      "\u001b[1;31mAttributeError\u001b[0m: Could not find PyAudio; check installation"
     ]
    }
   ],
   "source": [
    "import speech_recognition as sr\n",
    "recognizer = sr.Recognizer()\n",
    "def speech_to_text():\n",
    "    with sr.Microphone() as source:\n",
    "        print('Listening...')\n",
    "        recognizer.adjust_for_ambient_noise(source)\n",
    "        audio = recognizer.listen(source)\n",
    "        print('Recognizing...')\n",
    "    text = recognizer.recognize_google(audio)\n",
    "    print(f'You said: {text}')\n",
    "\n",
    "speech_to_text()\n"
   ]
  },
  {
   "cell_type": "code",
   "execution_count": null,
   "metadata": {},
   "outputs": [],
   "source": [
    "# ✅ Start and end with a vowel (a, e, i, o, u)\n",
    "# ✅ Contain at least two different vowels inside the word\n",
    "# ✅ Have a length of at least 5 characters\n",
    "\n",
    "words = [\"apple\", \"orange\", \"banana\", \"umbrella\", \"ace\", \"aviation\", \"oak\"]\n",
    "vowels = set(\"aeiou\")\n",
    "\n",
    "def word_finder(words):\n",
    "    result = []\n",
    "    for i in words:\n",
    "        if len(i) >= 5 and   "
   ]
  },
  {
   "cell_type": "code",
   "execution_count": 25,
   "metadata": {},
   "outputs": [
    {
     "data": {
      "text/plain": [
       "'Fizz Buzz FizzBuzz 8 Fizz Buzz FizzBuzz 7'"
      ]
     },
     "execution_count": 25,
     "metadata": {},
     "output_type": "execute_result"
    }
   ],
   "source": [
    "# If the number is divisible by 3, replace it with \"Fizz\".\n",
    "# If the number is divisible by 5, replace it with \"Buzz\".\n",
    "# If the number is divisible by both 3 and 5, replace it with \"FizzBuzz\".\n",
    "# Otherwise, keep the number as it is.\n",
    "# Finally, combine the result into a single string, separating each element with a space.\n",
    "# Solve it with map\n",
    "\n",
    "mystery_numbers = [3, 10, 15, 8, 9, 25, 30, 7]\n",
    "\n",
    "final_output = \" \".join(map(lambda x: \"FizzBuzz\" if x % 3 == 0 and x % 5 == 0 \n",
    "                            else \"Fizz\" if x % 3 == 0 \n",
    "                            else \"Buzz\" if x % 5 == 0 \n",
    "                            else str(x), mystery_numbers))\n",
    "\n",
    "\n",
    "# \"Fizz Buzz FizzBuzz 8 Fizz Buzz FizzBuzz 7\"\n",
    "final_output\n"
   ]
  },
  {
   "cell_type": "code",
   "execution_count": null,
   "metadata": {},
   "outputs": [
    {
     "ename": "SyntaxError",
     "evalue": "expected 'else' after 'if' expression (930693384.py, line 1)",
     "output_type": "error",
     "traceback": [
      "\u001b[1;36m  Cell \u001b[1;32mIn[63], line 1\u001b[1;36m\u001b[0m\n\u001b[1;33m    final_output = \" \".join(map(lambda x: 'FuzzBuzz' if x % 3 == 0 and x % 5 == 0 else 'Fizz' if x % 3 ==0 else \"buzz\" if x % 5 == 0 ,mystery_numbers))\u001b[0m\n\u001b[1;37m                                                                                                                ^\u001b[0m\n\u001b[1;31mSyntaxError\u001b[0m\u001b[1;31m:\u001b[0m expected 'else' after 'if' expression\n"
     ]
    }
   ],
   "source": [
    "final_output = \" \".join(map(lambda x: 'FuzzBuzz' if x % 3 == 0 and x % 5 == 0 else 'Fizz' if x % 3 ==0 else \"buzz\" if x % 5 == 0 else str(x),mystery_numbers))\n",
    "final_output"
   ]
  },
  {
   "cell_type": "code",
   "execution_count": 16,
   "metadata": {},
   "outputs": [
    {
     "name": "stdout",
     "output_type": "stream",
     "text": [
      "The even numbers are: ['2']\n",
      "The total number of even numbers is 1\n"
     ]
    }
   ],
   "source": [
    "#  Program to find and display all even numbers in a list entered by the user\n",
    "numbers = input(\"Enter a list of numbers separated by commas: \").split(',') # 1 mistake\n",
    "even_numbers = []\n",
    "\n",
    "for num in numbers:  \n",
    "    if  int(num) % 2 == 0:  # 1 . strga otkazish kk\n",
    "        even_numbers.append(num)\n",
    "\n",
    "print(\"The even numbers are: \" + str(even_numbers))   # strga\n",
    "print(\"The total number of even numbers is\", len(even_numbers)) # mista"
   ]
  },
  {
   "cell_type": "code",
   "execution_count": 62,
   "metadata": {},
   "outputs": [
    {
     "data": {
      "text/plain": [
       "253.0"
      ]
     },
     "execution_count": 62,
     "metadata": {},
     "output_type": "execute_result"
    }
   ],
   "source": [
    "# You have a list of tuples where each tuple contains a student's name and a list of their scores in different subjects.\n",
    "#  Your task is to compute the average score of students who have at least one score above a specified threshold. \n",
    "# The output should be the average score of those students.\n",
    "\n",
    "students = [(\"Alice\", [85, 90, 78]),(\"Bob\", [70, 65, 80]),(\"Charlie\", [95, 100, 98]),(\"David\", [55, 60, 50]),(\"Eva\", [88, 92, 85])]\n",
    "\n",
    "threshold = 80\n",
    "\n",
    "# Expected output: 90.1111111111111 \n",
    "# time: 7 mins group 2\n",
    "grades = []\n",
    "for i in students:\n",
    "    grades.extend(i)\n",
    "\n",
    "grade = list(filter(lambda x : max(x[1]) > threshold, students))\n",
    "new_list = []\n",
    "for i, score in grade:\n",
    "    new_list.extend(score)\n",
    "result = sum(new_list) / len(new_list)\n",
    "result    \n",
    "\n",
    "\n",
    "\n",
    "\n",
    "\n",
    "\n",
    "\n",
    "\n",
    "\n",
    "\n",
    "\n",
    "# def hisobla():\n",
    "#     grade22 = []           \n",
    "#     value = [] \n",
    "#     for i in students:\n",
    "#         if max(i[1])>threshold:\n",
    "#             grade22.append(sum(i[1]))\n",
    "#             return sum(grade22)/len(grade22)\n",
    "# # for name, score in grade22:\n",
    "# #     value.extend(score)\n",
    "\n",
    "# hisobla()\n",
    "# # print(grade22)"
   ]
  },
  {
   "cell_type": "code",
   "execution_count": 61,
   "metadata": {},
   "outputs": [
    {
     "data": {
      "text/plain": [
       "270.3333333333333"
      ]
     },
     "execution_count": 61,
     "metadata": {},
     "output_type": "execute_result"
    }
   ],
   "source": [
    "(253 + 293 + 265)/3\n"
   ]
  }
 ],
 "metadata": {
  "kernelspec": {
   "display_name": "Python 3",
   "language": "python",
   "name": "python3"
  },
  "language_info": {
   "codemirror_mode": {
    "name": "ipython",
    "version": 3
   },
   "file_extension": ".py",
   "mimetype": "text/x-python",
   "name": "python",
   "nbconvert_exporter": "python",
   "pygments_lexer": "ipython3",
   "version": "3.12.8"
  }
 },
 "nbformat": 4,
 "nbformat_minor": 2
}
