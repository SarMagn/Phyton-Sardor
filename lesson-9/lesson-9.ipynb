{
 "cells": [
  {
   "cell_type": "code",
   "execution_count": 9,
   "metadata": {},
   "outputs": [
    {
     "name": "stdout",
     "output_type": "stream",
     "text": [
      "5\n"
     ]
    }
   ],
   "source": [
    "def uniquer(x):\n",
    "    y =  x.split()\n",
    "    mylist = set(list(x))\n",
    "\n",
    "    print(len(mylist))\n",
    "\n",
    "\n",
    "\n",
    "uniquer('Hadadwkdkkwd')"
   ]
  },
  {
   "cell_type": "code",
   "execution_count": 30,
   "metadata": {},
   "outputs": [
    {
     "data": {
      "text/plain": [
       "[0, 1, 1, 2, 3, 5, 8, 13, 21, 34]"
      ]
     },
     "execution_count": 30,
     "metadata": {},
     "output_type": "execute_result"
    }
   ],
   "source": [
    "#2\n",
    "\n",
    "def fibo(x):\n",
    "    start_point = [0,1]\n",
    "    for i in range(2,x):\n",
    "        start_point.append(start_point[-1] + start_point[-2])\n",
    "    return start_point\n",
    "\n",
    "fibo(10)"
   ]
  },
  {
   "cell_type": "code",
   "execution_count": 35,
   "metadata": {},
   "outputs": [
    {
     "name": "stdout",
     "output_type": "stream",
     "text": [
      "madam\n"
     ]
    },
    {
     "data": {
      "text/plain": [
       "True"
      ]
     },
     "execution_count": 35,
     "metadata": {},
     "output_type": "execute_result"
    }
   ],
   "source": [
    "def palindrome(x):\n",
    "    x.lower\n",
    "    print(x)\n",
    "    if x == x[::-1]:\n",
    "       return True\n",
    "    else:\n",
    "       return False\n",
    "    \n",
    "\n",
    "palindrome('madam')"
   ]
  },
  {
   "cell_type": "code",
   "execution_count": 53,
   "metadata": {},
   "outputs": [
    {
     "data": {
      "text/plain": [
       "True"
      ]
     },
     "execution_count": 53,
     "metadata": {},
     "output_type": "execute_result"
    }
   ],
   "source": [
    "def anagram(x):\n",
    "    y = x.split(',')\n",
    "    if sorted(y[0]) == sorted(y[1]):\n",
    "         return True\n",
    "    else:\n",
    "         return False\n",
    "    \n",
    "    \n",
    "\n",
    "\n",
    "\n",
    "anagram('salat,atlas')"
   ]
  },
  {
   "cell_type": "code",
   "execution_count": 65,
   "metadata": {},
   "outputs": [
    {
     "data": {
      "text/plain": [
       "[]"
      ]
     },
     "execution_count": 65,
     "metadata": {},
     "output_type": "execute_result"
    }
   ],
   "source": [
    "a = ['abc','hello', 'hi', 'what', 'hello', 'so']\n",
    "    \n",
    "for i in a:\n",
    " if a.count(i) >= 2:\n",
    "    print(i)\n",
    "\n",
    "\n",
    "\n",
    "\n",
    "\n",
    "\n",
    "def aaa(x): \n",
    "    i = 0 \n",
    "    mylist = []\n",
    "    while i > len(a):\n",
    "        a[i] == a[i+1]\n",
    "        mylist.append(a[i])\n",
    "        i += 1 \n",
    "    return mylist\n",
    "    \n",
    "\n",
    "    # for i in a:\n",
    "    #     a[len(a)]\n",
    "\n",
    "\n",
    "\n",
    "aaa(a)\n"
   ]
  },
  {
   "cell_type": "code",
   "execution_count": 83,
   "metadata": {},
   "outputs": [
    {
     "name": "stdout",
     "output_type": "stream",
     "text": [
      "{'Sarodr': 200.0, 'davron': 300.0}\n",
      "Winner is davron\n"
     ]
    }
   ],
   "source": [
    "name = input('What is your name?')\n",
    "bid = float(input('What is your bid?'))\n",
    "next_person = input('Is there anyone else? ').lower()\n",
    "\n",
    "mydict = {name:bid}\n",
    "def changer(name,bid):\n",
    "    mydict[name] = bid\n",
    "\n",
    "while  True:\n",
    "    if  next_person == 'yes':\n",
    "        name = input('What is your name?')\n",
    "        bid = float(input('What is your bid?'))\n",
    "        next_person = input('Is there anyone else? ')\n",
    "        changer(name,bid)\n",
    "    else:\n",
    "        break\n",
    "\n",
    "#step 4\n",
    "max_bid = 0\n",
    "for i in mydict:\n",
    "      if mydict[i] > max_bid:\n",
    "        max_bid = mydict[i]\n",
    "        winner = i \n",
    "\n",
    "\n",
    "\n",
    "\n",
    "print(mydict)\n",
    "print(f'Winner is {i}')    \n",
    "\n",
    "\n"
   ]
  },
  {
   "cell_type": "code",
   "execution_count": null,
   "metadata": {},
   "outputs": [],
   "source": []
  }
 ],
 "metadata": {
  "kernelspec": {
   "display_name": "Python 3",
   "language": "python",
   "name": "python3"
  },
  "language_info": {
   "codemirror_mode": {
    "name": "ipython",
    "version": 3
   },
   "file_extension": ".py",
   "mimetype": "text/x-python",
   "name": "python",
   "nbconvert_exporter": "python",
   "pygments_lexer": "ipython3",
   "version": "3.12.8"
  }
 },
 "nbformat": 4,
 "nbformat_minor": 2
}
