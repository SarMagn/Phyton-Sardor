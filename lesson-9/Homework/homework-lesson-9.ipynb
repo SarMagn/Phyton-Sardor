{
 "cells": [
  {
   "cell_type": "markdown",
   "metadata": {},
   "source": [
    "Maps"
   ]
  },
  {
   "cell_type": "code",
   "execution_count": 2,
   "metadata": {},
   "outputs": [
    {
     "data": {
      "text/plain": [
       "[3, 6, 9, 12, 15, 18, 21]"
      ]
     },
     "execution_count": 2,
     "metadata": {},
     "output_type": "execute_result"
    }
   ],
   "source": [
    "#1\n",
    "\n",
    "mylist = [1,2,3,4,5,6,7]\n",
    "\n",
    "x = list(map(lambda x: x * 3,mylist))\n",
    "x"
   ]
  },
  {
   "cell_type": "code",
   "execution_count": 5,
   "metadata": {},
   "outputs": [
    {
     "data": {
      "text/plain": [
       "[12, 15, 18]"
      ]
     },
     "execution_count": 5,
     "metadata": {},
     "output_type": "execute_result"
    }
   ],
   "source": [
    "#2\n",
    "\n",
    "first_list = [1,2,3]\n",
    "second_list = [4,5,6]\n",
    "third_list = [7,8,9]\n",
    "\n",
    "alls = list(map(lambda x,y,z: x + y + z, first_list,second_list,third_list ))\n",
    "alls\n"
   ]
  },
  {
   "cell_type": "code",
   "execution_count": 8,
   "metadata": {},
   "outputs": [
    {
     "data": {
      "text/plain": [
       "[['r', 'e', 'd'],\n",
       " ['b', 'l', 'u', 'e'],\n",
       " ['b', 'l', 'a', 'c', 'k'],\n",
       " ['w', 'h', 'i', 't', 'e'],\n",
       " ['p', 'i', 'n', 'k']]"
      ]
     },
     "execution_count": 8,
     "metadata": {},
     "output_type": "execute_result"
    }
   ],
   "source": [
    "#3\n",
    "\n",
    "color = ['red','blue','black','white','pink']\n",
    "listt = list(map(list,color))\n",
    "listt"
   ]
  },
  {
   "cell_type": "code",
   "execution_count": 9,
   "metadata": {},
   "outputs": [
    {
     "data": {
      "text/plain": [
       "[10,\n",
       " 400,\n",
       " 27000,\n",
       " 2560000,\n",
       " 312500000,\n",
       " 46656000000,\n",
       " 8235430000000,\n",
       " 1677721600000000,\n",
       " 387420489000000000,\n",
       " 100000000000000000000]"
      ]
     },
     "execution_count": 9,
     "metadata": {},
     "output_type": "execute_result"
    }
   ],
   "source": [
    "#4\n",
    "bases_num = [10, 20, 30, 40, 50, 60, 70, 80, 90, 100]\n",
    "index = [1, 2, 3, 4, 5, 6, 7, 8, 9, 10]\n",
    "\n",
    "power = list(map(lambda x,y : x ** y,bases_num,index))\n",
    "power"
   ]
  },
  {
   "cell_type": "code",
   "execution_count": 16,
   "metadata": {},
   "outputs": [
    {
     "name": "stdout",
     "output_type": "stream",
     "text": [
      "[16, 25, 36, 81]\n"
     ]
    }
   ],
   "source": [
    "#5 \n",
    "\n",
    "mylist = [4,5,6,9]\n",
    "def squarer(n):\n",
    "    return n * n \n",
    "\n",
    "result = list(map(squarer,mylist))\n",
    "\n",
    "print(result)"
   ]
  },
  {
   "cell_type": "code",
   "execution_count": 27,
   "metadata": {},
   "outputs": [
    {
     "name": "stdout",
     "output_type": "stream",
     "text": [
      "{('E', 'e'), ('O', 'o'), ('U', 'u'), ('F', 'f'), ('I', 'i'), ('B', 'b'), ('A', 'a')}\n",
      "(\"{'O', 'U', 'I', 'E', 'B', 'A', 'F'}\", \"{'o', 'u', 'i', 'e', 'b', 'a', 'f'}\")\n"
     ]
    }
   ],
   "source": [
    "#6\n",
    "\n",
    "chars = {'a','b','E','f','a','i','o','U','a'}\n",
    "\n",
    "def changer(x):\n",
    "    return str(x).upper() , str(x).lower()\n",
    "\n",
    "\n",
    "maa = set(map(changer,chars))\n",
    "\n",
    "print(maa)\n",
    "print(changer(chars))"
   ]
  },
  {
   "cell_type": "code",
   "execution_count": 29,
   "metadata": {},
   "outputs": [
    {
     "name": "stdout",
     "output_type": "stream",
     "text": [
      "[(6, 6), (6, 4), (10, -4), (16, 2)]\n"
     ]
    }
   ],
   "source": [
    "#7\n",
    "\n",
    "first_list = [6,5,3,9]\n",
    "second_list = [0,1,7,7]\n",
    "\n",
    "def diff(x, y):\n",
    "    return x + y , x - y\n",
    "\n",
    "\n",
    "result = list(map(diff,first_list, second_list))\n",
    "print(result)\n"
   ]
  },
  {
   "cell_type": "code",
   "execution_count": 33,
   "metadata": {},
   "outputs": [
    {
     "name": "stdout",
     "output_type": "stream",
     "text": [
      "['1', '2', '3', '4']\n",
      "('0', '1', '2', '3')\n"
     ]
    }
   ],
   "source": [
    "#8\n",
    "\n",
    "num_list = [1,2,3,4]\n",
    "num_tupel = (0,1,2,3)\n",
    "\n",
    "# def change4(x):\n",
    "#     return str(x) \n",
    "\n",
    "# result = list(map(change4,num_list))\n",
    "# print(result)\n",
    "# result2 = tuple(map(change4,num_tupel))\n",
    "# print(result2)\n",
    "\n",
    "result = list(map(str,num_list))\n",
    "print(result)\n",
    "answer = tuple(map(str,num_tupel))\n",
    "print(answer)\n",
    "\n",
    "\n",
    "\n"
   ]
  },
  {
   "cell_type": "code",
   "execution_count": 35,
   "metadata": {},
   "outputs": [
    {
     "name": "stdout",
     "output_type": "stream",
     "text": [
      "Student name: \n",
      "['Alberto Franco', 'Gino Mcneill', 'Ryan Parkes', 'Eesha Hinton']\n",
      "Student birth date: \n",
      "['15/05/2002', '17/05/2002', '16/02/1999', '25/09/1998']\n",
      "Student weight: \n",
      "['35', '37', '39', '35']\n"
     ]
    }
   ],
   "source": [
    "#9\n",
    "\n",
    "student_data  = [('Alberto Franco','15/05/2002','35kg'), ('Gino Mcneill','17/05/2002','37kg'), ('Ryan Parkes','16/02/1999', '39kg'), ('Eesha Hinton','25/09/1998', '35kg')]\n",
    "\n",
    "student_name = list(map(lambda x : x[0],student_data))\n",
    "student_year = list(map(lambda x : x[1],student_data))\n",
    "student_weight = list(map(lambda x : x[2][0:2],student_data))\n",
    "\n",
    "print('Student name: ')\n",
    "print(student_name)\n",
    "print('Student birth date: ')\n",
    "print(student_year)\n",
    "print('Student weight: ')\n",
    "print(student_weight)"
   ]
  },
  {
   "cell_type": "code",
   "execution_count": null,
   "metadata": {},
   "outputs": [],
   "source": [
    "#10\n",
    "\n",
    "def"
   ]
  },
  {
   "cell_type": "code",
   "execution_count": 42,
   "metadata": {},
   "outputs": [
    {
     "data": {
      "text/plain": [
       "0"
      ]
     },
     "execution_count": 42,
     "metadata": {},
     "output_type": "execute_result"
    }
   ],
   "source": [
    "#11\n",
    "from array import array\n",
    "\n",
    "nums = array('i', [1, 2, 3, 4, 5, -15])\n",
    "# result = sum(nums)\n",
    "# result\n",
    "\n",
    "maa = list(map(int,nums))\n",
    "result = sum(maa)\n",
    "result"
   ]
  },
  {
   "cell_type": "code",
   "execution_count": 46,
   "metadata": {},
   "outputs": [
    {
     "data": {
      "text/plain": [
       "(0.54, 0.15, 0.31)"
      ]
     },
     "execution_count": 46,
     "metadata": {},
     "output_type": "execute_result"
    }
   ],
   "source": [
    "#12\n",
    "\n",
    "from array import array \n",
    "\n",
    "nums = array('i', [0,1,2,-1,-5,6,0,-3,-2,3,4,6,8])\n",
    "\n",
    "def ratio(x):\n",
    "    n = len(nums)   # ratio ni topish uchun nechta raqam borligi kerak\n",
    "    n1 = 0 \n",
    "    n2 = 0\n",
    "    n3 = 0\n",
    "    for i in nums:\n",
    "        if i < 0:\n",
    "            n1 = n1 + 1\n",
    "        elif i == 0:\n",
    "            n2 = n2 + 1 \n",
    "        else: \n",
    "            n3 = n3 + 1\n",
    "\n",
    "    return round(n3/n,2) , round(n2/n,2) , round(n1 / n,2)\n",
    "\n",
    "ratio(nums)"
   ]
  },
  {
   "cell_type": "code",
   "execution_count": 49,
   "metadata": {},
   "outputs": [
    {
     "name": "stdout",
     "output_type": "stream",
     "text": [
      "4\n"
     ]
    }
   ],
   "source": [
    "#13\n",
    "\n",
    "first_list = [1,2,3,4,5,6,7,8]\n",
    "second_list = [2,2,3,1,2,6,7,9]\n",
    "\n",
    "result = list(map(lambda x, y : x == y, first_list, second_list))\n",
    "print(sum(result))"
   ]
  },
  {
   "cell_type": "code",
   "execution_count": 65,
   "metadata": {},
   "outputs": [
    {
     "name": "stdout",
     "output_type": "stream",
     "text": [
      "[3, 2, 8, 7, 7, 1, 9, 9, 4, 4, 3, 3, 8, 8]\n"
     ]
    }
   ],
   "source": [
    "#14\n",
    "import random\n",
    "first_list = [1,2,7,8,3,7]\n",
    "second_list = [4,3,8,9,4,3,8,9]\n",
    "result = first_list + second_list\n",
    "random.shuffle(result)\n",
    "print(result)\n"
   ]
  },
  {
   "cell_type": "code",
   "execution_count": 82,
   "metadata": {},
   "outputs": [
    {
     "name": "stdout",
     "output_type": "stream",
     "text": [
      "[{'Science': 88, 'Language': 77}, {'Science': 89, 'Language': 78}, {'Science': 62, 'Language': 4}, {'Science': 95, 'Language': 80}]\n"
     ]
    }
   ],
   "source": [
    "#15\n",
    "\n",
    "mydict = {'Science':[88,89,62,95], 'Language':[77,78,4,80]}\n",
    "\n",
    "def myfunction(keys , values):\n",
    "    return dict(zip(keys , values))\n",
    "\n",
    "keys = list(mydict.keys())       \n",
    "\n",
    "\n",
    "result = list(map(lambda x: myfunction(keys, x),zip(*mydict.values())))\n",
    "print(result)\n",
    "# print(list(zip(*mydict.values())))"
   ]
  },
  {
   "cell_type": "code",
   "execution_count": 84,
   "metadata": {},
   "outputs": [
    {
     "name": "stdout",
     "output_type": "stream",
     "text": [
      "[['R', 'e', 'd'], ['G', 'r', 'e', 'e', 'n'], ['B', 'l', 'a', 'c', 'k'], ['O', 'r', 'a', 'n', 'g', 'e']]\n"
     ]
    }
   ],
   "source": [
    "#16\n",
    "\n",
    "original_list = ['Red', 'Green', 'Black', 'Orange']\n",
    "\n",
    "result = list(map(list,original_list))\n",
    "print(result)"
   ]
  },
  {
   "cell_type": "code",
   "execution_count": 93,
   "metadata": {},
   "outputs": [
    {
     "data": {
      "text/plain": [
       "['Sheridan Gentry', 'Laila Mckee', 'Ahsan Rivas', 'Conna Gonzalez']"
      ]
     },
     "execution_count": 93,
     "metadata": {},
     "output_type": "execute_result"
    }
   ],
   "source": [
    "#17\n",
    "\n",
    "original_list = [('red' , 'pink'),('white','black'),('orange','green')]\n",
    "def joiner(x):\n",
    "    result = list(map(' '.join,x))\n",
    "    return result\n",
    "\n",
    "names = [('Sheridan', 'Gentry'), ('Laila', 'Mckee'), ('Ahsan', 'Rivas'), ('Conna', 'Gonzalez')]\n",
    "\n",
    "joiner(names)"
   ]
  },
  {
   "cell_type": "markdown",
   "metadata": {},
   "source": [
    "Filter functions"
   ]
  },
  {
   "cell_type": "code",
   "execution_count": 94,
   "metadata": {},
   "outputs": [
    {
     "name": "stdout",
     "output_type": "stream",
     "text": [
      "[1, 3, 5, 7, 9]\n"
     ]
    }
   ],
   "source": [
    "#1\n",
    "\n",
    "original_list = [1, 2, 3, 4, 5, 6, 7, 8, 9, 10]\n",
    "result = list(filter(lambda x : x % 2 != 0,original_list))\n",
    "print(result)"
   ]
  },
  {
   "cell_type": "code",
   "execution_count": 107,
   "metadata": {},
   "outputs": [
    {
     "data": {
      "text/plain": [
       "['H', 'P', 'F', 'L']"
      ]
     },
     "execution_count": 107,
     "metadata": {},
     "output_type": "execute_result"
    }
   ],
   "source": [
    "#2\n",
    "original_list =  ['Hello', 'w3resource', 'Python', 'Filter', 'Learning']\n",
    "\n",
    "result = list(filter(lambda x : x.isupper(), ''.join(original_list)))\n",
    "result"
   ]
  },
  {
   "cell_type": "code",
   "execution_count": 109,
   "metadata": {},
   "outputs": [
    {
     "data": {
      "text/plain": [
       "[20, 15, 24, 37, 23, 11, 7]"
      ]
     },
     "execution_count": 109,
     "metadata": {},
     "output_type": "execute_result"
    }
   ],
   "source": [
    "#3\n",
    "original_list = [20,15,24,37,23,11,7]\n",
    "\n",
    "def filtering_value(n):\n",
    "    result = list(filter(lambda x: x <= n, original_list))\n",
    "    return result\n",
    "\n",
    "filtering_value(37)"
   ]
  },
  {
   "cell_type": "code",
   "execution_count": 112,
   "metadata": {},
   "outputs": [
    {
     "data": {
      "text/plain": [
       "['Elita', 'Audovacar', 'Iolanda']"
      ]
     },
     "execution_count": 112,
     "metadata": {},
     "output_type": "execute_result"
    }
   ],
   "source": [
    "#4\n",
    "\n",
    "original_list = ['Elita', 'Vitold', 'Audovacar', 'Kerensa', 'Ramana', 'Iolanda', 'Landyn']\n",
    "x = ['A', 'E','I','O','U']\n",
    "result = list(filter(lambda y : y[0].upper() in x ,original_list))\n",
    "result"
   ]
  },
  {
   "cell_type": "code",
   "execution_count": 124,
   "metadata": {},
   "outputs": [
    {
     "data": {
      "text/plain": [
       "['w3resource', 'Filter', 'Python']"
      ]
     },
     "execution_count": 124,
     "metadata": {},
     "output_type": "execute_result"
    }
   ],
   "source": [
    "#5\n",
    "original_list = ['', 'w3resource', 'Filter', '', 'Python', '']\n",
    "result = []\n",
    "def empty_finder(original_list):\n",
    "    return original_list.strip() != ''\n",
    "    # for i in original_list:\n",
    "    #     if i.strip() == '':\n",
    "    #         pass\n",
    "    #     else:\n",
    "    #         result.append(i)\n",
    "    # return result\n",
    "\n",
    "solution = list(filter(empty_finder,original_list))\n",
    "solution"
   ]
  },
  {
   "cell_type": "code",
   "execution_count": 2,
   "metadata": {},
   "outputs": [
    {
     "data": {
      "text/plain": [
       "[{'name': 'Denis Helio', 'age': 17, 'grade': 97},\n",
       " {'name': 'Delores Aeneas', 'age': 17, 'grade': 100}]"
      ]
     },
     "execution_count": 2,
     "metadata": {},
     "output_type": "execute_result"
    }
   ],
   "source": [
    "#6\n",
    "\n",
    "students = [\n",
    "    {\"name\": \"Denis Helio\", \"age\": 17, \"grade\": 97},\n",
    "    {\"name\": \"Hania Mehtap\", \"age\": 16, \"grade\": 92},\n",
    "    {\"name\": \"Kelan Stasys\", \"age\": 17, \"grade\": 90},\n",
    "    {\"name\": \"Velvet Mirko\", \"age\": 16, \"grade\": 94},\n",
    "    {\"name\": \"Delores Aeneas\", \"age\": 17, \"grade\": 100},\n",
    "]\n",
    "\n",
    "\n",
    "result = list(filter(lambda x: x['grade']>= 95,students))\n",
    "result"
   ]
  },
  {
   "cell_type": "code",
   "execution_count": 5,
   "metadata": {},
   "outputs": [
    {
     "data": {
      "text/plain": [
       "[2, 3, 4, 5, 7, 8, 9, 10, 11, 13, 14, 15, 16, 17]"
      ]
     },
     "execution_count": 5,
     "metadata": {},
     "output_type": "execute_result"
    }
   ],
   "source": [
    "#7\n",
    "\n",
    "numbers = [1, 2, 3, 4, 5, 6, 7, 8, 9, 10, 11, 12, 13, 14, 15, 16, 17]\n",
    "\n",
    "def is_prime(x):\n",
    "    if x <= 1:\n",
    "        return False\n",
    "    if x <= 3:\n",
    "        return True\n",
    "    if x % 2 == 0 and x % 3 == 0:\n",
    "        return False\n",
    "    i = 5 \n",
    "    while i * i <= x:\n",
    "        if x % i == 0 or x(i +2) == 0:\n",
    "            return False\n",
    "        i += 6 \n",
    "    return True \n",
    "\n",
    "result = list(filter(is_prime,numbers))\n",
    "result\n"
   ]
  },
  {
   "cell_type": "code",
   "execution_count": 6,
   "metadata": {},
   "outputs": [
    {
     "data": {
      "text/plain": [
       "['Orange', 'Yellow']"
      ]
     },
     "execution_count": 6,
     "metadata": {},
     "output_type": "execute_result"
    }
   ],
   "source": [
    "#8\n",
    "words = [\"Red\", \"Green\", \"Orange\", \"White\", \"Black\", \"Pink\", \"Yellow\"]\n",
    "\n",
    "result = list(filter(lambda x : len(x) > 5, words ))\n",
    "result\n"
   ]
  },
  {
   "cell_type": "code",
   "execution_count": 7,
   "metadata": {},
   "outputs": [
    {
     "data": {
      "text/plain": [
       "['Black', 'Yellow']"
      ]
     },
     "execution_count": 7,
     "metadata": {},
     "output_type": "execute_result"
    }
   ],
   "source": [
    "#9\n",
    "\n",
    "strings = [\"Red\", \"Green\", \"Orange\", \"White\", \"Black\", \"Pink\", \"Yellow\"]\n",
    "substring = \"l\"\n",
    "\n",
    "result = list(filter(lambda x : substring in x, strings))\n",
    "result"
   ]
  },
  {
   "cell_type": "code",
   "execution_count": 13,
   "metadata": {},
   "outputs": [
    {
     "data": {
      "text/plain": [
       "['2025-12-31']"
      ]
     },
     "execution_count": 13,
     "metadata": {},
     "output_type": "execute_result"
    }
   ],
   "source": [
    "#10\n",
    "import datetime\n",
    "\n",
    "date_strings = [\"2023-07-11\", \"2022-02-22\", \"2024-05-11\", \"2025-12-31\", \"2021-01-01\"]\n",
    "\n",
    "currenttime = datetime.datetime.now()\n",
    "currenttime\n",
    "\n",
    "result = list(filter(lambda x: datetime.datetime.strptime(x, '%Y-%m-%d') > currenttime, date_strings))\n",
    "result"
   ]
  },
  {
   "cell_type": "code",
   "execution_count": 15,
   "metadata": {},
   "outputs": [
    {
     "data": {
      "text/plain": [
       "[('New York', 8500000),\n",
       " ('Los Angeles', 4000000),\n",
       " ('Chicago', 2700000),\n",
       " ('Houston', 2300000)]"
      ]
     },
     "execution_count": 15,
     "metadata": {},
     "output_type": "execute_result"
    }
   ],
   "source": [
    "#11\n",
    "\n",
    "cities = [\n",
    "    (\"New York\", 8500000),\n",
    "    (\"Los Angeles\", 4000000),\n",
    "    (\"Chicago\", 2700000),\n",
    "    (\"Houston\", 2300000),\n",
    "    (\"Phoenix\", 1600000),\n",
    "    (\"Philadelphia\", 1500000),\n",
    "    (\"San Antonio\", 1500000),\n",
    "]\n",
    "\n",
    "\n",
    "def population(x):\n",
    "    return x[1] >= 2000000\n",
    "\n",
    "result = list(filter(population,cities))\n",
    "result"
   ]
  }
 ],
 "metadata": {
  "kernelspec": {
   "display_name": "Python 3",
   "language": "python",
   "name": "python3"
  },
  "language_info": {
   "codemirror_mode": {
    "name": "ipython",
    "version": 3
   },
   "file_extension": ".py",
   "mimetype": "text/x-python",
   "name": "python",
   "nbconvert_exporter": "python",
   "pygments_lexer": "ipython3",
   "version": "3.12.8"
  }
 },
 "nbformat": 4,
 "nbformat_minor": 2
}
