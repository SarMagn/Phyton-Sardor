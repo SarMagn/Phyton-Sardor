{
 "cells": [
  {
   "attachments": {},
   "cell_type": "markdown",
   "metadata": {},
   "source": [
    "## Homework:\n",
    "\n",
    "### DataFrame 1: Student Grades"
   ]
  },
  {
   "cell_type": "code",
   "execution_count": 38,
   "metadata": {},
   "outputs": [
    {
     "name": "stdout",
     "output_type": "stream",
     "text": [
      "   Student_ID  Math  English  Science\n",
      "0           1    85       78       90\n",
      "1           2    90       85       92\n",
      "2           3    78       88       85\n",
      "3           4    92       80       88\n",
      "4           5    88       92       94\n",
      "5           6    95       87       79\n",
      "6           7    89       90       83\n",
      "7           8    79       84       91\n",
      "8           9    83       79       87\n",
      "9          10    91       88       89\n"
     ]
    }
   ],
   "source": [
    "import pandas as pd\n",
    "\n",
    "data1 = {\n",
    "    'Student_ID': [1, 2, 3, 4, 5, 6, 7, 8, 9, 10],\n",
    "    'Math': [85, 90, 78, 92, 88, 95, 89, 79, 83, 91],\n",
    "    'English': [78, 85, 88, 80, 92, 87, 90, 84, 79, 88],\n",
    "    'Science': [90, 92, 85, 88, 94, 79, 83, 91, 87, 89]\n",
    "}\n",
    "\n",
    "df1 = pd.DataFrame(data1)\n",
    "print(df1)"
   ]
  },
  {
   "attachments": {},
   "cell_type": "markdown",
   "metadata": {},
   "source": [
    "Exercise 1: Calculate the average grade for each student."
   ]
  },
  {
   "cell_type": "code",
   "execution_count": 23,
   "metadata": {},
   "outputs": [
    {
     "name": "stdout",
     "output_type": "stream",
     "text": [
      "0    84.333333\n",
      "1    89.000000\n",
      "2    83.666667\n",
      "3    86.666667\n",
      "4    91.333333\n",
      "5    87.000000\n",
      "6    87.333333\n",
      "7    84.666667\n",
      "8    83.000000\n",
      "9    89.333333\n",
      "Name: Average grade, dtype: float64 ['Student_ID']\n"
     ]
    }
   ],
   "source": [
    "df1['Average grade'] = df1[['Math','English','Science']].mean(axis=1)\n",
    "print(df1['Average grade'],['Student_ID'])"
   ]
  },
  {
   "cell_type": "markdown",
   "metadata": {},
   "source": [
    "Exercise 2: Find the student with the highest average grade."
   ]
  },
  {
   "cell_type": "code",
   "execution_count": 32,
   "metadata": {},
   "outputs": [
    {
     "name": "stdout",
     "output_type": "stream",
     "text": [
      "Max_average_grade: 91.33333333333333\n"
     ]
    }
   ],
   "source": [
    "max_student = df1['Average grade'].max().max()\n",
    "print('Max_average_grade:',max_student)"
   ]
  },
  {
   "cell_type": "markdown",
   "metadata": {},
   "source": [
    "\n",
    "Exercise 3: Create a new column 'Total' representing the total marks obtained by each student.\n"
   ]
  },
  {
   "cell_type": "code",
   "execution_count": 35,
   "metadata": {},
   "outputs": [
    {
     "name": "stdout",
     "output_type": "stream",
     "text": [
      "   Student_ID  Total_grades\n",
      "0           1           253\n",
      "1           2           267\n",
      "2           3           251\n",
      "3           4           260\n",
      "4           5           274\n",
      "5           6           261\n",
      "6           7           262\n",
      "7           8           254\n",
      "8           9           249\n",
      "9          10           268\n"
     ]
    }
   ],
   "source": [
    "df1['Total_grades'] = df1[['Math','Science','English']].sum(axis=1)\n",
    "print(df1[['Student_ID','Total_grades']])"
   ]
  },
  {
   "cell_type": "markdown",
   "metadata": {},
   "source": [
    "\n",
    "Exercise 4: Plot a bar chart to visualize the average grades in each subject.\n"
   ]
  },
  {
   "cell_type": "code",
   "execution_count": 40,
   "metadata": {},
   "outputs": [
    {
     "name": "stdout",
     "output_type": "stream",
     "text": [
      "0    84.333333\n",
      "1    89.000000\n",
      "2    83.666667\n",
      "3    86.666667\n",
      "4    91.333333\n",
      "5    87.000000\n",
      "6    87.333333\n",
      "7    84.666667\n",
      "8    83.000000\n",
      "9    89.333333\n",
      "Name: Average_grade_per_Subject, dtype: float64\n"
     ]
    }
   ],
   "source": [
    "df1['Average_grade_per_Subject'] = df1[['Math','Science','English']].mean(axis=1)\n",
    "print(df1['Average_grade_per_Subject'])"
   ]
  },
  {
   "attachments": {},
   "cell_type": "markdown",
   "metadata": {},
   "source": [
    "### DataFrame 2: Sales Data"
   ]
  },
  {
   "cell_type": "code",
   "execution_count": 6,
   "metadata": {},
   "outputs": [],
   "source": [
    "import pandas as pd\n",
    "\n",
    "data2 = {\n",
    "    'Date': pd.date_range(start='2023-01-01', periods=10),\n",
    "    'Product_A': [120, 150, 130, 110, 140, 160, 135, 125, 145, 155],\n",
    "    'Product_B': [90, 110, 100, 80, 95, 105, 98, 88, 102, 112],\n",
    "    'Product_C': [75, 80, 85, 70, 88, 92, 78, 82, 87, 90]\n",
    "}\n",
    "\n",
    "df2 = pd.DataFrame(data2)"
   ]
  },
  {
   "attachments": {},
   "cell_type": "markdown",
   "metadata": {},
   "source": [
    "Exercise 1: Calculate the total sales for each product.\n",
    "\n",
    "Exercise 2: Find the date with the highest total sales.\n",
    "\n",
    "Exercise 3: Calculate the percentage change in sales for each product from the previous day.\n",
    "\n",
    "Exercise 4: Plot a line chart to visualize the sales trends for each product over time."
   ]
  },
  {
   "attachments": {},
   "cell_type": "markdown",
   "metadata": {},
   "source": [
    "### DataFrame 3: Employee Information"
   ]
  },
  {
   "cell_type": "code",
   "execution_count": 7,
   "metadata": {},
   "outputs": [],
   "source": [
    "import pandas as pd\n",
    "\n",
    "data3 = {\n",
    "    'Employee_ID': [101, 102, 103, 104, 105, 106, 107, 108, 109, 110],\n",
    "    'Name': ['Alice', 'Bob', 'Charlie', 'David', 'Emma', 'Frank', 'Grace', 'Hank', 'Ivy', 'Jack'],\n",
    "    'Department': ['HR', 'IT', 'Marketing', 'IT', 'Finance', 'HR', 'Marketing', 'IT', 'Finance', 'Marketing'],\n",
    "    'Salary': [60000, 75000, 65000, 80000, 70000, 72000, 68000, 78000, 69000, 76000],\n",
    "    'Experience (Years)': [3, 5, 2, 8, 4, 6, 3, 7, 2, 5]\n",
    "}\n",
    "\n",
    "df3 = pd.DataFrame(data3)"
   ]
  },
  {
   "attachments": {},
   "cell_type": "markdown",
   "metadata": {},
   "source": [
    "Exercise 1: Calculate the average salary for each department.\n",
    "\n",
    "Exercise 2: Find the employee with the most experience.\n",
    "\n",
    "Exercise 3: Create a new column 'Salary Increase' representing the percentage increase in salary from the minimum salary in the dataframe.\n",
    "\n",
    "Exercise 4: Plot a bar chart to visualize the distribution of employees across different departments."
   ]
  },
  {
   "attachments": {},
   "cell_type": "markdown",
   "metadata": {},
   "source": [
    "### DataFrame 4: Customer Orders"
   ]
  },
  {
   "cell_type": "code",
   "execution_count": 8,
   "metadata": {},
   "outputs": [],
   "source": [
    "import pandas as pd\n",
    "\n",
    "data4 = {\n",
    "    'Order_ID': [101, 102, 103, 104, 105, 106, 107, 108, 109, 110],\n",
    "    'Customer_ID': [201, 202, 203, 204, 205, 206, 207, 208, 209, 210],\n",
    "    'Product': ['A', 'B', 'A', 'C', 'B', 'C', 'A', 'C', 'B', 'A'],\n",
    "    'Quantity': [2, 3, 1, 4, 2, 3, 2, 5, 1, 3],\n",
    "    'Total_Price': [120, 180, 60, 240, 160, 270, 140, 300, 90, 180]\n",
    "}\n",
    "\n",
    "df4 = pd.DataFrame(data4)"
   ]
  },
  {
   "attachments": {},
   "cell_type": "markdown",
   "metadata": {},
   "source": [
    "Exercise 1: Calculate the total revenue from all orders.\n",
    "\n",
    "Exercise 2: Find the most ordered product.\n",
    "\n",
    "Exercise 3: Calculate the average quantity of products ordered.\n",
    "\n",
    "Exercise 4: Plot a pie chart to visualize the distribution of sales across different products."
   ]
  }
 ],
 "metadata": {
  "kernelspec": {
   "display_name": "Python 3",
   "language": "python",
   "name": "python3"
  },
  "language_info": {
   "codemirror_mode": {
    "name": "ipython",
    "version": 3
   },
   "file_extension": ".py",
   "mimetype": "text/x-python",
   "name": "python",
   "nbconvert_exporter": "python",
   "pygments_lexer": "ipython3",
   "version": "3.12.8"
  },
  "orig_nbformat": 4
 },
 "nbformat": 4,
 "nbformat_minor": 2
}
