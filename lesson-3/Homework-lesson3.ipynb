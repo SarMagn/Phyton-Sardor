{
 "cells": [
  {
   "cell_type": "code",
   "execution_count": 1,
   "metadata": {},
   "outputs": [
    {
     "name": "stdout",
     "output_type": "stream",
     "text": [
      "Wierd\n"
     ]
    }
   ],
   "source": [
    "n = int(input('Please! Enter the number!'))\n",
    "if n % 2 != 0: \n",
    "    print('Weird')\n",
    "elif n % 2 == 0 and 2 <= n <= 5:\n",
    "  print('Not Wierd')\n",
    "elif n % 2 == 0 and 6 <= n <= 20:\n",
    "  print('Wierd')\n",
    "elif n % 2 == 0 and n > 20:\n",
    "    print('Not Weird')\n",
    "else:\n",
    "   print('Bu son emas!')\n",
    "    "
   ]
  }
 ],
 "metadata": {
  "kernelspec": {
   "display_name": "Python 3",
   "language": "python",
   "name": "python3"
  },
  "language_info": {
   "codemirror_mode": {
    "name": "ipython",
    "version": 3
   },
   "file_extension": ".py",
   "mimetype": "text/x-python",
   "name": "python",
   "nbconvert_exporter": "python",
   "pygments_lexer": "ipython3",
   "version": "3.12.8"
  }
 },
 "nbformat": 4,
 "nbformat_minor": 2
}
