{
 "cells": [
  {
   "cell_type": "code",
   "execution_count": null,
   "metadata": {},
   "outputs": [],
   "source": [
    "\n",
    "\n",
    "for i, char in enumerate"
   ]
  },
  {
   "cell_type": "code",
   "execution_count": 4,
   "metadata": {},
   "outputs": [
    {
     "ename": "SyntaxError",
     "evalue": "invalid syntax (1615805695.py, line 2)",
     "output_type": "error",
     "traceback": [
      "\u001b[1;36m  Cell \u001b[1;32mIn[4], line 2\u001b[1;36m\u001b[0m\n\u001b[1;33m    i[1] for i in matrix\u001b[0m\n\u001b[1;37m         ^\u001b[0m\n\u001b[1;31mSyntaxError\u001b[0m\u001b[1;31m:\u001b[0m invalid syntax\n"
     ]
    }
   ],
   "source": [
    "matrix = [[1,5,8],[5,9,2],[7,4,3]]\n",
    "i[1] for i in matrix\n",
    "        \n"
   ]
  },
  {
   "cell_type": "code",
   "execution_count": null,
   "metadata": {},
   "outputs": [],
   "source": [
    "def roman_to_num(roman):\n",
    "    roman_map = {'I': 1, 'V': 5, 'X': 10, 'L': 50, 'C': 100, 'D': 500, 'M': 1000}\n",
    "    previous_val = 0\n",
    "    result = 0\n",
    "\n",
    "    for char in roman:\n",
    "        curret_val=roman[char]\n",
    "\n",
    "        if curret_val > previous_val:\n",
    "            \n",
    "\n",
    "\n",
    "\n",
    "\n",
    "roman_to_num('IX')"
   ]
  },
  {
   "cell_type": "code",
   "execution_count": 8,
   "metadata": {},
   "outputs": [
    {
     "name": "stdout",
     "output_type": "stream",
     "text": [
      "Meni ismim Sardor\n"
     ]
    }
   ],
   "source": [
    "def funksiya(fname):\n",
    "    fname = fname.capitalize()\n",
    "    print(f\"Meni ismim {fname}\")\n",
    "\n",
    "\n",
    "funksiya('sardor')"
   ]
  },
  {
   "cell_type": "code",
   "execution_count": 21,
   "metadata": {},
   "outputs": [
    {
     "name": "stdout",
     "output_type": "stream",
     "text": [
      "Bu meva juda mazali Banan\n"
     ]
    }
   ],
   "source": [
    "def myy1(meva):\n",
    "    print('Bu meva juda mazali ' +  meva )\n",
    "\n",
    "myy1('Banan')"
   ]
  },
  {
   "cell_type": "code",
   "execution_count": 26,
   "metadata": {},
   "outputs": [
    {
     "name": "stdout",
     "output_type": "stream",
     "text": [
      "Bularni yesa boladi Olma Sabzi Qovun\n"
     ]
    }
   ],
   "source": [
    "def my2(mevacha,sabzavot,poliz):\n",
    "    print ('Bularni yesa bo''ladi ' + mevacha,sabzavot,poliz)\n",
    "\n",
    "my2(mevacha = 'Olma',sabzavot = 'Sabzi', poliz = 'Qovun')"
   ]
  },
  {
   "cell_type": "code",
   "execution_count": null,
   "metadata": {},
   "outputs": [],
   "source": []
  },
  {
   "cell_type": "code",
   "execution_count": 30,
   "metadata": {},
   "outputs": [
    {
     "name": "stdout",
     "output_type": "stream",
     "text": [
      "My name is Sardor\n"
     ]
    }
   ],
   "source": [
    "def func(**name):\n",
    "    print('My name is ' + name['lname']  )\n",
    "\n",
    "\n",
    "\n",
    "func(fname = 'Ismatov', lname = 'Sardor')"
   ]
  },
  {
   "cell_type": "code",
   "execution_count": 32,
   "metadata": {},
   "outputs": [
    {
     "name": "stdout",
     "output_type": "stream",
     "text": [
      "Im from Norway\n",
      "Im from Uzbekistan\n",
      "Im from USA\n"
     ]
    }
   ],
   "source": [
    "def funcon(country = 'Uzbekistan'):\n",
    "    print('I''m from ' + country)\n",
    "\n",
    "funcon('Norway')\n",
    "funcon()\n",
    "funcon('USA')"
   ]
  },
  {
   "cell_type": "code",
   "execution_count": 39,
   "metadata": {},
   "outputs": [
    {
     "name": "stdout",
     "output_type": "stream",
     "text": [
      "car\n",
      "book\n",
      "computer\n",
      "ocean\n",
      "music\n"
     ]
    }
   ],
   "source": [
    "def loopfunction(micfruit):\n",
    "    for i in micfruit:\n",
    "     print(i)\n",
    "\n",
    "fruit = ['Apple', 'Banana', 'Orange','Sunlight']\n",
    "my_list = [\"car\", \"book\", \"computer\", \"ocean\", \"music\"]\n",
    "\n",
    "\n",
    "loopfunction(my_list)"
   ]
  },
  {
   "cell_type": "code",
   "execution_count": 48,
   "metadata": {},
   "outputs": [
    {
     "name": "stdout",
     "output_type": "stream",
     "text": [
      "11\n"
     ]
    }
   ],
   "source": [
    "def calculation1():\n",
    "    ab = input('Please enter 2 values').split(',')\n",
    "    num1 = int(ab[0])\n",
    "    num2 = int(ab[1])\n",
    "    return num1 + num2\n",
    "\n",
    "\n",
    "result = calculation1()\n",
    "print(result)"
   ]
  },
  {
   "cell_type": "code",
   "execution_count": 51,
   "metadata": {},
   "outputs": [
    {
     "name": "stdout",
     "output_type": "stream",
     "text": [
      "20\n",
      "30\n"
     ]
    }
   ],
   "source": [
    "def calcul(x):\n",
    "    return x * 10\n",
    "\n",
    "\n",
    "print(calcul(2))\n",
    "print(calcul(3))"
   ]
  },
  {
   "cell_type": "code",
   "execution_count": 77,
   "metadata": {},
   "outputs": [
    {
     "name": "stdout",
     "output_type": "stream",
     "text": [
      "You bought orange helicopter\n",
      "None\n"
     ]
    }
   ],
   "source": [
    "def toys(names, color, / ):\n",
    "    print(f'You bought {color} {names}' )\n",
    "\n",
    "\n",
    "\n",
    "result = toys('helicopter','orange')\n",
    "print(result)"
   ]
  },
  {
   "cell_type": "code",
   "execution_count": 80,
   "metadata": {},
   "outputs": [
    {
     "name": "stdout",
     "output_type": "stream",
     "text": [
      "You bought helicopter orange\n",
      "None\n"
     ]
    }
   ],
   "source": [
    "def untoys(names, color):\n",
    "    print(f'You bought {color} {names}' )\n",
    "\n",
    "\n",
    "print(untoys('orange','helicopter'))"
   ]
  },
  {
   "cell_type": "code",
   "execution_count": 79,
   "metadata": {},
   "outputs": [
    {
     "name": "stdout",
     "output_type": "stream",
     "text": [
      "You bought orange helicopter\n"
     ]
    }
   ],
   "source": [
    "def toys(names, color, / ):\n",
    "    print(f'You bought {color} {names}' )\n",
    "\n",
    "\n",
    "\n",
    "result = toys('helicopter','orange')"
   ]
  },
  {
   "cell_type": "code",
   "execution_count": null,
   "metadata": {},
   "outputs": [],
   "source": []
  }
 ],
 "metadata": {
  "kernelspec": {
   "display_name": "Python 3",
   "language": "python",
   "name": "python3"
  },
  "language_info": {
   "codemirror_mode": {
    "name": "ipython",
    "version": 3
   },
   "file_extension": ".py",
   "mimetype": "text/x-python",
   "name": "python",
   "nbconvert_exporter": "python",
   "pygments_lexer": "ipython3",
   "version": "3.12.8"
  }
 },
 "nbformat": 4,
 "nbformat_minor": 2
}
