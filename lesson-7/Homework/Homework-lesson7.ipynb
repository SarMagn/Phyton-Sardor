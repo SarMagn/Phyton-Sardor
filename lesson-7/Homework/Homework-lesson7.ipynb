{
 "cells": [
  {
   "cell_type": "markdown",
   "metadata": {},
   "source": [
    "Homeworks "
   ]
  },
  {
   "cell_type": "code",
   "execution_count": 20,
   "metadata": {},
   "outputs": [
    {
     "data": {
      "text/plain": [
       "2233"
      ]
     },
     "execution_count": 20,
     "metadata": {},
     "output_type": "execute_result"
    }
   ],
   "source": [
    "#1\n",
    "def maxnum(a,b,c):\n",
    "    # num1 = int(a)\n",
    "    # num2 = int(b)\n",
    "    # num3 = int(c)\n",
    "    return max(a,b,c)\n",
    "\n",
    "maxnum(93,623,2233)"
   ]
  },
  {
   "cell_type": "code",
   "execution_count": 22,
   "metadata": {},
   "outputs": [
    {
     "data": {
      "text/plain": [
       "20"
      ]
     },
     "execution_count": 22,
     "metadata": {},
     "output_type": "execute_result"
    }
   ],
   "source": [
    "#2\n",
    "def sumx(x):\n",
    "    return sum(x)\n",
    "\n",
    "x = (8,2,3,0,7)\n",
    "\n",
    "sumx(x)\n"
   ]
  },
  {
   "cell_type": "code",
   "execution_count": 57,
   "metadata": {},
   "outputs": [
    {
     "name": "stdout",
     "output_type": "stream",
     "text": [
      "<class 'int'>\n",
      "<class 'int'>\n",
      "<class 'int'>\n",
      "<class 'int'>\n"
     ]
    },
    {
     "data": {
      "text/plain": [
       "12"
      ]
     },
     "execution_count": 57,
     "metadata": {},
     "output_type": "execute_result"
    }
   ],
   "source": [
    "#2 \n",
    "def sumx1(x):\n",
    "    total = 0\n",
    "    for i in x:\n",
    "        total = total + i\n",
    "    return total\n",
    "\n",
    "sumx1([1,2,3,6])\n",
    "\n"
   ]
  },
  {
   "cell_type": "code",
   "execution_count": 45,
   "metadata": {},
   "outputs": [
    {
     "data": {
      "text/plain": [
       "30"
      ]
     },
     "execution_count": 45,
     "metadata": {},
     "output_type": "execute_result"
    }
   ],
   "source": [
    "#3 \n",
    "def multix(x):\n",
    "    total = 1\n",
    "    for i in x:\n",
    "         total *= i \n",
    "    return total\n",
    "\n",
    "\n",
    "multix((2,3,5))"
   ]
  },
  {
   "cell_type": "code",
   "execution_count": 58,
   "metadata": {},
   "outputs": [
    {
     "data": {
      "text/plain": [
       "'molaS'"
      ]
     },
     "execution_count": 58,
     "metadata": {},
     "output_type": "execute_result"
    }
   ],
   "source": [
    "#4\n",
    " \n",
    "def reverser(a):\n",
    "    return a[::-1]\n",
    "\n",
    "reverser('Salom')"
   ]
  },
  {
   "cell_type": "code",
   "execution_count": 2,
   "metadata": {},
   "outputs": [
    {
     "data": {
      "text/plain": [
       "720"
      ]
     },
     "execution_count": 2,
     "metadata": {},
     "output_type": "execute_result"
    }
   ],
   "source": [
    "#5\n",
    "def factorial(x):\n",
    "    try:\n",
    "        if not isinstance(x,int) or x < 0:\n",
    "            print('Invalid input!')\n",
    "        elif isinstance(x,float):\n",
    "            print('Invalid input!!')  \n",
    "        else:     \n",
    "            total = 1\n",
    "            for i in range(1,(x+1)):\n",
    "                total *= i\n",
    "                 # print(total)\n",
    "            return total\n",
    "        # print(number)\n",
    "    except Exception:\n",
    "        return \"joke\"\n",
    "\n",
    "\n",
    "\n",
    "factorial(6)"
   ]
  },
  {
   "cell_type": "code",
   "execution_count": 8,
   "metadata": {},
   "outputs": [
    {
     "name": "stdout",
     "output_type": "stream",
     "text": [
      "Yes! the given number is in a range\n"
     ]
    }
   ],
   "source": [
    "#6\n",
    "\n",
    "def falling(number,Start,End):\n",
    "    if Start <= number <= End:\n",
    "        print('Yes! the given number is in a range')\n",
    "    else:\n",
    "        print('No!')\n",
    "\n",
    "\n",
    "falling(6,1,6)"
   ]
  },
  {
   "cell_type": "code",
   "execution_count": 18,
   "metadata": {},
   "outputs": [
    {
     "name": "stdout",
     "output_type": "stream",
     "text": [
      "Upper case chars: 4\n",
      "Lower case chars: 11\n"
     ]
    }
   ],
   "source": [
    "#7\n",
    "def counter(x):\n",
    "    counter1 = sum(1 for char in x if char.isupper())\n",
    "    counter2 = sum(1 for char in x if char.islower())\n",
    "    print(f'Upper case chars: {counter1}')  \n",
    "    print(f'Lower case chars: {counter2}')\n",
    "\n",
    "counter(\"The Quick Brow Fox\")"
   ]
  },
  {
   "cell_type": "code",
   "execution_count": 32,
   "metadata": {},
   "outputs": [
    {
     "data": {
      "text/plain": [
       "[1, 2, 3, 4, 5]"
      ]
     },
     "execution_count": 32,
     "metadata": {},
     "output_type": "execute_result"
    }
   ],
   "source": [
    "#8\n",
    "\n",
    "def distincter(x):\n",
    "    dis = set(x)\n",
    "    dis = list(dis)\n",
    "    return dis\n",
    "\n",
    "distincter([1,2,2,2,2,2,3,3,3,3,4,5])"
   ]
  },
  {
   "cell_type": "code",
   "execution_count": 61,
   "metadata": {},
   "outputs": [
    {
     "name": "stdout",
     "output_type": "stream",
     "text": [
      "Number 97 is prime\n"
     ]
    }
   ],
   "source": [
    "#9\n",
    "import math\n",
    "def primer(x):\n",
    "    if x == 0:\n",
    "       return print('This number is not a prime number')\n",
    "    elif x == 1:\n",
    "       return print('This number is not a prime number')\n",
    "    else:\n",
    "        for i in range(2,x):\n",
    "            if x % i == 0:\n",
    "             return print('This number is not a prime number')\n",
    "        return print(f'Number {x} is prime')\n",
    "\n",
    "\n",
    "\n",
    "    #     \n",
    "    # else: \n",
    "    #     \n",
    "\n",
    "\n",
    "primer(97)"
   ]
  },
  {
   "cell_type": "code",
   "execution_count": 69,
   "metadata": {},
   "outputs": [
    {
     "name": "stdout",
     "output_type": "stream",
     "text": [
      "[2, 4, 6, 8, 12, 14, 18, 20]\n"
     ]
    }
   ],
   "source": [
    "#10 \n",
    "def evener(x):\n",
    "        y = [i for i in x if i % 2 == 0] \n",
    "        print(y)\n",
    "\n",
    "\n",
    "evener([1,2,3,4,5,6,7,8,9,12,14,19,18,20])"
   ]
  },
  {
   "cell_type": "code",
   "execution_count": 89,
   "metadata": {},
   "outputs": [
    {
     "name": "stdout",
     "output_type": "stream",
     "text": [
      "28 is perfect number\n"
     ]
    }
   ],
   "source": [
    "#11\n",
    "def perfecter(x):\n",
    "    list = []\n",
    "    for i in range(1,x):\n",
    "        if x % i == 0:\n",
    "            list.append(i)\n",
    "    if sum(list) == x and sum(list,x) // 2 == x:\n",
    "        print(f'{x} is perfect number')\n",
    "    else:\n",
    "        print(f'{x} is not perfect number')\n",
    "    \n",
    "    \n",
    "\n",
    "perfecter(28)"
   ]
  },
  {
   "cell_type": "code",
   "execution_count": 96,
   "metadata": {},
   "outputs": [
    {
     "name": "stdout",
     "output_type": "stream",
     "text": [
      "Yes kayak is palindrome word\n"
     ]
    }
   ],
   "source": [
    "#12\n",
    "def palindrome(x):\n",
    "    if x == x[::-1]:\n",
    "        print(f'Yes {x} is palindrome word')\n",
    "    else:\n",
    "        print(f'{x} is not palindrome word')\n",
    "\n",
    "palindrome('kayak')    "
   ]
  },
  {
   "cell_type": "code",
   "execution_count": null,
   "metadata": {},
   "outputs": [],
   "source": [
    "#13\n",
    "def pascal(x):\n",
    "    for "
   ]
  },
  {
   "cell_type": "code",
   "execution_count": 97,
   "metadata": {},
   "outputs": [
    {
     "name": "stdout",
     "output_type": "stream",
     "text": [
      "[1]\n",
      "[1, 1]\n",
      "[1, 2, 1]\n",
      "[1, 3, 3, 1]\n",
      "[1, 4, 6, 4, 1]\n"
     ]
    }
   ],
   "source": [
    "print([1])\n",
    "print([1,1])\n",
    "print([1,2,1])\n",
    "print([1,3,3,1])\n",
    "print([1,4,6,4,1])"
   ]
  },
  {
   "cell_type": "code",
   "execution_count": 121,
   "metadata": {},
   "outputs": [
    {
     "name": "stdout",
     "output_type": "stream",
     "text": [
      "True\n",
      "True\n"
     ]
    }
   ],
   "source": [
    "#14\n",
    "def pangrams(x):\n",
    "    x = x.lower()\n",
    "    set1 = set()\n",
    "    for i in x:\n",
    "        if i.isalpha():  # bu faqatgina alphabetdagi harflarni olishga yordam beradi. \n",
    "         set1.add(i) \n",
    "    if len(set1) == 26:\n",
    "       return True\n",
    "    else:\n",
    "       return False\n",
    "    \n",
    "\n",
    "print(pangrams(\"The quick brown fox jumps over the lazy dog\"))\n",
    "print(pangrams(\"Pack my box with five dozen liquor jugs\"))"
   ]
  },
  {
   "cell_type": "code",
   "execution_count": 126,
   "metadata": {},
   "outputs": [
    {
     "data": {
      "text/plain": [
       "['apple', 'black', 'green', 'white', 'yellow']"
      ]
     },
     "execution_count": 126,
     "metadata": {},
     "output_type": "execute_result"
    }
   ],
   "source": [
    "#15\n",
    "def sorter(x):\n",
    "    x_sp = x.split('-')\n",
    "    y = sorted(x_sp)\n",
    "    z = '-'.join(y)\n",
    "    return y \n",
    "\n",
    "sorter('green-apple-yellow-black-white')\n"
   ]
  },
  {
   "cell_type": "code",
   "execution_count": 151,
   "metadata": {},
   "outputs": [
    {
     "data": {
      "text/plain": [
       "[1,\n",
       " 4,\n",
       " 9,\n",
       " 16,\n",
       " 25,\n",
       " 36,\n",
       " 49,\n",
       " 64,\n",
       " 81,\n",
       " 100,\n",
       " 121,\n",
       " 144,\n",
       " 169,\n",
       " 196,\n",
       " 225,\n",
       " 256,\n",
       " 289,\n",
       " 324,\n",
       " 361,\n",
       " 400,\n",
       " 441,\n",
       " 484,\n",
       " 529,\n",
       " 576,\n",
       " 625,\n",
       " 676,\n",
       " 729,\n",
       " 784,\n",
       " 841,\n",
       " 900]"
      ]
     },
     "execution_count": 151,
     "metadata": {},
     "output_type": "execute_result"
    }
   ],
   "source": [
    "#16\n",
    "def squareeer(x):\n",
    "    list = []\n",
    "    for i in range(1,x+1):\n",
    "        list.append(i ** 2)\n",
    "    return list \n",
    "\n",
    "squareeer(30)\n"
   ]
  },
  {
   "cell_type": "code",
   "execution_count": null,
   "metadata": {},
   "outputs": [],
   "source": [
    "#17\n",
    "def "
   ]
  },
  {
   "cell_type": "code",
   "execution_count": 139,
   "metadata": {},
   "outputs": [
    {
     "data": {
      "text/plain": [
       "'<b>Sardor</b>'"
      ]
     },
     "execution_count": 139,
     "metadata": {},
     "output_type": "execute_result"
    }
   ],
   "source": [
    "'<b>' + 'Sardor' + '</b>'"
   ]
  },
  {
   "cell_type": "code",
   "execution_count": 148,
   "metadata": {},
   "outputs": [
    {
     "name": "stdout",
     "output_type": "stream",
     "text": [
      "Hello World\n"
     ]
    }
   ],
   "source": [
    "#18\n",
    "def coder(x):\n",
    "    exec(x)\n",
    "\n",
    "coder(\"print('Hello World')\")"
   ]
  },
  {
   "cell_type": "code",
   "execution_count": 163,
   "metadata": {},
   "outputs": [],
   "source": [
    "#19\n",
    "def simple(a):\n",
    "    def simple1(b):\n",
    "        for i in range(0,a):\n",
    "            a = i + b \n",
    "        print(i)\n",
    "\n",
    "simple(3)"
   ]
  },
  {
   "cell_type": "code",
   "execution_count": 165,
   "metadata": {},
   "outputs": [
    {
     "name": "stdout",
     "output_type": "stream",
     "text": [
      "4\n"
     ]
    }
   ],
   "source": [
    "#20\n",
    "def variabledetecter():\n",
    "    a = 3434\n",
    "    b = \"2323\"\n",
    "    c = 24203 \n",
    "    d = 2332\n",
    "\n",
    "print(variabledetecter.__code__.co_nlocals)    "
   ]
  },
  {
   "cell_type": "code",
   "execution_count": 167,
   "metadata": {},
   "outputs": [
    {
     "name": "stdout",
     "output_type": "stream",
     "text": [
      "After some time\n"
     ]
    }
   ],
   "source": [
    "#21\n",
    "import time\n",
    "\n",
    "def timerfunction():\n",
    "    print('After some time')\n",
    "\n",
    "\n",
    "time.sleep(10)\n",
    "timerfunction()"
   ]
  },
  {
   "cell_type": "markdown",
   "metadata": {},
   "source": [
    "Lambda"
   ]
  },
  {
   "cell_type": "code",
   "execution_count": 5,
   "metadata": {},
   "outputs": [
    {
     "name": "stdout",
     "output_type": "stream",
     "text": [
      "18\n",
      "20\n"
     ]
    }
   ],
   "source": [
    "#1 \n",
    "\n",
    "x = lambda x : x + 15\n",
    "print(x(3))\n",
    "\n",
    "y = lambda x ,y : x * y\n",
    "print(y(4,5))\n"
   ]
  },
  {
   "cell_type": "code",
   "execution_count": 9,
   "metadata": {},
   "outputs": [
    {
     "name": "stdout",
     "output_type": "stream",
     "text": [
      "20\n",
      "30\n",
      "40\n",
      "50\n"
     ]
    }
   ],
   "source": [
    "#2 \n",
    "def multip(n):\n",
    "    return lambda x : x * n \n",
    "\n",
    "doubler = multip(2)\n",
    "tripler = multip(3)\n",
    "quadruple = multip(4)\n",
    "quintuple = multip(5)\n",
    "\n",
    "\n",
    "print(doubler(10))\n",
    "print(tripler(10))\n",
    "print(quadruple(10))\n",
    "print(quintuple(10))\n"
   ]
  },
  {
   "cell_type": "code",
   "execution_count": 24,
   "metadata": {},
   "outputs": [
    {
     "data": {
      "text/plain": [
       "[('Social sciences', 82), ('English', 88), ('Science', 90), ('Maths', 97)]"
      ]
     },
     "execution_count": 24,
     "metadata": {},
     "output_type": "execute_result"
    }
   ],
   "source": [
    "#3\n",
    "\n",
    "mylist = [('English', 88), ('Science', 90), ('Maths', 97), ('Social sciences', 82)]\n",
    "\n",
    "sortedlist = sorted(mylist, key=lambda x : x[1]) \n",
    "sortedlist\n"
   ]
  },
  {
   "cell_type": "code",
   "execution_count": 31,
   "metadata": {},
   "outputs": [
    {
     "data": {
      "text/plain": [
       "[{'make': 'Nokia', 'model': 216, 'color': 'Black'},\n",
       " {'make': 'Samsung', 'model': 7, 'color': 'Blue'},\n",
       " {'make': 'Mi Max', 'model': '2', 'color': 'Gold'}]"
      ]
     },
     "execution_count": 31,
     "metadata": {},
     "output_type": "execute_result"
    }
   ],
   "source": [
    "#4\n",
    "\n",
    "dictlist = [{'make': 'Nokia', 'model': 216, 'color': 'Black'}, {'make': 'Mi Max', 'model': '2', 'color': 'Gold'}, {'make': 'Samsung', 'model': 7, 'color': 'Blue'}]\n",
    "\n",
    "sorteddict = sorted(dictlist, key=lambda x : x[\"color\"] )\n",
    "sorteddict"
   ]
  },
  {
   "cell_type": "code",
   "execution_count": 38,
   "metadata": {},
   "outputs": [
    {
     "name": "stdout",
     "output_type": "stream",
     "text": [
      "Here is your even numbers: \n",
      "[2, 4, 6, 8, 10]\n",
      "Here is your odd numbers: \n",
      "[1, 3, 5, 7, 9]\n"
     ]
    }
   ],
   "source": [
    "#5 \n",
    "\n",
    "mylist = [1, 2, 3, 4, 5, 6, 7, 8, 9, 10]\n",
    "\n",
    "# x = lambda x : x[0::2]\n",
    "# y = lambda x : x[1::2]\n",
    "\n",
    "# print(x(mylist))\n",
    "# print(y(mylist))\n",
    "\n",
    "\n",
    "oddnumbers = list(filter(lambda x : x % 2 != 0, mylist) )\n",
    "evennumbers = list(filter(lambda x : x % 2 == 0, mylist))\n",
    "print(\"Here is your even numbers: \")\n",
    "print(evennumbers)\n",
    "print(\"Here is your odd numbers: \")\n",
    "print(oddnumbers)"
   ]
  },
  {
   "cell_type": "code",
   "execution_count": 58,
   "metadata": {},
   "outputs": [
    {
     "name": "stdout",
     "output_type": "stream",
     "text": [
      "[1, 4, 9, 16, 25, 36, 49, 64, 81, 100]\n",
      "[1, 8, 27, 64, 125, 216, 343, 512, 729, 1000]\n"
     ]
    }
   ],
   "source": [
    "#6 \n",
    "mylist = [1, 2, 3, 4, 5, 6, 7, 8, 9, 10]\n",
    "\n",
    "square = []\n",
    "cube = []\n",
    "\n",
    "for i in mylist:\n",
    "    square.append((lambda x : x ** 2 )(i))\n",
    "for n in mylist:\n",
    "    cube.append((lambda y : y ** 3)(n))\n",
    "\n",
    "\n",
    "print(square)\n",
    "print(cube)\n",
    "\n"
   ]
  },
  {
   "cell_type": "code",
   "execution_count": 75,
   "metadata": {},
   "outputs": [
    {
     "name": "stdout",
     "output_type": "stream",
     "text": [
      "True\n"
     ]
    }
   ],
   "source": [
    "#7\n",
    "def myfunction(x):\n",
    "    return lambda n : n[0] == x[0]\n",
    "\n",
    "givenstring= myfunction(\"davron\")\n",
    "\n",
    "print(givenstring('davron'))"
   ]
  },
  {
   "cell_type": "code",
   "execution_count": 104,
   "metadata": {},
   "outputs": [
    {
     "name": "stdout",
     "output_type": "stream",
     "text": [
      "2025\n",
      "1\n",
      "23\n",
      "11:00:53.575936\n"
     ]
    }
   ],
   "source": [
    "import datetime\n",
    "\n",
    "date = datetime.datetime.now()\n",
    "\n",
    "year = lambda x : x.year\n",
    "month = lambda x : x.month\n",
    "day = lambda x : x.day\n",
    "minut = lambda x : x.time()\n",
    "\n",
    "\n",
    "print(year(date))\n",
    "print(month(date))\n",
    "print(day(date))\n",
    "print(minut(date))"
   ]
  },
  {
   "cell_type": "code",
   "execution_count": 117,
   "metadata": {},
   "outputs": [
    {
     "name": "stdout",
     "output_type": "stream",
     "text": [
      "True\n"
     ]
    }
   ],
   "source": [
    "#9 \n",
    "check = lambda x : x.isdigit()\n",
    "\n",
    "print(check('5'))"
   ]
  },
  {
   "cell_type": "code",
   "execution_count": 124,
   "metadata": {},
   "outputs": [
    {
     "data": {
      "text/plain": [
       "[0, 1, 1, 2, 3]"
      ]
     },
     "execution_count": 124,
     "metadata": {},
     "output_type": "execute_result"
    }
   ],
   "source": [
    "#10\n",
    "def fibonachi(x):\n",
    "    starting = [0,1]\n",
    "    for i in range(2, x) :\n",
    "        starting.append(starting[-1] + starting[-2])  \n",
    "    return starting\n",
    "\n",
    "fibonachi(5)"
   ]
  },
  {
   "cell_type": "code",
   "execution_count": 126,
   "metadata": {},
   "outputs": [
    {
     "data": {
      "text/plain": [
       "[1, 2, 8, 9]"
      ]
     },
     "execution_count": 126,
     "metadata": {},
     "output_type": "execute_result"
    }
   ],
   "source": [
    "#11\n",
    " \n",
    "a = [1, 2, 3, 5, 7, 8, 9, 10]\n",
    "b = [1, 2, 4, 8, 9]\n",
    "\n",
    "c = list(filter(lambda x : x in a, b))\n",
    "\n",
    "c\n",
    "\n"
   ]
  },
  {
   "cell_type": "code",
   "execution_count": 129,
   "metadata": {},
   "outputs": [
    {
     "data": {
      "text/plain": [
       "[2, 5, 7, 8, 9, -1, -3, -10]"
      ]
     },
     "execution_count": 129,
     "metadata": {},
     "output_type": "execute_result"
    }
   ],
   "source": [
    "#12\n",
    "\n",
    "numbers = [-1, 2, -3, 5, 7, 8, 9, -10]\n",
    "\n",
    "result = sorted(numbers, key= lambda x : x < 0) \n",
    "result\n"
   ]
  },
  {
   "cell_type": "code",
   "execution_count": 135,
   "metadata": {},
   "outputs": [
    {
     "name": "stdout",
     "output_type": "stream",
     "text": [
      "Number of even numbers in the given list: 3\n",
      "Number of odd numbers in the given list: 5 \n"
     ]
    }
   ],
   "source": [
    "#13\n",
    "\n",
    "numbers = [1, 2, 3, 5, 7, 8, 9, 10]\n",
    "\n",
    "even = len(list(filter(lambda x : x % 2 == 0 , numbers)))\n",
    "odd = len(list(filter(lambda x : x % 2 != 0, numbers)))\n",
    "\n",
    "print(f'Number of even numbers in the given list: {even}')\n",
    "print(f'Number of odd numbers in the given list: {odd} ')"
   ]
  },
  {
   "cell_type": "code",
   "execution_count": 136,
   "metadata": {},
   "outputs": [
    {
     "data": {
      "text/plain": [
       "['Monday', 'Friday', 'Sunday']"
      ]
     },
     "execution_count": 136,
     "metadata": {},
     "output_type": "execute_result"
    }
   ],
   "source": [
    "#14\n",
    "mylist = ['Monday', 'Tuesday', 'Wednesday', 'Thursday', 'Friday', 'Saturday','Sunday']\n",
    "\n",
    "result = list(filter(lambda x : len(x) == 6, mylist ))\n",
    "\n",
    "result\n",
    "\n"
   ]
  },
  {
   "cell_type": "code",
   "execution_count": 140,
   "metadata": {},
   "outputs": [
    {
     "data": {
      "text/plain": [
       "[5, 7, 9]"
      ]
     },
     "execution_count": 140,
     "metadata": {},
     "output_type": "execute_result"
    }
   ],
   "source": [
    "#15\n",
    "a = [1,2,3]\n",
    "b = [4,5,6]\n",
    "\n",
    "c = list(map(lambda a, b : a + b, a , b))\n",
    "c"
   ]
  },
  {
   "cell_type": "code",
   "execution_count": null,
   "metadata": {},
   "outputs": [
    {
     "name": "stdout",
     "output_type": "stream",
     "text": [
      "Input number of students 3\n",
      "\n",
      "Students are : [['Sanjar', 3.0], ['Elmurdo', 4.0], ['Sardor', 5.0]]\n",
      "Second lowest grade is 4.0\n",
      "The students name is Sarvar\n"
     ]
    }
   ],
   "source": [
    "#16\n",
    "students = []\n",
    "sec_students = []\n",
    "\n",
    "n = int(input('Please, enter the number of students: '))\n",
    "\n",
    "for i in range(n):\n",
    "    names = input('Enter name: ')\n",
    "    grade = float(input('Enter the grade: '))\n",
    "    students.append([names, grade])\n",
    "\n",
    "\n",
    "\n",
    "sorted1 = sorted(students, key=lambda x : x[1])\n",
    "\n",
    "\n",
    "\n",
    "for i in range(n):\n",
    "    if sorted1[i][1] > sorted1[0][1]:\n",
    "       lowest = sorted1[i][1]\n",
    "       break\n",
    "\n",
    "sec_name = [x[0] for x in sorted1 if x[1] == lowest]\n",
    "\n",
    "\n",
    "print(f'Input number of students {n}')\n",
    "print(f'Students are : {srted}')\n",
    "print(f'Second lowest grade is {lowest}')\n",
    "for x in sec_name:    \n",
    "    print(f'The student'f's name is {x}')\n",
    "\n",
    "\n"
   ]
  },
  {
   "cell_type": "code",
   "execution_count": 28,
   "metadata": {},
   "outputs": [
    {
     "name": "stdout",
     "output_type": "stream",
     "text": [
      "[19, 65, 57, 39, 152, 190]\n",
      "[19, 57, 152, 190, 65, 39]\n",
      "[19, 65, 57, 39, 152, 190]\n"
     ]
    }
   ],
   "source": [
    "#17\n",
    "\n",
    "orglist = [19, 65, 57, 39, 152, 639, 121, 44, 90, 190]\n",
    "\n",
    "org2 = []\n",
    "\n",
    "for i in orglist:\n",
    "    if i % 19 == 0 or i % 13 == 0: \n",
    "        org2.append(i)\n",
    "    \n",
    "print(org2)\n",
    "\n",
    "#lambda\n",
    "\n",
    "x = list(filter(lambda x : x % 19 == 0, orglist)) + list(filter(lambda x : x % 13 == 0, orglist)) \n",
    "print(x)\n",
    "\n",
    "#lambda with or \n",
    "\n",
    "y = list(filter(lambda x : x % 19 == 0 or x % 13 == 0, orglist))\n",
    "print(y)\n"
   ]
  },
  {
   "cell_type": "code",
   "execution_count": 29,
   "metadata": {},
   "outputs": [
    {
     "data": {
      "text/plain": [
       "['php', 'aaa']"
      ]
     },
     "execution_count": 29,
     "metadata": {},
     "output_type": "execute_result"
    }
   ],
   "source": [
    "#18\n",
    "\n",
    "a = ['php', 'w3r', 'Python', 'abcd', 'Java', 'aaa']\n",
    "\n",
    "b = list(filter(lambda x : x == x[::-1], a))\n",
    "b\n",
    "\n"
   ]
  },
  {
   "cell_type": "code",
   "execution_count": 31,
   "metadata": {},
   "outputs": [
    {
     "data": {
      "text/plain": [
       "[]"
      ]
     },
     "execution_count": 31,
     "metadata": {},
     "output_type": "execute_result"
    }
   ],
   "source": [
    "a = ['bcda', 'abce', 'cbda', 'cbea', 'adcb']\n",
    "\n",
    "\n",
    "b = list(filter(lambda x : len(x) == len(x[1]) , a))\n",
    "b\n",
    "\n",
    "#loop \n"
   ]
  },
  {
   "cell_type": "code",
   "execution_count": 66,
   "metadata": {},
   "outputs": [
    {
     "data": {
      "text/plain": [
       "[4, 8, 12, 18, 22]"
      ]
     },
     "execution_count": 66,
     "metadata": {},
     "output_type": "execute_result"
    }
   ],
   "source": [
    "#21\n",
    "Original_list = [2, 4, 6, 9, 11]\n",
    "givennumber = 2\n",
    "\n",
    "multi = list(map(lambda x : x * givennumber,Original_list))\n",
    "\n",
    "multi\n",
    "\n"
   ]
  },
  {
   "cell_type": "code",
   "execution_count": 4,
   "metadata": {},
   "outputs": [
    {
     "name": "stdout",
     "output_type": "stream",
     "text": [
      "['Dylan', 'Diana', 'Joanne']\n",
      "16\n"
     ]
    }
   ],
   "source": [
    "#22\n",
    "\n",
    "names = ['sally', 'Dylan', 'rebecca', 'Diana', 'Joanne', 'keith']\n",
    "\n",
    "filtered = list(filter(lambda x : x[0].isupper(),names))\n",
    "print(filtered)\n",
    "\n",
    "lens = [len(i) for i in filtered]\n",
    "\n",
    "print(sum(lens))\n",
    "\n"
   ]
  },
  {
   "cell_type": "code",
   "execution_count": 10,
   "metadata": {},
   "outputs": [
    {
     "name": "stdout",
     "output_type": "stream",
     "text": [
      "48\n",
      "-32\n"
     ]
    }
   ],
   "source": [
    "#23\n",
    "originallist =  [2, 4, -6, -9, 11, -12, 14, -5, 17]\n",
    "\n",
    "p = list(filter(lambda x : x > 0, originallist))\n",
    "n = list(filter(lambda x : x < 0, originallist ))\n",
    "print(sum(p))\n",
    "print(sum(n))"
   ]
  },
  {
   "cell_type": "code",
   "execution_count": 44,
   "metadata": {},
   "outputs": [
    {
     "data": {
      "text/plain": [
       "[2, 3, 4, 5, 6, 7, 8, 9, 11, 12, 15, 22, 24]"
      ]
     },
     "execution_count": 44,
     "metadata": {},
     "output_type": "execute_result"
    }
   ],
   "source": [
    "#24\n",
    "\n",
    "def numberfind(n,m):\n",
    "    mylist = []\n",
    "    for i in range(n,m+1):\n",
    "        if len(str(i)) == 1:\n",
    "            mylist.append(i)\n",
    "        else: \n",
    "           digits = [ int(a) for a in list(str(i)) if  int(a) != 0 and i % int(a) == 0 ]  \n",
    "           if len(digits) == len(str(i)):\n",
    "            mylist.append(i)\n",
    "    return mylist\n",
    "numberfind(2,30) "
   ]
  },
  {
   "cell_type": "code",
   "execution_count": 111,
   "metadata": {},
   "outputs": [
    {
     "name": "stdout",
     "output_type": "stream",
     "text": [
      "['1', '2', '0']\n",
      "['2', '1', '0']\n"
     ]
    },
    {
     "data": {
      "text/plain": [
       "201"
      ]
     },
     "execution_count": 111,
     "metadata": {},
     "output_type": "execute_result"
    }
   ],
   "source": [
    "#25\n",
    "import random\n",
    "def bigger(n):\n",
    "    numberslist = list(str(n))\n",
    "    i = len(numberslist) - 2\n",
    "    while i >= 0 and numberslist[i] >= numberslist[i+1]:\n",
    "        i -= 1\n",
    "    if i == -1:\n",
    "        return 'No numbers found'\n",
    "    j = len(numberslist) - 1\n",
    "    while numberslist[j] <= numberslist[i]:\n",
    "        j -= 1 \n",
    "    print(numberslist)\n",
    "    numberslist[i],numberslist[j] = numberslist[j],numberslist[i]\n",
    "    print(numberslist)\n",
    "    numberslist = numberslist[:i+1] + sorted(numberslist[i + 1:])\n",
    "    return int(''.join(numberslist))\n",
    "\n",
    "   \n",
    "\n",
    "bigger(120)\n"
   ]
  },
  {
   "cell_type": "code",
   "execution_count": 145,
   "metadata": {},
   "outputs": [
    {
     "name": "stdout",
     "output_type": "stream",
     "text": [
      "('3', 13, 15, 17)\n",
      "('1', 0)\n"
     ]
    }
   ],
   "source": [
    "#26\n",
    "\n",
    "orglist = [[[0], [1, 3], [5, 7], [9, 11], [13, 15, 17]]]\n",
    "\n",
    "# x = list(filter(lambda x: len(x) > len(x) + 1,orglist))\n",
    "# x\n",
    "b = max(map(lambda x: len(x), [a for a in orglist[0]]))\n",
    "for i in orglist[0]:\n",
    "    if len(i) == b:\n",
    "        print(tuple(str(b)) + tuple(i)) \n",
    "c = min(map(lambda x: len(x), [a for a in orglist[0]]))\n",
    "for i in orglist[0]:\n",
    "    if len(i) == c:\n",
    "        print(tuple(str(c)) + tuple(i)) \n"
   ]
  },
  {
   "cell_type": "code",
   "execution_count": 149,
   "metadata": {},
   "outputs": [
    {
     "data": {
      "text/plain": [
       "[['green', 'orange'],\n",
       " ['black', 'white'],\n",
       " ['apple', 'black', 'orange', 'white']]"
      ]
     },
     "execution_count": 149,
     "metadata": {},
     "output_type": "execute_result"
    }
   ],
   "source": [
    "#27\n",
    "\n",
    "orglist = [['green', 'orange'], ['black', 'white'], ['white', 'black', 'orange','apple']]\n",
    "\n",
    "a = list(map(lambda x : sorted(x),[i for i in orglist]))\n",
    "a\n",
    "\n"
   ]
  },
  {
   "cell_type": "code",
   "execution_count": 156,
   "metadata": {},
   "outputs": [
    {
     "data": {
      "text/plain": [
       "[[0], [2], [0, 7], [1, 3], [9, 11], [13, 15, 17]]"
      ]
     },
     "execution_count": 156,
     "metadata": {},
     "output_type": "execute_result"
    }
   ],
   "source": [
    "#28\n",
    "\n",
    "orglist = [[2], [0], [1, 3], [0, 7], [9, 11], [13, 15, 17]]\n",
    "\n",
    "a = sorted(orglist, key=lambda x: (len(x), x))\n",
    "a\n"
   ]
  },
  {
   "cell_type": "code",
   "execution_count": 190,
   "metadata": {},
   "outputs": [
    {
     "name": "stdout",
     "output_type": "stream",
     "text": [
      "9\n"
     ]
    }
   ],
   "source": [
    "#29\n",
    "a = ['Python', 3, 2, 4, 5, 9, 'version']\n",
    "b = [i for i in a if isinstance(i, (int,float))]\n",
    "\n",
    "if b:\n",
    "    print(max(b))\n",
    "else:\n",
    "    print('No number found')\n",
    "\n",
    "\n"
   ]
  },
  {
   "cell_type": "code",
   "execution_count": 195,
   "metadata": {},
   "outputs": [
    {
     "name": "stdout",
     "output_type": "stream",
     "text": [
      "[[1, 1, 1], [1, 2, 3], [2, 4, 5]]\n",
      "[[-2, 4, -5], [1, -1, 1], [1, 2, 3]]\n"
     ]
    }
   ],
   "source": [
    "#30\n",
    "\n",
    "list1 = [[1, 2, 3], [2, 4, 5], [1, 1, 1]]\n",
    "slist = sorted(list1, key=lambda x: (sum(x)))\n",
    "print(slist)\n",
    "\n",
    "list2 = [[1, 2, 3], [-2, 4, -5], [1, -1, 1]]\n",
    "sorlist = sorted(list2, key= lambda x : sum(x))\n",
    "print(sorlist)"
   ]
  },
  {
   "cell_type": "code",
   "execution_count": 199,
   "metadata": {},
   "outputs": [
    {
     "name": "stdout",
     "output_type": "stream",
     "text": [
      "['Python']\n"
     ]
    }
   ],
   "source": [
    "#31\n",
    "\n",
    "orglist = ['Python', 'list', 'exercises', 'practice', 'solution']\n",
    "n = 6\n",
    "c = list(filter(lambda x: len(x) == n, orglist ))\n",
    "\n",
    "print(c)\n"
   ]
  },
  {
   "cell_type": "code",
   "execution_count": 202,
   "metadata": {},
   "outputs": [
    {
     "name": "stdout",
     "output_type": "stream",
     "text": [
      "3\n"
     ]
    }
   ],
   "source": [
    "#32\n",
    "\n",
    "orglist = [1, 'abcd', 3.12, 1.2, 4, 'xyz', 5, 'pqr', 7, -5, -12.22]\n",
    "a = [i for i in orglist if isinstance(i,float)]\n",
    "print(len(a))"
   ]
  },
  {
   "cell_type": "code",
   "execution_count": 235,
   "metadata": {},
   "outputs": [
    {
     "data": {
      "text/plain": [
       "False"
      ]
     },
     "execution_count": 235,
     "metadata": {},
     "output_type": "execute_result"
    }
   ],
   "source": [
    "#33\n",
    " \n",
    "def checker(x):\n",
    "    cheking = [ \n",
    "        lambda y: any(x.isupper() for x in y),  \n",
    "        lambda y: any(x.islower() for x in y),  \n",
    "        lambda y: any(x.isdigit() for x in y),  \n",
    "        lambda y: len(y) >= 8]\n",
    "    result = [i(x) for i in cheking ]\n",
    "\n",
    "    return all(result)\n",
    "\n",
    "\n",
    "checker('Wresources')"
   ]
  },
  {
   "cell_type": "code",
   "execution_count": 242,
   "metadata": {},
   "outputs": [
    {
     "name": "stdout",
     "output_type": "stream",
     "text": [
      "{'Cierra Vega': (6.2, 70)}\n",
      "dict_items([('Cierra Vega', (6.2, 70)), ('Alden Cantrell', (5.9, 65)), ('Kierra Gentry', (6.0, 68)), ('Pierre Cox', (5.8, 66))])\n"
     ]
    }
   ],
   "source": [
    "#34\n",
    "\n",
    "\n",
    "orgdict = {'Cierra Vega': (6.2, 70), 'Alden Cantrell': (5.9, 65), 'Kierra Gentry': (6.0, 68), 'Pierre Cox': (5.8, 66)}\n",
    "\n",
    "# for i in orgdict['Cierra Vega']:\n",
    "#     print(f'Height:')\n",
    "\n",
    "x = dict(filter(lambda x : (x[1][0],x[1][1]) > (6.0, 70),orgdict.items()))\n",
    "print(x)\n",
    "\n",
    "# print(orgdict.items())"
   ]
  },
  {
   "cell_type": "code",
   "execution_count": 252,
   "metadata": {},
   "outputs": [
    {
     "data": {
      "text/plain": [
       "True"
      ]
     },
     "execution_count": 252,
     "metadata": {},
     "output_type": "execute_result"
    }
   ],
   "source": [
    "#35\n",
    "\n",
    "orglist= [1, 2, 4, 6, 8, 10, 12, 14, 16, 17]\n",
    "orglist2 = [7, 2, 4, 6, 8, 10, 12, 14, 16, 17]\n",
    "\n",
    "if orglist2 == sorted(orglist2):\n",
    "    print(True)\n",
    "else: \n",
    "    print(False)\n",
    "# lambda\n"
   ]
  },
  {
   "cell_type": "code",
   "execution_count": 262,
   "metadata": {},
   "outputs": [
    {
     "name": "stdout",
     "output_type": "stream",
     "text": [
      "[99, 96, 94, 98]\n"
     ]
    }
   ],
   "source": [
    "#36\n",
    "orglist = [('Greyson Fulton', 98, 99), ('Brady Kent', 97, 96), ('Wyatt Knott', 91, 94), ('Beau Turnbull', 94, 98)]\n",
    "fin = []\n",
    "def finder(n):\n",
    "    for i in orglist:\n",
    "        fin.append(i[n])\n",
    "    return fin\n",
    "\n",
    "finder(2)\n",
    "\n",
    "# def finder22(x):\n",
    "#     y = list(map(lambda z : z[x],orglist))\n",
    "#     print(y)\n",
    "\n",
    "# finder22(2)"
   ]
  },
  {
   "cell_type": "code",
   "execution_count": 267,
   "metadata": {},
   "outputs": [
    {
     "data": {
      "text/plain": [
       "[('Beau Turnbull', 94, 98),\n",
       " ('Brady Kent', 97, 96),\n",
       " ('Greyson Fulton', 98, 99),\n",
       " ('Wyatt Knott', 91, 94)]"
      ]
     },
     "execution_count": 267,
     "metadata": {},
     "output_type": "execute_result"
    }
   ],
   "source": [
    "#37\n",
    "orglist = [('Greyson Fulton', 98, 99), ('Brady Kent', 97, 96), ('Wyatt Knott', 91, 94), ('Beau Turnbull', 94, 98)]\n",
    "\n",
    "def sorter(i):\n",
    "    result = sorted(orglist, key=lambda x: x[i])\n",
    "    return result\n",
    "\n",
    "sorter(0)"
   ]
  },
  {
   "cell_type": "code",
   "execution_count": 271,
   "metadata": {},
   "outputs": [
    {
     "name": "stdout",
     "output_type": "stream",
     "text": [
      "[1, 3, 5, 7, 9, 10]\n"
     ]
    }
   ],
   "source": [
    "#38\n",
    "\n",
    "first_list = [1, 2, 3, 4, 5, 6, 7, 8, 9, 10]\n",
    "second_list =  [2, 4, 6, 8]\n",
    "\n",
    "result  = list(filter(lambda x: x not in second_list, first_list ) )\n",
    "print(result)"
   ]
  },
  {
   "cell_type": "code",
   "execution_count": 2,
   "metadata": {},
   "outputs": [
    {
     "name": "stdout",
     "output_type": "stream",
     "text": [
      "['red', 'green']\n"
     ]
    }
   ],
   "source": [
    "#39\n",
    "orglist = ['red', 'black', 'white', 'green', 'orange']\n",
    "abd = 're'\n",
    "# def searcher(x):\n",
    "#     if lambda x : x in orglist:\n",
    "#         print(True)\n",
    "\n",
    "# searcher('abc')\n",
    "result = list(filter(lambda x : abd in x, orglist))\n",
    "print(result)\n",
    "\n",
    "\n",
    "# found = False\n",
    "\n",
    "# for i in orglist: \n",
    "#     result = list(filter(lambda x : x in i, abd))\n",
    "#     if result != []:\n",
    "#         print(i)\n",
    "#         found = True\n",
    "# if not found:\n",
    "#     print(\"Not found\")\n",
    "    "
   ]
  },
  {
   "cell_type": "code",
   "execution_count": 17,
   "metadata": {},
   "outputs": [
    {
     "data": {
      "text/plain": [
       "[[12], [7, 11], [1, 5, 8]]"
      ]
     },
     "execution_count": 17,
     "metadata": {},
     "output_type": "execute_result"
    }
   ],
   "source": [
    "#40\n",
    "\n",
    "original_lists = [1, 2, 3, 4, 5, 6, 7, 8, 9, 10, 11, 12, 13, 14]\n",
    "\n",
    "my_list = [[12, 18, 23, 25, 45], [7, 11, 19, 24, 28], [1, 5, 8, 18, 15, 16]]  \n",
    "\n",
    "# result = list(filter(lambda x : x in original_lists,my_list[0])),list(filter(lambda x : x in original_lists,my_list[1])),list(filter(lambda x : x in original_lists,my_list[2]))\n",
    "\n",
    "result = [list(filter(lambda a: a in original_lists, x)) for x in my_list ]\n",
    "\n",
    "\n",
    "result  \n",
    "\n"
   ]
  },
  {
   "cell_type": "code",
   "execution_count": 20,
   "metadata": {},
   "outputs": [
    {
     "data": {
      "text/plain": [
       "['deR', 'neerG', 'eulB', 'etihW', 'kcalB']"
      ]
     },
     "execution_count": 20,
     "metadata": {},
     "output_type": "execute_result"
    }
   ],
   "source": [
    "#41\n",
    "\n",
    "original_lists = ['Red', 'Green', 'Blue', 'White', 'Black']\n",
    "\n",
    "result = [i[::-1] for i in original_lists]\n",
    "result\n",
    "\n",
    "result1 = list(map(lambda x : x[::-1] , original_lists ))\n",
    "result1\n"
   ]
  },
  {
   "cell_type": "code",
   "execution_count": 46,
   "metadata": {},
   "outputs": [
    {
     "data": {
      "text/plain": [
       "4021.8599520000007"
      ]
     },
     "execution_count": 46,
     "metadata": {},
     "output_type": "execute_result"
    }
   ],
   "source": [
    "#42 \n",
    "\n",
    "original_list = [1, 2, 3, 4, 5, 6, 7, 8, 9, 10]\n",
    "\n",
    "def kopaytirish(x):\n",
    "    result = 1       \n",
    "    for i in x:\n",
    "        result = i * result\n",
    "    return result\n",
    "\n",
    "\n",
    "list2 = [2.2, 4.12, 6.6, 8.1, 8.3]\n",
    "\n",
    "kopaytirish(list2)\n"
   ]
  },
  {
   "cell_type": "code",
   "execution_count": 50,
   "metadata": {},
   "outputs": [
    {
     "data": {
      "text/plain": [
       "-864"
      ]
     },
     "execution_count": 50,
     "metadata": {},
     "output_type": "execute_result"
    }
   ],
   "source": [
    "#43\n",
    "from functools import reduce\n",
    "original_list = [4, 3, 2, 2, -1, 18]\n",
    "my_list = [2, 4, 8, 8, 3, 2, 9]\n",
    "\n",
    "result = 1\n",
    "for i in my_list:\n",
    "    result = result * i\n",
    "\n",
    "result\n",
    "\n",
    "result = reduce(lambda x,y : x * y, original_list)\n",
    "result"
   ]
  },
  {
   "cell_type": "code",
   "execution_count": 64,
   "metadata": {},
   "outputs": [
    {
     "data": {
      "text/plain": [
       "[30.5, 34.25, 27.0]"
      ]
     },
     "execution_count": 64,
     "metadata": {},
     "output_type": "execute_result"
    }
   ],
   "source": [
    "#44\n",
    "original_tuple = ((10, 10, 10), (30, 45, 56), (81, 80, 39), (1, 2, 3))\n",
    "\n",
    "zipped = tuple(zip(*original_tuple))\n",
    "result = [sum(i)/len(i) for i in zipped] \n",
    "result"
   ]
  },
  {
   "cell_type": "code",
   "execution_count": 75,
   "metadata": {},
   "outputs": [
    {
     "name": "stdout",
     "output_type": "stream",
     "text": [
      "(('233', '33'), ('1416', '55'), ('2345', '34'))\n"
     ]
    }
   ],
   "source": [
    "#45\n",
    "original_tuple = (('233', 'ABCD', '33'), ('1416', 'EFGH', '55'), ('2345', 'WERT', '34'))\n",
    "# New tuple values:\n",
    "# ((233, 33), (1416, 55), (2345, 34))\n",
    "\n",
    "result = tuple(tuple(filter(lambda x: x.isdigit() , i)) for i in original_tuple)\n",
    "\n",
    "print(result)\n",
    "\n"
   ]
  },
  {
   "cell_type": "code",
   "execution_count": 95,
   "metadata": {},
   "outputs": [
    {
     "name": "stdout",
     "output_type": "stream",
     "text": [
      "(5, 89)\n",
      "(3, 10.11)\n"
     ]
    }
   ],
   "source": [
    "# #46\n",
    "# Index position and value of the maximum value of the said list:\n",
    "# (5, 89)\n",
    "# Index position and value of the minimum value of the said list:\n",
    "# (3, 10.11)\n",
    "\n",
    "original_list = [12, 33, 23, 10.11, 67, 89, 45, 66.7, 23, 12, 11, 10.25, 54]\n",
    "\n",
    "for i in original_list:\n",
    "    if i == max(original_list):\n",
    "        result = (original_list.index(i) , i  )\n",
    "\n",
    "result\n",
    "\n",
    "for i in original_list:\n",
    "    if i == min(original_list):\n",
    "        answer = (original_list.index(i),i)\n",
    "\n",
    "print(result)\n",
    "print(answer)\n",
    "\n",
    "\n",
    "\n"
   ]
  },
  {
   "cell_type": "code",
   "execution_count": 100,
   "metadata": {},
   "outputs": [
    {
     "data": {
      "text/plain": [
       "[19, 12, 10, 1, 'red', 'green', 'blue', 'white', 'green']"
      ]
     },
     "execution_count": 100,
     "metadata": {},
     "output_type": "execute_result"
    }
   ],
   "source": [
    "#47\n",
    "\n",
    "original_list = [19, 'red', 12, 'green', 'blue', 10, 'white', 'green', 1]\n",
    "\n",
    "result = sorted(original_list, key=lambda x: (isinstance(x,str)))\n",
    "result\n"
   ]
  },
  {
   "cell_type": "code",
   "execution_count": 113,
   "metadata": {},
   "outputs": [
    {
     "data": {
      "text/plain": [
       "['-500', '-12', '0', '4', '7', '12', '45', '100', '200']"
      ]
     },
     "execution_count": 113,
     "metadata": {},
     "output_type": "execute_result"
    }
   ],
   "source": [
    "#48\n",
    "\n",
    "original_list = ['4', '12', '45', '7', '0', '100', '200', '-12', '-500']\n",
    "\n",
    "result = sorted(original_list, key= lambda x : int(x))\n",
    "\n",
    "result\n",
    "\n"
   ]
  },
  {
   "cell_type": "code",
   "execution_count": 139,
   "metadata": {},
   "outputs": [
    {
     "data": {
      "text/plain": [
       "{3: 4, 4: 2, 5: 3, 8: 2, 0: 2, 1: 1, 2: 2}"
      ]
     },
     "execution_count": 139,
     "metadata": {},
     "output_type": "execute_result"
    }
   ],
   "source": [
    "#49\n",
    "\n",
    "original_list = [3, 4, 5, 8, 0, 3, 8, 5, 0, 3, 1, 5, 2, 3, 4, 2]\n",
    "\n",
    "my_dict = {}\n",
    "for i in original_list:\n",
    "    if i in org_set:\n",
    "        my_dict[i] = original_list.count(i)\n",
    "\n",
    "my_dict\n",
    "\n",
    "# result = dict(map(lambda x: (x, list(original_list).count(x)),original_list))\n",
    "# result"
   ]
  },
  {
   "cell_type": "code",
   "execution_count": 144,
   "metadata": {},
   "outputs": [
    {
     "data": {
      "text/plain": [
       "['red', 'green', 'blue', 'white']"
      ]
     },
     "execution_count": 144,
     "metadata": {},
     "output_type": "execute_result"
    }
   ],
   "source": [
    "#50\n",
    "\n",
    "original_list = ['orange', 'red', 'green', 'blue', 'white', 'black']\n",
    "remove_words = ['orange', 'black']\n",
    "\n",
    "def remover(x):\n",
    "    return  list(filter(lambda a: a not in x, original_list))\n",
    "\n",
    "remover(remove_words)"
   ]
  },
  {
   "cell_type": "code",
   "execution_count": 150,
   "metadata": {},
   "outputs": [
    {
     "data": {
      "text/plain": [
       "(62, 74)"
      ]
     },
     "execution_count": 150,
     "metadata": {},
     "output_type": "execute_result"
    }
   ],
   "source": [
    "#51\n",
    "original_list = [('V', 62), ('VI', 68), ('VII', 72), ('VIII', 70), ('IX', 74), ('X', 65)]\n",
    "# Maximum and minimum values of the said list of tuples:   (74, 62)\n",
    "\n",
    "minimum = min(original_list, key=lambda x: x[1] )[1]\n",
    "maximum = max(original_list, key=lambda x : x[1] )[1]\n",
    "result = (minimum,maximum)\n",
    "\n",
    "result"
   ]
  },
  {
   "cell_type": "code",
   "execution_count": 158,
   "metadata": {},
   "outputs": [
    {
     "data": {
      "text/plain": [
       "[12, 0, 23, -55, 234, 89, 0, 6, -12]"
      ]
     },
     "execution_count": 158,
     "metadata": {},
     "output_type": "execute_result"
    }
   ],
   "source": [
    "#52\n",
    "\n",
    "org_list = [12, 0, None, 23, None, -55, 234, 89, None, 0, 6, -12]\n",
    "\n",
    "result = [i for i in org_list if i is not None]\n",
    "result\n"
   ]
  }
 ],
 "metadata": {
  "kernelspec": {
   "display_name": "Python 3",
   "language": "python",
   "name": "python3"
  },
  "language_info": {
   "codemirror_mode": {
    "name": "ipython",
    "version": 3
   },
   "file_extension": ".py",
   "mimetype": "text/x-python",
   "name": "python",
   "nbconvert_exporter": "python",
   "pygments_lexer": "ipython3",
   "version": "3.12.8"
  }
 },
 "nbformat": 4,
 "nbformat_minor": 2
}
