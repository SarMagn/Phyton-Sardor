{
 "cells": [
  {
   "cell_type": "code",
   "execution_count": 10,
   "metadata": {},
   "outputs": [
    {
     "name": "stdout",
     "output_type": "stream",
     "text": [
      "Your choice \n",
      "     _______\n",
      "---'    _____)_____\n",
      "           ________)\n",
      "          _________)\n",
      "         _________)\n",
      "---.____________)\n",
      "\n",
      "Computer choice: \n",
      "     _______\n",
      "---'    _____)_____\n",
      "           ________)\n",
      "          _________)\n",
      "         _________)\n",
      "---.____________)\n",
      "\n",
      "Draw !\n"
     ]
    }
   ],
   "source": [
    "# Rock Paper Scissors ASCII Art\n",
    "\n",
    "rock = \"\"\"\n",
    "    _______\n",
    "---'   ____)\n",
    "      (______)\n",
    "      (______)\n",
    "      (_____)\n",
    "---.__(____)\n",
    "\"\"\"\n",
    "\n",
    "paper = \"\"\"\n",
    "     _______\n",
    "---'    _____)_____\n",
    "           ________)\n",
    "          _________)\n",
    "         _________)\n",
    "---.____________)\n",
    "\"\"\"\n",
    "\n",
    "scissors = \"\"\"\n",
    "    _______\n",
    "---'   ____)_____\n",
    "          _______)\n",
    "       ___________)\n",
    "      (_____)\n",
    "---.__(____)\n",
    "\"\"\"\n",
    "import random\n",
    "\n",
    "user_choice = int(input('What do you choose? \\nType 0 for Rock \\n1 for Paper \\nor 2 for scissors'))\n",
    "computer_choice = random.randint(0,2)\n",
    "\n",
    "if user_choice >= 3 or user_choice < 0:\n",
    "    print(\"You entered invalid number\")\n",
    "elif user_choice == 0:\n",
    "    print(f'Your choice {rock}')\n",
    "elif user_choice == 1:\n",
    "    print(f'Your choice {paper}')\n",
    "elif user_choice == 2:\n",
    "    print(f'Your choice {scissors}')\n",
    "\n",
    "if computer_choice >= 3 or computer_choice < 0:\n",
    "    print(\"You entered invalid number\")\n",
    "elif computer_choice == 0:\n",
    "    print(f'Computer choice: {rock}')\n",
    "elif computer_choice == 1:\n",
    "    print(f'Computer choice: {paper}')\n",
    "elif computer_choice == 2:\n",
    "    print(f'Computer choice: {scissors}')\n",
    "\n",
    "\n",
    "\n",
    "if (user_choice == 0 and computer_choice == 2) or (user_choice == 1 and computer_choice == 0) or (user_choice== 2 and computer_choice == 1):\n",
    "    print('You win !')\n",
    "elif user_choice == computer_choice :\n",
    "    print(\"Draw !\")\n",
    "elif (user_choice == 0 and computer_choice == 1) or (user_choice == 1 and computer_choice == 2)   or (user_choice == 2 and computer_choice == 0):\n",
    "    print(\"You lose!\")\n",
    "\n",
    "\n",
    "    "
   ]
  },
  {
   "cell_type": "code",
   "execution_count": 11,
   "metadata": {},
   "outputs": [
    {
     "name": "stdout",
     "output_type": "stream",
     "text": [
      "['a', 'b', 'b', 'c', 'c']\n",
      "['a', 'b', 'b', 'c', 'c', 'a']\n"
     ]
    }
   ],
   "source": [
    "mylist = list('abbcc')\n",
    "print(mylist)\n",
    "mylist.append(\"a\")\n",
    "print(mylist)"
   ]
  },
  {
   "cell_type": "code",
   "execution_count": 16,
   "metadata": {},
   "outputs": [
    {
     "data": {
      "text/plain": [
       "2"
      ]
     },
     "execution_count": 16,
     "metadata": {},
     "output_type": "execute_result"
    }
   ],
   "source": [
    "mylist.count(\"a\")"
   ]
  },
  {
   "cell_type": "code",
   "execution_count": 18,
   "metadata": {},
   "outputs": [
    {
     "data": {
      "text/plain": [
       "4"
      ]
     },
     "execution_count": 18,
     "metadata": {},
     "output_type": "execute_result"
    }
   ],
   "source": [
    "mylist.index('c', mylist.index('c')+1)"
   ]
  },
  {
   "cell_type": "code",
   "execution_count": 21,
   "metadata": {},
   "outputs": [
    {
     "data": {
      "text/plain": [
       "28"
      ]
     },
     "execution_count": 21,
     "metadata": {},
     "output_type": "execute_result"
    }
   ],
   "source": [
    "sample_text = \"This is a just a simple text is \"\n",
    "sample_text.index(\" is\", sample_text.index(\" is\")+1)"
   ]
  },
  {
   "cell_type": "code",
   "execution_count": null,
   "metadata": {},
   "outputs": [],
   "source": []
  },
  {
   "cell_type": "code",
   "execution_count": 51,
   "metadata": {},
   "outputs": [
    {
     "name": "stdout",
     "output_type": "stream",
     "text": [
      "['a', 'c', 'c', 'b', 'b', 'a']\n"
     ]
    }
   ],
   "source": [
    "mylist.reverse()\n",
    "adad = mylist[::-1]\n",
    "print(adad)"
   ]
  },
  {
   "cell_type": "code",
   "execution_count": null,
   "metadata": {},
   "outputs": [],
   "source": []
  },
  {
   "cell_type": "code",
   "execution_count": 57,
   "metadata": {},
   "outputs": [
    {
     "name": "stdout",
     "output_type": "stream",
     "text": [
      "['H', 'e', 'l', 'l', 'o']\n",
      "['o', 'l', 'l', 'e', 'H']\n",
      "['o', 'l', 'l', 'e', 'H']\n"
     ]
    }
   ],
   "source": [
    "a = list('Hello')\n",
    "print(a)\n",
    "b = a[::-1]\n",
    "print(b)\n",
    "print(str(b))\n"
   ]
  },
  {
   "cell_type": "code",
   "execution_count": 69,
   "metadata": {},
   "outputs": [
    {
     "data": {
      "text/plain": [
       "['H',\n",
       " 'e',\n",
       " 'l',\n",
       " 'l',\n",
       " 'o',\n",
       " 'w',\n",
       " 'w',\n",
       " 'w',\n",
       " 'w',\n",
       " 'w',\n",
       " 'w',\n",
       " 'w',\n",
       " 'w',\n",
       " 'w',\n",
       " 'w',\n",
       " 'ww',\n",
       " 'ww']"
      ]
     },
     "execution_count": 69,
     "metadata": {},
     "output_type": "execute_result"
    }
   ],
   "source": [
    "a.insert(5,'w')\n",
    "a"
   ]
  },
  {
   "cell_type": "code",
   "execution_count": 71,
   "metadata": {},
   "outputs": [
    {
     "name": "stdout",
     "output_type": "stream",
     "text": [
      "['This', 'is', 'list', 'Second', 'list']\n",
      "['Second', 'list']\n"
     ]
    }
   ],
   "source": [
    "first_list = ['This', 'is', 'list']\n",
    "secoond_list = ['Second' , 'list']\n",
    "first_list.extend(secoond_list)\n",
    "print(first_list)\n",
    "print(secoond_list)"
   ]
  },
  {
   "cell_type": "code",
   "execution_count": 79,
   "metadata": {},
   "outputs": [
    {
     "data": {
      "text/plain": [
       "2"
      ]
     },
     "execution_count": 79,
     "metadata": {},
     "output_type": "execute_result"
    }
   ],
   "source": [
    "numberlist = [1, 2, 3]\n",
    "numberlist[-2]"
   ]
  },
  {
   "cell_type": "code",
   "execution_count": 81,
   "metadata": {},
   "outputs": [
    {
     "data": {
      "text/plain": [
       "2"
      ]
     },
     "execution_count": 81,
     "metadata": {},
     "output_type": "execute_result"
    }
   ],
   "source": [
    "numberlist.pop()"
   ]
  },
  {
   "cell_type": "code",
   "execution_count": 82,
   "metadata": {},
   "outputs": [
    {
     "data": {
      "text/plain": [
       "[1]"
      ]
     },
     "execution_count": 82,
     "metadata": {},
     "output_type": "execute_result"
    }
   ],
   "source": [
    "numberlist"
   ]
  },
  {
   "cell_type": "code",
   "execution_count": 84,
   "metadata": {},
   "outputs": [],
   "source": [
    "numberlist.append(4)"
   ]
  },
  {
   "cell_type": "code",
   "execution_count": 86,
   "metadata": {},
   "outputs": [
    {
     "data": {
      "text/plain": [
       "[1, 4]"
      ]
     },
     "execution_count": 86,
     "metadata": {},
     "output_type": "execute_result"
    }
   ],
   "source": [
    "numberlist\n"
   ]
  },
  {
   "cell_type": "code",
   "execution_count": 88,
   "metadata": {},
   "outputs": [
    {
     "data": {
      "text/plain": [
       "4"
      ]
     },
     "execution_count": 88,
     "metadata": {},
     "output_type": "execute_result"
    }
   ],
   "source": [
    "numberlist.pop(0)"
   ]
  },
  {
   "cell_type": "code",
   "execution_count": 93,
   "metadata": {},
   "outputs": [],
   "source": [
    "numberlist.append(3)"
   ]
  },
  {
   "cell_type": "code",
   "execution_count": 96,
   "metadata": {},
   "outputs": [
    {
     "ename": "ValueError",
     "evalue": "list.remove(x): x not in list",
     "output_type": "error",
     "traceback": [
      "\u001b[1;31m---------------------------------------------------------------------------\u001b[0m",
      "\u001b[1;31mValueError\u001b[0m                                Traceback (most recent call last)",
      "Cell \u001b[1;32mIn[96], line 1\u001b[0m\n\u001b[1;32m----> 1\u001b[0m \u001b[43mnumberlist\u001b[49m\u001b[38;5;241;43m.\u001b[39;49m\u001b[43mremove\u001b[49m\u001b[43m(\u001b[49m\u001b[38;5;241;43m2\u001b[39;49m\u001b[43m)\u001b[49m\n",
      "\u001b[1;31mValueError\u001b[0m: list.remove(x): x not in list"
     ]
    }
   ],
   "source": [
    "numberlist.remove(2)"
   ]
  },
  {
   "cell_type": "code",
   "execution_count": 97,
   "metadata": {},
   "outputs": [
    {
     "data": {
      "text/plain": [
       "[1, 3, 3]"
      ]
     },
     "execution_count": 97,
     "metadata": {},
     "output_type": "execute_result"
    }
   ],
   "source": [
    "numberlist"
   ]
  },
  {
   "cell_type": "code",
   "execution_count": 98,
   "metadata": {},
   "outputs": [],
   "source": [
    "numberlist.clear()"
   ]
  },
  {
   "cell_type": "code",
   "execution_count": 100,
   "metadata": {},
   "outputs": [
    {
     "data": {
      "text/plain": [
       "[]"
      ]
     },
     "execution_count": 100,
     "metadata": {},
     "output_type": "execute_result"
    }
   ],
   "source": [
    "numberlist"
   ]
  },
  {
   "cell_type": "code",
   "execution_count": 117,
   "metadata": {},
   "outputs": [
    {
     "name": "stdout",
     "output_type": "stream",
     "text": [
      "[5, 7, 2, 4, 11, 1, 6]\n"
     ]
    }
   ],
   "source": [
    "newlist = [5,7,2,4,11,1,6]\n",
    "print(newlist)\n",
    "# newlist.sort()"
   ]
  },
  {
   "cell_type": "code",
   "execution_count": 120,
   "metadata": {},
   "outputs": [
    {
     "name": "stdout",
     "output_type": "stream",
     "text": [
      "[5, 7, 2, 4, 11, 1, 6]\n"
     ]
    }
   ],
   "source": [
    "print(newlist)"
   ]
  },
  {
   "cell_type": "code",
   "execution_count": 122,
   "metadata": {},
   "outputs": [
    {
     "name": "stdout",
     "output_type": "stream",
     "text": [
      "[1, 2, 4, 5, 6, 7, 11]\n",
      "[11, 7, 6, 5, 4, 2, 1]\n"
     ]
    }
   ],
   "source": [
    "a = sorted(newlist)\n",
    "print(a)\n",
    "b = a[::-1]\n",
    "print(b)"
   ]
  },
  {
   "cell_type": "code",
   "execution_count": 123,
   "metadata": {},
   "outputs": [
    {
     "name": "stdout",
     "output_type": "stream",
     "text": [
      "[11, 7, 6, 5, 4, 2, 1]\n"
     ]
    }
   ],
   "source": [
    "c = sorted(newlist, reverse= True)\n",
    "print(c)"
   ]
  },
  {
   "cell_type": "code",
   "execution_count": 124,
   "metadata": {},
   "outputs": [
    {
     "data": {
      "text/plain": [
       "4"
      ]
     },
     "execution_count": 124,
     "metadata": {},
     "output_type": "execute_result"
    }
   ],
   "source": [
    "justlist = [1,2,[3,4]]\n",
    "justlist[2][1]"
   ]
  },
  {
   "cell_type": "code",
   "execution_count": 126,
   "metadata": {},
   "outputs": [],
   "source": [
    "list2 = justlist.copy()"
   ]
  },
  {
   "cell_type": "code",
   "execution_count": 127,
   "metadata": {},
   "outputs": [
    {
     "data": {
      "text/plain": [
       "[1, 2, [3, 4]]"
      ]
     },
     "execution_count": 127,
     "metadata": {},
     "output_type": "execute_result"
    }
   ],
   "source": [
    "list2"
   ]
  },
  {
   "cell_type": "code",
   "execution_count": 128,
   "metadata": {},
   "outputs": [],
   "source": [
    "justlist.insert(2, 1)\n"
   ]
  },
  {
   "cell_type": "code",
   "execution_count": 5,
   "metadata": {},
   "outputs": [
    {
     "name": "stdout",
     "output_type": "stream",
     "text": [
      "++!0S2\n"
     ]
    }
   ],
   "source": [
    "import random\n",
    "try:\n",
    "\n",
    "    letters = ['a', 'b', 'c', 'd', 'e', 'f', 'g', 'h', 'i', 'j', 'k', 'l', 'm', 'n', 'o', 'p', 'q', 'r', 's', 't', 'u', 'v', 'w', 'x', 'y', 'z', 'A', 'B', 'C', 'D', 'E', 'F', 'G', 'H', 'I', 'J', 'K', 'L', 'M', 'N', 'O', 'P', 'Q', 'R', 'S', 'T', 'U', 'V', 'W', 'X', 'Y', 'Z']\n",
    "    numbers = ['0', '1', '2', '3', '4', '5', '6', '7', '8', '9']\n",
    "    symbols = ['!', '#', '$', '%', '&', '(', ')', '*', '+']\n",
    "\n",
    "    lett = int(input('How many letters?'))\n",
    "    numb = int(input('How many numbers? '))\n",
    "    symb = int(input('How many symbols? '))\n",
    "\n",
    "    kletter = \"\".join(random.choices(letters, k=lett))\n",
    "    knumbers = \"\".join(random.choices(numbers, k=numb))\n",
    "    ksymbols = \"\".join(random.choices(symbols, k=symb))\n",
    "\n",
    "    all = list(kletter + knumbers + ksymbols)\n",
    "    random.shuffle(all)\n",
    "    print(''.join(all))\n",
    "except ValueError:\n",
    "    print('You entered invalid value!')"
   ]
  },
  {
   "cell_type": "code",
   "execution_count": 3,
   "metadata": {},
   "outputs": [
    {
     "name": "stdout",
     "output_type": "stream",
     "text": [
      "['apple', 'banana', 'orange', 'limon', 'tomato', 'potato', 'catton']\n",
      "7\n",
      "7\n"
     ]
    }
   ],
   "source": [
    "spacelist = ['apple', 'banana', 'orange','limon','tomato','potato','catton']\n",
    "print(len(spacelist))\n",
    "\n",
    "lenspace = len(spacelist)\n",
    "print(spacelist)\n",
    "print(lenspace)"
   ]
  },
  {
   "cell_type": "code",
   "execution_count": 4,
   "metadata": {},
   "outputs": [
    {
     "data": {
      "text/plain": [
       "'banana'"
      ]
     },
     "execution_count": 4,
     "metadata": {},
     "output_type": "execute_result"
    }
   ],
   "source": [
    "spacelist[1]"
   ]
  },
  {
   "cell_type": "code",
   "execution_count": 5,
   "metadata": {},
   "outputs": [
    {
     "name": "stdout",
     "output_type": "stream",
     "text": [
      "apple in the list\n"
     ]
    }
   ],
   "source": [
    "#check  with if in lists\n",
    "if 'apple' in spacelist:\n",
    "    print('apple in the list') "
   ]
  },
  {
   "cell_type": "code",
   "execution_count": 10,
   "metadata": {},
   "outputs": [
    {
     "data": {
      "text/plain": [
       "['apple',\n",
       " 'banana',\n",
       " 'apelsin',\n",
       " 'phone',\n",
       " 'Limoncha',\n",
       " 'Pomildori',\n",
       " 'cotton',\n",
       " 'catton',\n",
       " 'Notebook',\n",
       " 'Laptop',\n",
       " 'Smartphone']"
      ]
     },
     "execution_count": 10,
     "metadata": {},
     "output_type": "execute_result"
    }
   ],
   "source": [
    "spacelist[6] = 'cotton'\n",
    "spacelist"
   ]
  },
  {
   "cell_type": "code",
   "execution_count": 7,
   "metadata": {},
   "outputs": [
    {
     "data": {
      "text/plain": [
       "['apple', 'banana', 'apelsin', 'Limoncha', 'Pomildori', 'potato', 'catton']"
      ]
     },
     "execution_count": 7,
     "metadata": {},
     "output_type": "execute_result"
    }
   ],
   "source": [
    "spacelist[3:5] = 'Limoncha', 'Pomildori'\n",
    "spacelist"
   ]
  },
  {
   "cell_type": "code",
   "execution_count": 8,
   "metadata": {},
   "outputs": [
    {
     "data": {
      "text/plain": [
       "['apple',\n",
       " 'banana',\n",
       " 'apelsin',\n",
       " 'phone',\n",
       " 'Limoncha',\n",
       " 'Pomildori',\n",
       " 'potato',\n",
       " 'catton']"
      ]
     },
     "execution_count": 8,
     "metadata": {},
     "output_type": "execute_result"
    }
   ],
   "source": [
    "spacelist.insert(3,'phone')\n",
    "spacelist"
   ]
  },
  {
   "cell_type": "code",
   "execution_count": 9,
   "metadata": {},
   "outputs": [
    {
     "name": "stdout",
     "output_type": "stream",
     "text": [
      "['apple', 'banana', 'apelsin', 'phone', 'Limoncha', 'Pomildori', 'potato', 'catton', 'Notebook', 'Laptop', 'Smartphone']\n"
     ]
    }
   ],
   "source": [
    "unilist = ['Notebook','Laptop','Smartphone']\n",
    "spacelist.extend(unilist)\n",
    "print(spacelist)"
   ]
  },
  {
   "cell_type": "code",
   "execution_count": 11,
   "metadata": {},
   "outputs": [
    {
     "data": {
      "text/plain": [
       "('3', '5', '4', '7')"
      ]
     },
     "execution_count": 11,
     "metadata": {},
     "output_type": "execute_result"
    }
   ],
   "source": [
    "mytuple = ('3','5','4','7')\n",
    "mytuple\n"
   ]
  },
  {
   "cell_type": "code",
   "execution_count": 13,
   "metadata": {},
   "outputs": [
    {
     "data": {
      "text/plain": [
       "['apple',\n",
       " 'banana',\n",
       " 'apelsin',\n",
       " 'phone',\n",
       " 'Limoncha',\n",
       " 'Pomildori',\n",
       " 'cotton',\n",
       " 'catton',\n",
       " 'Notebook',\n",
       " 'Laptop',\n",
       " 'Smartphone',\n",
       " '3',\n",
       " '5',\n",
       " '4',\n",
       " '7',\n",
       " '3',\n",
       " '5',\n",
       " '4',\n",
       " '7']"
      ]
     },
     "execution_count": 13,
     "metadata": {},
     "output_type": "execute_result"
    }
   ],
   "source": [
    "spacelist.extend(mytuple)\n",
    "spacelist"
   ]
  },
  {
   "cell_type": "code",
   "execution_count": 16,
   "metadata": {},
   "outputs": [
    {
     "data": {
      "text/plain": [
       "['apple',\n",
       " 'banana',\n",
       " 'apelsin',\n",
       " 'Limoncha',\n",
       " 'Pomildori',\n",
       " 'cotton',\n",
       " 'catton',\n",
       " 'Notebook',\n",
       " 'Laptop',\n",
       " 'Smartphone',\n",
       " '3',\n",
       " '5',\n",
       " '4',\n",
       " '7',\n",
       " '3',\n",
       " '5',\n",
       " '4',\n",
       " '7']"
      ]
     },
     "execution_count": 16,
     "metadata": {},
     "output_type": "execute_result"
    }
   ],
   "source": [
    "spacelist.remove('phone')\n",
    "spacelist"
   ]
  },
  {
   "cell_type": "code",
   "execution_count": 17,
   "metadata": {},
   "outputs": [
    {
     "name": "stdout",
     "output_type": "stream",
     "text": [
      "apple\n",
      "banana\n",
      "apelsin\n",
      "Limoncha\n",
      "Pomildori\n",
      "cotton\n",
      "catton\n",
      "Notebook\n",
      "Laptop\n",
      "Smartphone\n",
      "3\n",
      "5\n",
      "4\n",
      "7\n",
      "3\n",
      "5\n",
      "4\n",
      "7\n"
     ]
    }
   ],
   "source": [
    "for i in spacelist:\n",
    "    print(i)"
   ]
  },
  {
   "cell_type": "code",
   "execution_count": 22,
   "metadata": {},
   "outputs": [
    {
     "data": {
      "text/plain": [
       "range(0, 18)"
      ]
     },
     "execution_count": 22,
     "metadata": {},
     "output_type": "execute_result"
    }
   ],
   "source": [
    "a = range(len(spacelist))\n",
    "a"
   ]
  },
  {
   "cell_type": "code",
   "execution_count": 26,
   "metadata": {},
   "outputs": [
    {
     "name": "stdout",
     "output_type": "stream",
     "text": [
      "0\n",
      "1\n",
      "2\n",
      "3\n",
      "4\n",
      "5\n",
      "6\n",
      "7\n",
      "8\n",
      "9\n",
      "10\n",
      "11\n",
      "12\n",
      "13\n",
      "14\n",
      "15\n",
      "16\n",
      "17\n"
     ]
    }
   ],
   "source": [
    "for i in range(len(spacelist)):\n",
    "    print(i)"
   ]
  },
  {
   "cell_type": "code",
   "execution_count": 32,
   "metadata": {},
   "outputs": [
    {
     "name": "stdout",
     "output_type": "stream",
     "text": [
      "0\n",
      "1\n",
      "2\n",
      "3\n",
      "4\n",
      "5\n",
      "6\n",
      "7\n",
      "8\n",
      "9\n",
      "10\n",
      "11\n",
      "12\n",
      "13\n",
      "14\n",
      "15\n",
      "16\n",
      "17\n"
     ]
    }
   ],
   "source": [
    "i = 0 \n",
    "while i < len(spacelist):\n",
    "    print(i)\n",
    "    i += 1"
   ]
  },
  {
   "cell_type": "code",
   "execution_count": 35,
   "metadata": {},
   "outputs": [
    {
     "data": {
      "text/plain": [
       "['apple',\n",
       " 'banana',\n",
       " 'Limoncha',\n",
       " 'Pomildori',\n",
       " 'cotton',\n",
       " 'catton',\n",
       " 'Notebook',\n",
       " 'Laptop',\n",
       " 'Smartphone',\n",
       " '3',\n",
       " '5',\n",
       " '4',\n",
       " '7',\n",
       " '3',\n",
       " '5',\n",
       " '4',\n",
       " '7']"
      ]
     },
     "execution_count": 35,
     "metadata": {},
     "output_type": "execute_result"
    }
   ],
   "source": [
    "newspace = [i for i in spacelist if i != 'apelsin']\n",
    "newspace"
   ]
  },
  {
   "cell_type": "code",
   "execution_count": 37,
   "metadata": {},
   "outputs": [
    {
     "data": {
      "text/plain": [
       "['APPLE',\n",
       " 'BANANA',\n",
       " 'APELSIN',\n",
       " 'LIMONCHA',\n",
       " 'POMILDORI',\n",
       " 'COTTON',\n",
       " 'CATTON',\n",
       " 'NOTEBOOK',\n",
       " 'LAPTOP',\n",
       " 'SMARTPHONE',\n",
       " '3',\n",
       " '5',\n",
       " '4',\n",
       " '7',\n",
       " '3',\n",
       " '5',\n",
       " '4',\n",
       " '7']"
      ]
     },
     "execution_count": 37,
     "metadata": {},
     "output_type": "execute_result"
    }
   ],
   "source": [
    "newspace = [i.upper() for i in spacelist]\n",
    "newspace"
   ]
  },
  {
   "cell_type": "code",
   "execution_count": 41,
   "metadata": {},
   "outputs": [
    {
     "name": "stdout",
     "output_type": "stream",
     "text": [
      "['apple', 'orange', 'cherry', 'kiwi', 'mango']\n"
     ]
    }
   ],
   "source": [
    "fruits = [\"apple\", \"banana\", \"cherry\", \"kiwi\", \"mango\"]\n",
    "newlist = [x if x != \"banana\" else \"orange\" for x in fruits]\n",
    "print(newlist) \n"
   ]
  },
  {
   "cell_type": "code",
   "execution_count": 42,
   "metadata": {},
   "outputs": [
    {
     "data": {
      "text/plain": [
       "['apple', 'banana', 'cherry', 'kiwi', 'mango']"
      ]
     },
     "execution_count": 42,
     "metadata": {},
     "output_type": "execute_result"
    }
   ],
   "source": [
    "newfruits = fruits.copy()\n",
    "newfruits"
   ]
  },
  {
   "cell_type": "code",
   "execution_count": 43,
   "metadata": {},
   "outputs": [
    {
     "data": {
      "text/plain": [
       "['apple',\n",
       " 'banana',\n",
       " 'cherry',\n",
       " 'kiwi',\n",
       " 'mango',\n",
       " 'apple',\n",
       " 'banana',\n",
       " 'apelsin',\n",
       " 'Limoncha',\n",
       " 'Pomildori',\n",
       " 'cotton',\n",
       " 'catton',\n",
       " 'Notebook',\n",
       " 'Laptop',\n",
       " 'Smartphone',\n",
       " '3',\n",
       " '5',\n",
       " '4',\n",
       " '7',\n",
       " '3',\n",
       " '5',\n",
       " '4',\n",
       " '7']"
      ]
     },
     "execution_count": 43,
     "metadata": {},
     "output_type": "execute_result"
    }
   ],
   "source": [
    "superlist = fruits + spacelist\n",
    "superlist"
   ]
  },
  {
   "cell_type": "code",
   "execution_count": 44,
   "metadata": {},
   "outputs": [
    {
     "name": "stdout",
     "output_type": "stream",
     "text": [
      "['apple', 'banana', 'apelsin', 'Limoncha', 'Pomildori', 'cotton', 'catton', 'Notebook', 'Laptop', 'Smartphone', '3', '5', '4', '7', '3', '5', '4', '7', 'apple', 'banana', 'cherry', 'kiwi', 'mango']\n"
     ]
    }
   ],
   "source": [
    "for i in fruits:\n",
    "    spacelist.append(i)\n",
    "\n",
    "print(spacelist)"
   ]
  },
  {
   "cell_type": "code",
   "execution_count": null,
   "metadata": {},
   "outputs": [],
   "source": []
  }
 ],
 "metadata": {
  "kernelspec": {
   "display_name": "Python 3",
   "language": "python",
   "name": "python3"
  },
  "language_info": {
   "codemirror_mode": {
    "name": "ipython",
    "version": 3
   },
   "file_extension": ".py",
   "mimetype": "text/x-python",
   "name": "python",
   "nbconvert_exporter": "python",
   "pygments_lexer": "ipython3",
   "version": "3.12.8"
  }
 },
 "nbformat": 4,
 "nbformat_minor": 2
}
