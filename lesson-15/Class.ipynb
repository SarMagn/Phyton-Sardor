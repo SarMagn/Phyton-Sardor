{
 "cells": [
  {
   "cell_type": "code",
   "execution_count": 1,
   "metadata": {},
   "outputs": [
    {
     "data": {
      "text/plain": [
       "['ConnectTimeout',\n",
       " 'ConnectionError',\n",
       " 'DependencyWarning',\n",
       " 'FileModeWarning',\n",
       " 'HTTPError',\n",
       " 'JSONDecodeError',\n",
       " 'NullHandler',\n",
       " 'PreparedRequest',\n",
       " 'ReadTimeout',\n",
       " 'Request',\n",
       " 'RequestException',\n",
       " 'RequestsDependencyWarning',\n",
       " 'Response',\n",
       " 'Session',\n",
       " 'Timeout',\n",
       " 'TooManyRedirects',\n",
       " 'URLRequired',\n",
       " '__author__',\n",
       " '__author_email__',\n",
       " '__build__',\n",
       " '__builtins__',\n",
       " '__cached__',\n",
       " '__cake__',\n",
       " '__copyright__',\n",
       " '__description__',\n",
       " '__doc__',\n",
       " '__file__',\n",
       " '__license__',\n",
       " '__loader__',\n",
       " '__name__',\n",
       " '__package__',\n",
       " '__path__',\n",
       " '__spec__',\n",
       " '__title__',\n",
       " '__url__',\n",
       " '__version__',\n",
       " '_check_cryptography',\n",
       " '_internal_utils',\n",
       " 'adapters',\n",
       " 'api',\n",
       " 'auth',\n",
       " 'certs',\n",
       " 'chardet_version',\n",
       " 'charset_normalizer_version',\n",
       " 'check_compatibility',\n",
       " 'codes',\n",
       " 'compat',\n",
       " 'cookies',\n",
       " 'delete',\n",
       " 'exceptions',\n",
       " 'get',\n",
       " 'head',\n",
       " 'hooks',\n",
       " 'logging',\n",
       " 'models',\n",
       " 'options',\n",
       " 'packages',\n",
       " 'patch',\n",
       " 'post',\n",
       " 'put',\n",
       " 'request',\n",
       " 'session',\n",
       " 'sessions',\n",
       " 'ssl',\n",
       " 'status_codes',\n",
       " 'structures',\n",
       " 'urllib3',\n",
       " 'utils',\n",
       " 'warnings']"
      ]
     },
     "execution_count": 1,
     "metadata": {},
     "output_type": "execute_result"
    }
   ],
   "source": [
    "import requests\n",
    "\n",
    "dir(requests)"
   ]
  },
  {
   "cell_type": "code",
   "execution_count": 51,
   "metadata": {},
   "outputs": [
    {
     "name": "stdout",
     "output_type": "stream",
     "text": [
      "Full Name is Elliot Williams\n",
      "Country is Canada and City is Melbourne\n"
     ]
    }
   ],
   "source": [
    "url = \"https://randomuser.me/api/\"\n",
    "\n",
    "data = requests.get(url)\n",
    "result = data.json()\n",
    "abc = result.keys()\n",
    "\n",
    "# for i in result['results']:\n",
    "#     print(i['name']['first'])\n",
    "#     print(i['name']['last'])\n",
    "\n",
    "namef = result['results'][0]['name']['first']\n",
    "namel = result['results'][0]['name']['last']\n",
    "location = result['results'][0]['location']\n",
    "\n",
    "print(f'Full Name is {namef} {namel}' )\n",
    "print(f'Country is {location['country']} and City is {location[\"city\"]}')\n"
   ]
  },
  {
   "cell_type": "code",
   "execution_count": 7,
   "metadata": {},
   "outputs": [
    {
     "name": "stdout",
     "output_type": "stream",
     "text": [
      "In Saint Petersburg(Which is located in Russia),\n",
      "Temperature is -8.8 ℃ and Outside is Mist\n"
     ]
    }
   ],
   "source": [
    "import requests\n",
    "\n",
    "api_key = '48445da9b2e54e1c8de110918250602'\n",
    "city = 'Saint Petersburg'\n",
    "url = f'http://api.weatherapi.com/v1/current.json?key={api_key}&q={city}&aqi=no'\n",
    "\n",
    "data = requests.get(url).json()\n",
    "location = f'Weather in {data['location']['name']}, {data['location']['country']}'\n",
    "Tempreture = f'Temprature is {data['current']['temp_c']} C'\n",
    "Weathercon = f'{data['current']['condition']['text']}'\n",
    "# print(data)\n",
    "# print(location)\n",
    "# print(Tempreture)\n",
    "# print(Weathercon)\n",
    "\n",
    "print(f'In {data['location']['name']}(Which is located in {data['location']['country']}),\\n' \n",
    "    f'Temperature is {data['current']['temp_c']} ℃ and Outside is {data['current']['condition']['text']}')"
   ]
  },
  {
   "cell_type": "code",
   "execution_count": 56,
   "metadata": {},
   "outputs": [
    {
     "name": "stdout",
     "output_type": "stream",
     "text": [
      "Weather in Saint Petersburg,RUSSIA: \n",
      "Temperature is -6.6 ℃ with overcast day 2025-02-08 15:05:39.975467 \n",
      "Weather in Tashkent,UZBEKISTAN:\n",
      "Temperature is 16.0 ℃ with sunny day 2025-02-08 15:05:39.975467\n",
      "\n",
      "\n",
      "You interrapted the code, Running time: 8.045798540115356\n"
     ]
    }
   ],
   "source": [
    "import requests\n",
    "from datetime import datetime\n",
    "import time\n",
    "from IPython.display import clear_output\n",
    "\n",
    "api_key = '48445da9b2e54e1c8de110918250602'\n",
    "First_city = 'Tashkent'\n",
    "Second_city = 'Saint Petersburg'\n",
    "first_url = f'http://api.weatherapi.com/v1/current.json?key={api_key}&q={First_city}&aqi=no'\n",
    "second_url = f'http://api.weatherapi.com/v1/current.json?key={api_key}&q={Second_city}&aqi=no'\n",
    "\n",
    "first_data = requests.get(first_url).json()\n",
    "second_data  = requests.get(second_url).json()\n",
    "\n",
    "first_city = first_data['location']['name']\n",
    "first_country = first_data['location']['country']\n",
    "first_temp = first_data['current']['temp_c']\n",
    "first_day = first_data['current']['condition']['text']\n",
    "\n",
    "second_city = second_data['location']['name']\n",
    "second_country = second_data['location']['country']\n",
    "second_temp = second_data['current']['temp_c']\n",
    "second_day = second_data['current']['condition']['text']\n",
    "\n",
    "start_time = time.time()\n",
    "\n",
    "\n",
    "try:\n",
    "    while True:\n",
    "        clear_output(wait=True)\n",
    "        print(f'Weather in {second_city},{second_country.upper()}: \\nTemperature is {second_temp} ℃ with {second_day.lower()} day {datetime.now()} ')\n",
    "\n",
    "        print(f'Weather in {first_city},{first_country.upper()}:\\nTemperature is {first_temp} ℃ with {first_day.lower()} day {datetime.now()}')\n",
    "        time.sleep(1)\n",
    "except KeyboardInterrupt:\n",
    "    end_time = time.time() - start_time\n",
    "    print(f'\\n\\nYou interrapted the code, Running time: {end_time}')"
   ]
  },
  {
   "cell_type": "code",
   "execution_count": 52,
   "metadata": {},
   "outputs": [
    {
     "data": {
      "text/plain": [
       "['_STRUCT_TM_ITEMS',\n",
       " '__doc__',\n",
       " '__loader__',\n",
       " '__name__',\n",
       " '__package__',\n",
       " '__spec__',\n",
       " 'altzone',\n",
       " 'asctime',\n",
       " 'ctime',\n",
       " 'daylight',\n",
       " 'get_clock_info',\n",
       " 'gmtime',\n",
       " 'localtime',\n",
       " 'mktime',\n",
       " 'monotonic',\n",
       " 'monotonic_ns',\n",
       " 'perf_counter',\n",
       " 'perf_counter_ns',\n",
       " 'process_time',\n",
       " 'process_time_ns',\n",
       " 'sleep',\n",
       " 'strftime',\n",
       " 'strptime',\n",
       " 'struct_time',\n",
       " 'thread_time',\n",
       " 'thread_time_ns',\n",
       " 'time',\n",
       " 'time_ns',\n",
       " 'timezone',\n",
       " 'tzname']"
      ]
     },
     "execution_count": 52,
     "metadata": {},
     "output_type": "execute_result"
    }
   ],
   "source": [
    "dir(time)"
   ]
  }
 ],
 "metadata": {
  "kernelspec": {
   "display_name": "Python 3",
   "language": "python",
   "name": "python3"
  },
  "language_info": {
   "codemirror_mode": {
    "name": "ipython",
    "version": 3
   },
   "file_extension": ".py",
   "mimetype": "text/x-python",
   "name": "python",
   "nbconvert_exporter": "python",
   "pygments_lexer": "ipython3",
   "version": "3.12.8"
  }
 },
 "nbformat": 4,
 "nbformat_minor": 2
}
