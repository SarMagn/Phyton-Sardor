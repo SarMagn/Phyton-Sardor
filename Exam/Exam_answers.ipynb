{
 "cells": [
  {
   "cell_type": "markdown",
   "metadata": {},
   "source": [
    "1. You have a list which contains country names. you need to sort this list according to the length of elements ascending order"
   ]
  },
  {
   "cell_type": "code",
   "execution_count": 3,
   "metadata": {},
   "outputs": [],
   "source": [
    "ls = ['Uzbekistan','USA','UK','Germany','Chine']\n",
    "# expected output: ['UK','USA,'Chine','Germany','Uzbekistan']"
   ]
  },
  {
   "cell_type": "code",
   "execution_count": 4,
   "metadata": {},
   "outputs": [
    {
     "data": {
      "text/plain": [
       "['UK', 'USA', 'Chine', 'Germany', 'Uzbekistan']"
      ]
     },
     "execution_count": 4,
     "metadata": {},
     "output_type": "execute_result"
    }
   ],
   "source": [
    "ls.sort(key=lambda x:len(x))\n",
    "ls"
   ]
  },
  {
   "cell_type": "markdown",
   "metadata": {},
   "source": [
    "2. Write a Python program to find the indexes of numbers in a following list below a given threshold."
   ]
  },
  {
   "cell_type": "code",
   "execution_count": 5,
   "metadata": {},
   "outputs": [],
   "source": [
    "ls = [0, 12, 45, 3, 4923, 322, 105, 29, 15, 39, 55]\n",
    "threshold = 100\n",
    "# expected output: [0, 1, 2, 3, 7, 8, 9, 10]"
   ]
  },
  {
   "cell_type": "code",
   "execution_count": 8,
   "metadata": {},
   "outputs": [
    {
     "data": {
      "text/plain": [
       "[0, 1, 2, 3, 7, 8, 9, 10]"
      ]
     },
     "execution_count": 8,
     "metadata": {},
     "output_type": "execute_result"
    }
   ],
   "source": [
    "def myfunction(x):\n",
    "    result = []\n",
    "    for i in ls:\n",
    "        if i < threshold:\n",
    "            result.append(ls.index(i))\n",
    "    return result\n",
    "\n",
    "myfunction(ls)"
   ]
  },
  {
   "cell_type": "markdown",
   "metadata": {},
   "source": [
    "3. Write a recursive function to find the sum of the digits of a number."
   ]
  },
  {
   "cell_type": "code",
   "execution_count": 144,
   "metadata": {},
   "outputs": [
    {
     "data": {
      "text/plain": [
       "36"
      ]
     },
     "execution_count": 144,
     "metadata": {},
     "output_type": "execute_result"
    }
   ],
   "source": [
    "number = 24555555\n",
    "\n",
    "def digit_function(x):\n",
    "    lst = [int(i) for i in str(number)]\n",
    "    return sum(lst)\n",
    "\n",
    "digit_function(number)"
   ]
  },
  {
   "cell_type": "markdown",
   "metadata": {},
   "source": [
    "4. Given a list of dictionaries, write a function that combines them into a single dictionary. \n",
    "\tIf a key appears in multiple dictionaries, sum the values."
   ]
  },
  {
   "cell_type": "code",
   "execution_count": 31,
   "metadata": {},
   "outputs": [],
   "source": [
    "# Example usage\n",
    "# print(combine_dictionaries([{'a': 1, 'b': 2}, {'a': 2, 'c': 3}, {'b': 3}]))\n",
    "# Output: {'a': 3, 'b': 5, 'c': 3}\n"
   ]
  },
  {
   "cell_type": "code",
   "execution_count": 115,
   "metadata": {},
   "outputs": [
    {
     "data": {
      "text/plain": [
       "{'a': 3, 'b': 5, 'c': 3}"
      ]
     },
     "execution_count": 115,
     "metadata": {},
     "output_type": "execute_result"
    }
   ],
   "source": [
    "def combining_dicts(dict_list):\n",
    "    combined_dict = {}\n",
    "    \n",
    "    for d in dict_list:\n",
    "        for key, value in d.items():\n",
    "            combined_dict[key] = combined_dict.get(key, 0) + value\n",
    "    \n",
    "    return combined_dict\n",
    "\n",
    "combine_dictionaries = [{'a': 1, 'b': 2}, {'a': 2, 'c': 3}, {'b': 3}] \n",
    "\n",
    "combining_dicts(combine_dictionaries)\n",
    "  \n"
   ]
  },
  {
   "cell_type": "markdown",
   "metadata": {},
   "source": [
    "5. Using employee_data.csv file.\n",
    "\ttask 3. Find Employees Earning Above Their Country’s Average Salary"
   ]
  },
  {
   "cell_type": "markdown",
   "metadata": {},
   "source": [
    "task 1. Create 4 separate csv files for 4 different countries"
   ]
  },
  {
   "cell_type": "code",
   "execution_count": 145,
   "metadata": {},
   "outputs": [
    {
     "data": {
      "text/html": [
       "<div>\n",
       "<style scoped>\n",
       "    .dataframe tbody tr th:only-of-type {\n",
       "        vertical-align: middle;\n",
       "    }\n",
       "\n",
       "    .dataframe tbody tr th {\n",
       "        vertical-align: top;\n",
       "    }\n",
       "\n",
       "    .dataframe thead th {\n",
       "        text-align: right;\n",
       "    }\n",
       "</style>\n",
       "<table border=\"1\" class=\"dataframe\">\n",
       "  <thead>\n",
       "    <tr style=\"text-align: right;\">\n",
       "      <th></th>\n",
       "      <th>EmpID</th>\n",
       "      <th>EmpName</th>\n",
       "      <th>BirthDate</th>\n",
       "      <th>HireDate</th>\n",
       "      <th>DepartmentID</th>\n",
       "      <th>Salary</th>\n",
       "      <th>Birth_Country</th>\n",
       "    </tr>\n",
       "  </thead>\n",
       "  <tbody>\n",
       "    <tr>\n",
       "      <th>0</th>\n",
       "      <td>1</td>\n",
       "      <td>Cathy Reeves</td>\n",
       "      <td>1975-12-25</td>\n",
       "      <td>2013-01-08</td>\n",
       "      <td>101</td>\n",
       "      <td>104666.75</td>\n",
       "      <td>USA</td>\n",
       "    </tr>\n",
       "    <tr>\n",
       "      <th>1</th>\n",
       "      <td>2</td>\n",
       "      <td>William Ward</td>\n",
       "      <td>1972-01-01</td>\n",
       "      <td>2009-10-23</td>\n",
       "      <td>105</td>\n",
       "      <td>79245.98</td>\n",
       "      <td>Germany</td>\n",
       "    </tr>\n",
       "    <tr>\n",
       "      <th>2</th>\n",
       "      <td>3</td>\n",
       "      <td>Kevin Moore</td>\n",
       "      <td>1992-08-26</td>\n",
       "      <td>2022-09-12</td>\n",
       "      <td>105</td>\n",
       "      <td>32528.41</td>\n",
       "      <td>Germany</td>\n",
       "    </tr>\n",
       "    <tr>\n",
       "      <th>3</th>\n",
       "      <td>4</td>\n",
       "      <td>Jason Young</td>\n",
       "      <td>1964-08-08</td>\n",
       "      <td>2008-04-01</td>\n",
       "      <td>105</td>\n",
       "      <td>83259.50</td>\n",
       "      <td>India</td>\n",
       "    </tr>\n",
       "    <tr>\n",
       "      <th>4</th>\n",
       "      <td>5</td>\n",
       "      <td>Angela Brown</td>\n",
       "      <td>1965-07-18</td>\n",
       "      <td>2005-06-22</td>\n",
       "      <td>103</td>\n",
       "      <td>114796.51</td>\n",
       "      <td>Germany</td>\n",
       "    </tr>\n",
       "  </tbody>\n",
       "</table>\n",
       "</div>"
      ],
      "text/plain": [
       "   EmpID       EmpName   BirthDate    HireDate  DepartmentID     Salary  \\\n",
       "0      1  Cathy Reeves  1975-12-25  2013-01-08           101  104666.75   \n",
       "1      2  William Ward  1972-01-01  2009-10-23           105   79245.98   \n",
       "2      3   Kevin Moore  1992-08-26  2022-09-12           105   32528.41   \n",
       "3      4   Jason Young  1964-08-08  2008-04-01           105   83259.50   \n",
       "4      5  Angela Brown  1965-07-18  2005-06-22           103  114796.51   \n",
       "\n",
       "  Birth_Country  \n",
       "0           USA  \n",
       "1       Germany  \n",
       "2       Germany  \n",
       "3         India  \n",
       "4       Germany  "
      ]
     },
     "execution_count": 145,
     "metadata": {},
     "output_type": "execute_result"
    }
   ],
   "source": [
    "import pandas as pd\n",
    "\n",
    "df = pd.read_csv(r'employee_data.csv')\n",
    "USA_csv = df[df['Birth_Country'] == 'USA'] \n",
    "USA_csv.to_csv('USA_employees')\n",
    "df.head()"
   ]
  },
  {
   "cell_type": "code",
   "execution_count": 69,
   "metadata": {},
   "outputs": [],
   "source": [
    "Germany_csv = df[df['Birth_Country']=='Germany']\n",
    "Germany_csv.to_csv('Germany_employees')"
   ]
  },
  {
   "cell_type": "code",
   "execution_count": 72,
   "metadata": {},
   "outputs": [],
   "source": [
    "India_csv = df[df['Birth_Country']=='India']\n",
    "India_csv.to_csv('India_employees')"
   ]
  },
  {
   "cell_type": "code",
   "execution_count": 78,
   "metadata": {},
   "outputs": [],
   "source": [
    "UK_csv = df[df['Birth_Country']=='UK']\n",
    "UK_csv.to_csv('UK_employees')"
   ]
  },
  {
   "cell_type": "markdown",
   "metadata": {},
   "source": [
    "task 2. Find the Most Experienced Employee in Each Country"
   ]
  },
  {
   "cell_type": "code",
   "execution_count": 135,
   "metadata": {},
   "outputs": [
    {
     "data": {
      "text/plain": [
       "4            Angela Brown\n",
       "9          Yvonne Webster\n",
       "29        Joseph Reynolds\n",
       "31    Elizabeth Alexander\n",
       "Name: EmpName, dtype: object"
      ]
     },
     "execution_count": 135,
     "metadata": {},
     "output_type": "execute_result"
    }
   ],
   "source": [
    "hiredate_df = (df\n",
    " .groupby('Birth_Country')\n",
    " .agg({'HireDate':'min'})).reset_index()\n",
    "\n",
    "new = df.merge(hiredate_df,how='inner',on='Birth_Country')\n",
    "\n",
    "# Employees with highest exp\n",
    "new[new['HireDate_x'] == new['HireDate_y']]['EmpName']\n"
   ]
  },
  {
   "cell_type": "markdown",
   "metadata": {},
   "source": [
    "task 3. Find Employees Earning Above Their Country’s Average Salary"
   ]
  },
  {
   "cell_type": "code",
   "execution_count": 100,
   "metadata": {},
   "outputs": [
    {
     "data": {
      "text/html": [
       "<div>\n",
       "<style scoped>\n",
       "    .dataframe tbody tr th:only-of-type {\n",
       "        vertical-align: middle;\n",
       "    }\n",
       "\n",
       "    .dataframe tbody tr th {\n",
       "        vertical-align: top;\n",
       "    }\n",
       "\n",
       "    .dataframe thead th {\n",
       "        text-align: right;\n",
       "    }\n",
       "</style>\n",
       "<table border=\"1\" class=\"dataframe\">\n",
       "  <thead>\n",
       "    <tr style=\"text-align: right;\">\n",
       "      <th></th>\n",
       "      <th>Birth_Country</th>\n",
       "      <th>Salary</th>\n",
       "    </tr>\n",
       "  </thead>\n",
       "  <tbody>\n",
       "    <tr>\n",
       "      <th>0</th>\n",
       "      <td>Germany</td>\n",
       "      <td>73905.116667</td>\n",
       "    </tr>\n",
       "    <tr>\n",
       "      <th>1</th>\n",
       "      <td>India</td>\n",
       "      <td>70164.840000</td>\n",
       "    </tr>\n",
       "    <tr>\n",
       "      <th>2</th>\n",
       "      <td>UK</td>\n",
       "      <td>74150.792500</td>\n",
       "    </tr>\n",
       "    <tr>\n",
       "      <th>3</th>\n",
       "      <td>USA</td>\n",
       "      <td>75968.236667</td>\n",
       "    </tr>\n",
       "  </tbody>\n",
       "</table>\n",
       "</div>"
      ],
      "text/plain": [
       "  Birth_Country        Salary\n",
       "0       Germany  73905.116667\n",
       "1         India  70164.840000\n",
       "2            UK  74150.792500\n",
       "3           USA  75968.236667"
      ]
     },
     "execution_count": 100,
     "metadata": {},
     "output_type": "execute_result"
    }
   ],
   "source": [
    "avg_counry = (df\n",
    " .groupby('Birth_Country')\n",
    " .agg({'Salary':'mean'})).reset_index()\n",
    "avg_counry"
   ]
  },
  {
   "cell_type": "markdown",
   "metadata": {},
   "source": [
    "Final result"
   ]
  },
  {
   "cell_type": "code",
   "execution_count": 150,
   "metadata": {},
   "outputs": [
    {
     "data": {
      "text/html": [
       "<div>\n",
       "<style scoped>\n",
       "    .dataframe tbody tr th:only-of-type {\n",
       "        vertical-align: middle;\n",
       "    }\n",
       "\n",
       "    .dataframe tbody tr th {\n",
       "        vertical-align: top;\n",
       "    }\n",
       "\n",
       "    .dataframe thead th {\n",
       "        text-align: right;\n",
       "    }\n",
       "</style>\n",
       "<table border=\"1\" class=\"dataframe\">\n",
       "  <thead>\n",
       "    <tr style=\"text-align: right;\">\n",
       "      <th></th>\n",
       "      <th>EmpID</th>\n",
       "      <th>EmpName</th>\n",
       "      <th>BirthDate</th>\n",
       "      <th>HireDate</th>\n",
       "      <th>DepartmentID</th>\n",
       "      <th>Salary_x</th>\n",
       "      <th>Birth_Country</th>\n",
       "    </tr>\n",
       "  </thead>\n",
       "  <tbody>\n",
       "    <tr>\n",
       "      <th>0</th>\n",
       "      <td>1</td>\n",
       "      <td>Cathy Reeves</td>\n",
       "      <td>1975-12-25</td>\n",
       "      <td>2013-01-08</td>\n",
       "      <td>101</td>\n",
       "      <td>104666.75</td>\n",
       "      <td>USA</td>\n",
       "    </tr>\n",
       "    <tr>\n",
       "      <th>1</th>\n",
       "      <td>2</td>\n",
       "      <td>William Ward</td>\n",
       "      <td>1972-01-01</td>\n",
       "      <td>2009-10-23</td>\n",
       "      <td>105</td>\n",
       "      <td>79245.98</td>\n",
       "      <td>Germany</td>\n",
       "    </tr>\n",
       "    <tr>\n",
       "      <th>3</th>\n",
       "      <td>4</td>\n",
       "      <td>Jason Young</td>\n",
       "      <td>1964-08-08</td>\n",
       "      <td>2008-04-01</td>\n",
       "      <td>105</td>\n",
       "      <td>83259.50</td>\n",
       "      <td>India</td>\n",
       "    </tr>\n",
       "    <tr>\n",
       "      <th>4</th>\n",
       "      <td>5</td>\n",
       "      <td>Angela Brown</td>\n",
       "      <td>1965-07-18</td>\n",
       "      <td>2005-06-22</td>\n",
       "      <td>103</td>\n",
       "      <td>114796.51</td>\n",
       "      <td>Germany</td>\n",
       "    </tr>\n",
       "    <tr>\n",
       "      <th>5</th>\n",
       "      <td>6</td>\n",
       "      <td>Lisa Brown DVM</td>\n",
       "      <td>1972-09-24</td>\n",
       "      <td>2020-07-26</td>\n",
       "      <td>104</td>\n",
       "      <td>88253.26</td>\n",
       "      <td>Germany</td>\n",
       "    </tr>\n",
       "    <tr>\n",
       "      <th>8</th>\n",
       "      <td>9</td>\n",
       "      <td>Christopher Nguyen</td>\n",
       "      <td>2001-08-03</td>\n",
       "      <td>2017-09-17</td>\n",
       "      <td>103</td>\n",
       "      <td>75448.89</td>\n",
       "      <td>India</td>\n",
       "    </tr>\n",
       "    <tr>\n",
       "      <th>10</th>\n",
       "      <td>11</td>\n",
       "      <td>Sandra Beck</td>\n",
       "      <td>1998-07-03</td>\n",
       "      <td>2022-06-16</td>\n",
       "      <td>103</td>\n",
       "      <td>111337.15</td>\n",
       "      <td>USA</td>\n",
       "    </tr>\n",
       "    <tr>\n",
       "      <th>11</th>\n",
       "      <td>12</td>\n",
       "      <td>Donald Snow</td>\n",
       "      <td>1999-03-10</td>\n",
       "      <td>2008-01-20</td>\n",
       "      <td>102</td>\n",
       "      <td>105739.53</td>\n",
       "      <td>UK</td>\n",
       "    </tr>\n",
       "    <tr>\n",
       "      <th>14</th>\n",
       "      <td>15</td>\n",
       "      <td>Deborah Cortez</td>\n",
       "      <td>1993-12-15</td>\n",
       "      <td>2019-03-04</td>\n",
       "      <td>105</td>\n",
       "      <td>100070.64</td>\n",
       "      <td>India</td>\n",
       "    </tr>\n",
       "    <tr>\n",
       "      <th>15</th>\n",
       "      <td>16</td>\n",
       "      <td>John Craig</td>\n",
       "      <td>2000-01-15</td>\n",
       "      <td>2017-12-18</td>\n",
       "      <td>104</td>\n",
       "      <td>90916.00</td>\n",
       "      <td>Germany</td>\n",
       "    </tr>\n",
       "    <tr>\n",
       "      <th>16</th>\n",
       "      <td>17</td>\n",
       "      <td>Sheri Walker</td>\n",
       "      <td>1981-12-28</td>\n",
       "      <td>2023-12-08</td>\n",
       "      <td>104</td>\n",
       "      <td>75808.56</td>\n",
       "      <td>India</td>\n",
       "    </tr>\n",
       "    <tr>\n",
       "      <th>19</th>\n",
       "      <td>20</td>\n",
       "      <td>Morgan Boyle</td>\n",
       "      <td>1988-10-22</td>\n",
       "      <td>2015-08-26</td>\n",
       "      <td>102</td>\n",
       "      <td>78062.83</td>\n",
       "      <td>Germany</td>\n",
       "    </tr>\n",
       "    <tr>\n",
       "      <th>20</th>\n",
       "      <td>21</td>\n",
       "      <td>Richard Rice</td>\n",
       "      <td>1964-04-11</td>\n",
       "      <td>2024-09-15</td>\n",
       "      <td>104</td>\n",
       "      <td>92851.77</td>\n",
       "      <td>UK</td>\n",
       "    </tr>\n",
       "    <tr>\n",
       "      <th>21</th>\n",
       "      <td>22</td>\n",
       "      <td>Gregory Rodriguez</td>\n",
       "      <td>1966-10-11</td>\n",
       "      <td>2023-12-24</td>\n",
       "      <td>102</td>\n",
       "      <td>77922.92</td>\n",
       "      <td>India</td>\n",
       "    </tr>\n",
       "    <tr>\n",
       "      <th>26</th>\n",
       "      <td>27</td>\n",
       "      <td>Eric Atkins</td>\n",
       "      <td>1982-06-05</td>\n",
       "      <td>2010-06-29</td>\n",
       "      <td>102</td>\n",
       "      <td>75420.44</td>\n",
       "      <td>Germany</td>\n",
       "    </tr>\n",
       "    <tr>\n",
       "      <th>29</th>\n",
       "      <td>30</td>\n",
       "      <td>Joseph Reynolds</td>\n",
       "      <td>1989-09-28</td>\n",
       "      <td>2005-09-24</td>\n",
       "      <td>102</td>\n",
       "      <td>80431.53</td>\n",
       "      <td>UK</td>\n",
       "    </tr>\n",
       "    <tr>\n",
       "      <th>30</th>\n",
       "      <td>31</td>\n",
       "      <td>Jessica Palmer</td>\n",
       "      <td>1996-10-29</td>\n",
       "      <td>2010-01-06</td>\n",
       "      <td>103</td>\n",
       "      <td>117050.58</td>\n",
       "      <td>UK</td>\n",
       "    </tr>\n",
       "    <tr>\n",
       "      <th>38</th>\n",
       "      <td>39</td>\n",
       "      <td>Christine Williams</td>\n",
       "      <td>1994-10-19</td>\n",
       "      <td>2020-01-02</td>\n",
       "      <td>105</td>\n",
       "      <td>112393.55</td>\n",
       "      <td>USA</td>\n",
       "    </tr>\n",
       "    <tr>\n",
       "      <th>39</th>\n",
       "      <td>40</td>\n",
       "      <td>Kelly Love</td>\n",
       "      <td>1998-04-23</td>\n",
       "      <td>2010-09-05</td>\n",
       "      <td>104</td>\n",
       "      <td>75365.39</td>\n",
       "      <td>UK</td>\n",
       "    </tr>\n",
       "    <tr>\n",
       "      <th>41</th>\n",
       "      <td>42</td>\n",
       "      <td>Thomas Holmes</td>\n",
       "      <td>1975-06-16</td>\n",
       "      <td>2010-03-17</td>\n",
       "      <td>101</td>\n",
       "      <td>101953.27</td>\n",
       "      <td>India</td>\n",
       "    </tr>\n",
       "    <tr>\n",
       "      <th>43</th>\n",
       "      <td>44</td>\n",
       "      <td>Hannah Williamson</td>\n",
       "      <td>1986-04-16</td>\n",
       "      <td>2017-05-06</td>\n",
       "      <td>103</td>\n",
       "      <td>98521.71</td>\n",
       "      <td>India</td>\n",
       "    </tr>\n",
       "    <tr>\n",
       "      <th>44</th>\n",
       "      <td>45</td>\n",
       "      <td>Kristy Norton</td>\n",
       "      <td>1978-06-13</td>\n",
       "      <td>2019-07-09</td>\n",
       "      <td>102</td>\n",
       "      <td>109640.55</td>\n",
       "      <td>UK</td>\n",
       "    </tr>\n",
       "    <tr>\n",
       "      <th>45</th>\n",
       "      <td>46</td>\n",
       "      <td>Jessica Brown</td>\n",
       "      <td>1984-09-11</td>\n",
       "      <td>2007-01-21</td>\n",
       "      <td>101</td>\n",
       "      <td>101468.12</td>\n",
       "      <td>Germany</td>\n",
       "    </tr>\n",
       "    <tr>\n",
       "      <th>46</th>\n",
       "      <td>47</td>\n",
       "      <td>Deanna Mitchell</td>\n",
       "      <td>1970-04-28</td>\n",
       "      <td>2012-10-19</td>\n",
       "      <td>101</td>\n",
       "      <td>92689.06</td>\n",
       "      <td>India</td>\n",
       "    </tr>\n",
       "    <tr>\n",
       "      <th>47</th>\n",
       "      <td>48</td>\n",
       "      <td>Christine Jensen</td>\n",
       "      <td>1964-10-25</td>\n",
       "      <td>2008-10-19</td>\n",
       "      <td>105</td>\n",
       "      <td>102135.87</td>\n",
       "      <td>Germany</td>\n",
       "    </tr>\n",
       "    <tr>\n",
       "      <th>48</th>\n",
       "      <td>49</td>\n",
       "      <td>Jacob Jimenez</td>\n",
       "      <td>1994-11-24</td>\n",
       "      <td>2023-11-25</td>\n",
       "      <td>102</td>\n",
       "      <td>77628.89</td>\n",
       "      <td>USA</td>\n",
       "    </tr>\n",
       "  </tbody>\n",
       "</table>\n",
       "</div>"
      ],
      "text/plain": [
       "    EmpID             EmpName   BirthDate    HireDate  DepartmentID  \\\n",
       "0       1        Cathy Reeves  1975-12-25  2013-01-08           101   \n",
       "1       2        William Ward  1972-01-01  2009-10-23           105   \n",
       "3       4         Jason Young  1964-08-08  2008-04-01           105   \n",
       "4       5        Angela Brown  1965-07-18  2005-06-22           103   \n",
       "5       6      Lisa Brown DVM  1972-09-24  2020-07-26           104   \n",
       "8       9  Christopher Nguyen  2001-08-03  2017-09-17           103   \n",
       "10     11         Sandra Beck  1998-07-03  2022-06-16           103   \n",
       "11     12         Donald Snow  1999-03-10  2008-01-20           102   \n",
       "14     15      Deborah Cortez  1993-12-15  2019-03-04           105   \n",
       "15     16          John Craig  2000-01-15  2017-12-18           104   \n",
       "16     17        Sheri Walker  1981-12-28  2023-12-08           104   \n",
       "19     20        Morgan Boyle  1988-10-22  2015-08-26           102   \n",
       "20     21        Richard Rice  1964-04-11  2024-09-15           104   \n",
       "21     22   Gregory Rodriguez  1966-10-11  2023-12-24           102   \n",
       "26     27         Eric Atkins  1982-06-05  2010-06-29           102   \n",
       "29     30     Joseph Reynolds  1989-09-28  2005-09-24           102   \n",
       "30     31      Jessica Palmer  1996-10-29  2010-01-06           103   \n",
       "38     39  Christine Williams  1994-10-19  2020-01-02           105   \n",
       "39     40          Kelly Love  1998-04-23  2010-09-05           104   \n",
       "41     42       Thomas Holmes  1975-06-16  2010-03-17           101   \n",
       "43     44   Hannah Williamson  1986-04-16  2017-05-06           103   \n",
       "44     45       Kristy Norton  1978-06-13  2019-07-09           102   \n",
       "45     46       Jessica Brown  1984-09-11  2007-01-21           101   \n",
       "46     47     Deanna Mitchell  1970-04-28  2012-10-19           101   \n",
       "47     48    Christine Jensen  1964-10-25  2008-10-19           105   \n",
       "48     49       Jacob Jimenez  1994-11-24  2023-11-25           102   \n",
       "\n",
       "     Salary_x Birth_Country  \n",
       "0   104666.75           USA  \n",
       "1    79245.98       Germany  \n",
       "3    83259.50         India  \n",
       "4   114796.51       Germany  \n",
       "5    88253.26       Germany  \n",
       "8    75448.89         India  \n",
       "10  111337.15           USA  \n",
       "11  105739.53            UK  \n",
       "14  100070.64         India  \n",
       "15   90916.00       Germany  \n",
       "16   75808.56         India  \n",
       "19   78062.83       Germany  \n",
       "20   92851.77            UK  \n",
       "21   77922.92         India  \n",
       "26   75420.44       Germany  \n",
       "29   80431.53            UK  \n",
       "30  117050.58            UK  \n",
       "38  112393.55           USA  \n",
       "39   75365.39            UK  \n",
       "41  101953.27         India  \n",
       "43   98521.71         India  \n",
       "44  109640.55            UK  \n",
       "45  101468.12       Germany  \n",
       "46   92689.06         India  \n",
       "47  102135.87       Germany  \n",
       "48   77628.89           USA  "
      ]
     },
     "execution_count": 150,
     "metadata": {},
     "output_type": "execute_result"
    }
   ],
   "source": [
    "new_df = df.merge(avg_counry,how='inner',on='Birth_Country')\n",
    "new_df[new_df['Salary_x'] > new_df['Salary_y']][['EmpID','EmpName','BirthDate','HireDate','DepartmentID','Salary_x','Birth_Country']]\n"
   ]
  }
 ],
 "metadata": {
  "kernelspec": {
   "display_name": "Python 3",
   "language": "python",
   "name": "python3"
  },
  "language_info": {
   "codemirror_mode": {
    "name": "ipython",
    "version": 3
   },
   "file_extension": ".py",
   "mimetype": "text/x-python",
   "name": "python",
   "nbconvert_exporter": "python",
   "pygments_lexer": "ipython3",
   "version": "3.12.8"
  }
 },
 "nbformat": 4,
 "nbformat_minor": 2
}
