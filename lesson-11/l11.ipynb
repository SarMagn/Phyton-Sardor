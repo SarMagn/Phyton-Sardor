{
 "cells": [
  {
   "cell_type": "code",
   "execution_count": 3,
   "metadata": {},
   "outputs": [
    {
     "name": "stdout",
     "output_type": "stream",
     "text": [
      "__module__\n",
      "sub_sets\n",
      "subsetsRecur\n",
      "__dict__\n",
      "__weakref__\n",
      "__doc__\n"
     ]
    }
   ],
   "source": [
    "class py_solution:\n",
    "    def abc(self, sset):\n",
    "        return self.subsetsRecur([], sorted(sset))    \n",
    "    def subsetsRecur(self, current, sset):\n",
    "        if sset:\n",
    "            return self.subsetsRecur(current, sset[1:]) + self.subsetsRecur(current + [sset[0]], sset[1:])\n",
    "        return [current]\n",
    "for name in py_solution.__dict__:\n",
    "    print(name)"
   ]
  },
  {
   "cell_type": "code",
   "execution_count": 21,
   "metadata": {},
   "outputs": [
    {
     "name": "stdout",
     "output_type": "stream",
     "text": [
      "123\n",
      "Melony\n",
      "A\n"
     ]
    }
   ],
   "source": [
    "#6\n",
    "def student_data(student_id, **kwargs):\n",
    "    print(f'{student_id}')\n",
    "    if 'student_name' in kwargs:\n",
    "        print(f\"{kwargs['student_name']}\")\n",
    "        if 'student_class' in kwargs:\n",
    "            print(f\"{kwargs['student_class']}\")\n",
    "        #print(1)\n",
    "\n",
    "student_data('123', student_name='Melony', student_class = 'A')\n"
   ]
  },
  {
   "cell_type": "code",
   "execution_count": 24,
   "metadata": {},
   "outputs": [
    {
     "name": "stdout",
     "output_type": "stream",
     "text": [
      "Johnny\n",
      "75\n",
      "Alice\n",
      "82\n"
     ]
    }
   ],
   "source": [
    "class Student:\n",
    "    student_name = 'Johnny'\n",
    "    marks = 75\n",
    "print(getattr(Student, 'student_name'))\n",
    "print(getattr(Student, 'marks'))\n",
    "setattr(Student, 'student_name', 'Alice')\n",
    "setattr(Student, 'marks', 82)\n",
    "print(getattr(Student, 'student_name'))\n",
    "print(getattr(Student, 'marks'))"
   ]
  },
  {
   "cell_type": "code",
   "execution_count": 25,
   "metadata": {},
   "outputs": [
    {
     "name": "stdout",
     "output_type": "stream",
     "text": [
      "Alice\n"
     ]
    }
   ],
   "source": [
    "print(getattr(Student, 'student_name'))"
   ]
  },
  {
   "cell_type": "code",
   "execution_count": 33,
   "metadata": {},
   "outputs": [
    {
     "name": "stdout",
     "output_type": "stream",
     "text": [
      "abc\n",
      "Raj\n",
      "A\n",
      "__main__\n",
      "abc\n",
      "<attribute '__dict__' of 'Student' objects>\n",
      "<attribute '__weakref__' of 'Student' objects>\n",
      "None\n",
      "A\n"
     ]
    }
   ],
   "source": [
    "class Student:\n",
    "    student_id = 'abc'\n",
    "    student_name = 'Raj'\n",
    "print(getattr(Student, 'student_id'))\n",
    "print(getattr(Student, 'student_name'))\n",
    "\n",
    "Student.student_class = 'A'\n",
    "print(getattr(Student, 'student_class'))\n",
    "\n",
    "del Student.student_name\n",
    "for i, j in Student.__dict__.items():\n",
    "    print(j)\n"
   ]
  },
  {
   "cell_type": "code",
   "execution_count": 6,
   "metadata": {},
   "outputs": [
    {
     "name": "stdout",
     "output_type": "stream",
     "text": [
      "90\n",
      "XC\n"
     ]
    }
   ],
   "source": [
    "class py_solution:\n",
    "    def int_to_Roman(self, num):\n",
    "        val = [\n",
    "            1000, 900, 500, 400,\n",
    "            100, 90, 50, 40,\n",
    "            10, 9, 5, 4,\n",
    "            1\n",
    "            ]\n",
    "        syb = [\n",
    "            \"M\", \"CM\", \"D\", \"CD\",\n",
    "            \"C\", \"XC\", \"L\", \"XL\",\n",
    "            \"X\", \"IX\", \"V\", \"IV\",\n",
    "            \"I\"\n",
    "            ]\n",
    "        rim = ''\n",
    "        qoldiq = 0\n",
    "        while num>0:\n",
    "            for a in range(0, 12):\n",
    "                if val[a] > num and val[a+1] <= num:\n",
    "                    print(val[a+1])\n",
    "                    rim += syb[a+1]\n",
    "                    num = num-val[a+1]\n",
    "            return rim\n",
    "\n",
    "\n",
    "print(py_solution().int_to_Roman(90))\n",
    "\n"
   ]
  },
  {
   "cell_type": "code",
   "execution_count": 34,
   "metadata": {},
   "outputs": [
    {
     "data": {
      "text/plain": [
       "2"
      ]
     },
     "execution_count": 34,
     "metadata": {},
     "output_type": "execute_result"
    }
   ],
   "source": [
    "5//2"
   ]
  },
  {
   "cell_type": "code",
   "execution_count": 10,
   "metadata": {},
   "outputs": [
    {
     "ename": "TypeError",
     "evalue": "'NoneType' object is not iterable",
     "output_type": "error",
     "traceback": [
      "\u001b[1;31m---------------------------------------------------------------------------\u001b[0m",
      "\u001b[1;31mTypeError\u001b[0m                                 Traceback (most recent call last)",
      "Cell \u001b[1;32mIn[10], line 15\u001b[0m\n\u001b[0;32m     11\u001b[0m                             added \u001b[39m=\u001b[39m [a, b, c]\n\u001b[0;32m     12\u001b[0m                             \u001b[39mreturn\u001b[39;00m added\n\u001b[1;32m---> 15\u001b[0m \u001b[39mprint\u001b[39m(threenumbers()\u001b[39m.\u001b[39;49msumthree([\u001b[39m-\u001b[39;49m\u001b[39m25\u001b[39;49m, \u001b[39m-\u001b[39;49m\u001b[39m10\u001b[39;49m, \u001b[39m-\u001b[39;49m\u001b[39m7\u001b[39;49m, \u001b[39m-\u001b[39;49m\u001b[39m3\u001b[39;49m, \u001b[39m2\u001b[39;49m, \u001b[39m4\u001b[39;49m, \u001b[39m8\u001b[39;49m, \u001b[39m10\u001b[39;49m]))\n",
      "Cell \u001b[1;32mIn[10], line 9\u001b[0m, in \u001b[0;36mthreenumbers.sumthree\u001b[1;34m(self, nums)\u001b[0m\n\u001b[0;32m      7\u001b[0m \u001b[39mfor\u001b[39;00m b \u001b[39min\u001b[39;00m nums:\n\u001b[0;32m      8\u001b[0m     \u001b[39mif\u001b[39;00m b \u001b[39m!=\u001b[39m a:\n\u001b[1;32m----> 9\u001b[0m         \u001b[39mfor\u001b[39;00m c \u001b[39min\u001b[39;00m nums\u001b[39m.\u001b[39mremove(b):\n\u001b[0;32m     10\u001b[0m             \u001b[39mif\u001b[39;00m c\u001b[39m!=\u001b[39m a \u001b[39mand\u001b[39;00m c\u001b[39m!=\u001b[39mb:\n\u001b[0;32m     11\u001b[0m                 added \u001b[39m=\u001b[39m [a, b, c]\n",
      "\u001b[1;31mTypeError\u001b[0m: 'NoneType' object is not iterable"
     ]
    }
   ],
   "source": [
    "#nums = [-25, -10, -7, -3, 2, 4, 8, 10]\n",
    "\n",
    "class threenumbers:\n",
    "    def sumthree(self, nums):\n",
    "        nums, added, final = sorted(nums), [], 0\n",
    "        for a in nums:\n",
    "            for b in nums:\n",
    "                if b != a:\n",
    "                    for c in nums.remove(b):\n",
    "                        if c!= a and c!=b:\n",
    "                            added = [a, b, c]\n",
    "                            return added\n",
    "\n",
    "\n",
    "print(threenumbers().sumthree([-25, -10, -7, -3, 2, 4, 8, 10]))"
   ]
  },
  {
   "attachments": {},
   "cell_type": "markdown",
   "metadata": {},
   "source": [
    "## Student Information"
   ]
  },
  {
   "cell_type": "code",
   "execution_count": 11,
   "metadata": {},
   "outputs": [],
   "source": [
    "#Students Information\n",
    "#1.Add a student\n",
    "#2.List all students\n",
    "# 3.Enroll a student to the Course\n",
    "# 4.Display courses\n",
    "# 5.Exit"
   ]
  },
  {
   "cell_type": "code",
   "execution_count": 18,
   "metadata": {},
   "outputs": [
    {
     "name": "stdout",
     "output_type": "stream",
     "text": [
      "Jackson's courses are following:\n",
      "Geography\n"
     ]
    },
    {
     "data": {
      "text/plain": [
       "'Student Id: 1, Name: Jackson'"
      ]
     },
     "execution_count": 18,
     "metadata": {},
     "output_type": "execute_result"
    }
   ],
   "source": [
    "class Student:\n",
    "    def __init__(self, id, name):\n",
    "        self.id = id\n",
    "        self.name = name\n",
    "        self.courses_students = []\n",
    "    \n",
    "    def __str__(self) -> str:\n",
    "        return f'Student Id: {self.id}, Name: {self.name}'\n",
    "    \n",
    "    def enroll_course(self, course):\n",
    "        self.courses_students.append(course)\n",
    "\n",
    "    def display_courses(self):\n",
    "        print(f'{self.name}\\'s courses are following:')\n",
    "        for course in self.courses_students:\n",
    "            print(course)\n",
    "\n",
    "Jack = Student(1, 'Jackson')  \n",
    "Jack.enroll_course('Geography')         \n",
    "Jack.display_courses()\n",
    "Jack.__str__()"
   ]
  },
  {
   "cell_type": "code",
   "execution_count": 19,
   "metadata": {},
   "outputs": [],
   "source": [
    "class Course:\n",
    "    def __init__(self, course_code, course_name):\n",
    "        self.course_code = course_code\n",
    "        self.course_name = course_name\n",
    "\n",
    "    def __str__(self) -> str:\n",
    "        return f'Course Code: {self.course_code}, Course Name: {self.course_name}'\n",
    "   "
   ]
  },
  {
   "cell_type": "code",
   "execution_count": 29,
   "metadata": {},
   "outputs": [],
   "source": [
    "class StudentList:\n",
    "    def __init__(self):\n",
    "        self.students = []\n",
    "\n",
    "    def add_student(self, student):\n",
    "        self.students.append(student)\n",
    "\n",
    "    def list_students(self):\n",
    "        print(\"List of students:\")\n",
    "        for student in self.students:\n",
    "            print(student)\n",
    "\n",
    "    def search_student(self, id):\n",
    "        for student in self.students:\n",
    "            if student.id == id:\n",
    "                return student"
   ]
  },
  {
   "cell_type": "code",
   "execution_count": 30,
   "metadata": {},
   "outputs": [
    {
     "name": "stdout",
     "output_type": "stream",
     "text": [
      "Welcome to Students Information program\n",
      "1.Add a student\n",
      "2.List all students\n",
      "3.Enroll a student in a course\n",
      "4.Display courses for a student\n",
      "5.Exit\n",
      "Student {name} have been added successfully\n",
      "Welcome to Students Information program\n",
      "1.Add a student\n",
      "2.List all students\n",
      "3.Enroll a student in a course\n",
      "4.Display courses for a student\n",
      "5.Exit\n",
      "List of students:\n",
      "Student Id: 5, Name: Nani\n",
      "Welcome to Students Information program\n",
      "1.Add a student\n",
      "2.List all students\n",
      "3.Enroll a student in a course\n",
      "4.Display courses for a student\n",
      "5.Exit\n"
     ]
    },
    {
     "ename": "TypeError",
     "evalue": "'Student' object is not subscriptable",
     "output_type": "error",
     "traceback": [
      "\u001b[1;31m---------------------------------------------------------------------------\u001b[0m",
      "\u001b[1;31mTypeError\u001b[0m                                 Traceback (most recent call last)",
      "Cell \u001b[1;32mIn[30], line 53\u001b[0m\n\u001b[0;32m     50\u001b[0m         \u001b[39melse\u001b[39;00m:\n\u001b[0;32m     51\u001b[0m             \u001b[39mprint\u001b[39m(\u001b[39m'\u001b[39m\u001b[39mPlease enter numbers between 1 and 5\u001b[39m\u001b[39m'\u001b[39m)\n\u001b[1;32m---> 53\u001b[0m main()\n",
      "Cell \u001b[1;32mIn[30], line 28\u001b[0m, in \u001b[0;36mmain\u001b[1;34m()\u001b[0m\n\u001b[0;32m     26\u001b[0m \u001b[39melif\u001b[39;00m choice \u001b[39m==\u001b[39m \u001b[39m\"\u001b[39m\u001b[39m3\u001b[39m\u001b[39m\"\u001b[39m:\n\u001b[0;32m     27\u001b[0m     \u001b[39mid\u001b[39m \u001b[39m=\u001b[39m \u001b[39minput\u001b[39m(\u001b[39m\"\u001b[39m\u001b[39mEnter Student ID: \u001b[39m\u001b[39m\"\u001b[39m)\n\u001b[1;32m---> 28\u001b[0m     student \u001b[39m=\u001b[39m studentlist\u001b[39m.\u001b[39;49msearch_student(\u001b[39mid\u001b[39;49m)\n\u001b[0;32m     29\u001b[0m     \u001b[39mif\u001b[39;00m student:\n\u001b[0;32m     30\u001b[0m         course_code \u001b[39m=\u001b[39m \u001b[39minput\u001b[39m(\u001b[39m\"\u001b[39m\u001b[39mEnter course code: \u001b[39m\u001b[39m\"\u001b[39m)\n",
      "Cell \u001b[1;32mIn[29], line 15\u001b[0m, in \u001b[0;36mStudentList.search_student\u001b[1;34m(self, id)\u001b[0m\n\u001b[0;32m     13\u001b[0m \u001b[39mdef\u001b[39;00m \u001b[39msearch_student\u001b[39m(\u001b[39mself\u001b[39m, \u001b[39mid\u001b[39m):\n\u001b[0;32m     14\u001b[0m     \u001b[39mfor\u001b[39;00m student \u001b[39min\u001b[39;00m \u001b[39mself\u001b[39m\u001b[39m.\u001b[39mstudents:\n\u001b[1;32m---> 15\u001b[0m         \u001b[39mif\u001b[39;00m student[\u001b[39m0\u001b[39;49m] \u001b[39m==\u001b[39m \u001b[39mid\u001b[39m:\n\u001b[0;32m     16\u001b[0m             \u001b[39mreturn\u001b[39;00m student\n",
      "\u001b[1;31mTypeError\u001b[0m: 'Student' object is not subscriptable"
     ]
    }
   ],
   "source": [
    "def print_menu():\n",
    "    print(\"Welcome to Students Information program\")\n",
    "    print(\"1.Add a student\")\n",
    "    print(\"2.List all students\")\n",
    "    print(\"3.Enroll a student in a course\")\n",
    "    print(\"4.Display courses for a student\")\n",
    "    print(\"5.Exit\")\n",
    "\n",
    "def main():\n",
    "    studentlist = StudentList()\n",
    "\n",
    "    while True:\n",
    "        print_menu()\n",
    "        choice = input(\"Enter your choice 1-5\")\n",
    "\n",
    "        if choice == \"1\":\n",
    "            id = input(\"Enter Student ID: \")\n",
    "            name = input(\"Enter Student Name: \")\n",
    "            student = Student(id, name)\n",
    "            studentlist.add_student(student)\n",
    "            print('Student {name} have been added successfully')\n",
    "\n",
    "        elif choice == \"2\":\n",
    "            studentlist.list_students()\n",
    "\n",
    "        elif choice == \"3\":\n",
    "            id = input(\"Enter Student ID: \")\n",
    "            student = studentlist.search_student(id)\n",
    "            if student:\n",
    "                course_code = input(\"Enter course code: \")\n",
    "                course_name = input(\"Enter course name: \")\n",
    "                course = Course(course_code, course_name)\n",
    "                student.enroll_course(course)\n",
    "                print(f\"Student {student.name} enrolled in {course_name} successfully\")\n",
    "            else: \n",
    "                print(f'Student with ID{id} not found')\n",
    "\n",
    "        elif choice == \"4\":\n",
    "            id = input(\"Enter student ID: \")\n",
    "            student = studentlist.search_student(id)\n",
    "            if student:\n",
    "                student.display_courses()\n",
    "            else:\n",
    "                print(f'Student with ID {id} not found')\n",
    "\n",
    "        elif choice == \"5\":\n",
    "            print(f'Exiting the program')\n",
    "            break\n",
    "            \n",
    "        else:\n",
    "            print('Please enter numbers between 1 and 5')\n",
    "\n",
    "main()\n",
    "\n"
   ]
  },
  {
   "cell_type": "code",
   "execution_count": 31,
   "metadata": {},
   "outputs": [
    {
     "name": "stdout",
     "output_type": "stream",
     "text": [
      "Welcome to Students Information program\n",
      "1. Add a student\n",
      "2. List all students\n",
      "3. Enroll a student in a course\n",
      "4. Display courses for a student\n",
      "5. Exit\n",
      "Student Zanetti has been added successfully.\n",
      "Welcome to Students Information program\n",
      "1. Add a student\n",
      "2. List all students\n",
      "3. Enroll a student in a course\n",
      "4. Display courses for a student\n",
      "5. Exit\n",
      "List of students:\n",
      "Student Id: 4, Name: Zanetti\n",
      "Welcome to Students Information program\n",
      "1. Add a student\n",
      "2. List all students\n",
      "3. Enroll a student in a course\n",
      "4. Display courses for a student\n",
      "5. Exit\n",
      "Student Zanetti enrolled in Math successfully.\n",
      "Welcome to Students Information program\n",
      "1. Add a student\n",
      "2. List all students\n",
      "3. Enroll a student in a course\n",
      "4. Display courses for a student\n",
      "5. Exit\n",
      "Zanetti's courses are:\n",
      "Course Code: 1, Course Name: Math\n",
      "Welcome to Students Information program\n",
      "1. Add a student\n",
      "2. List all students\n",
      "3. Enroll a student in a course\n",
      "4. Display courses for a student\n",
      "5. Exit\n",
      "Exiting the program.\n"
     ]
    }
   ],
   "source": [
    "class Student:\n",
    "    def __init__(self, id, name):\n",
    "        self.id = id\n",
    "        self.name = name\n",
    "        self.courses_students = []\n",
    "\n",
    "    def __str__(self) -> str:\n",
    "        return f'Student Id: {self.id}, Name: {self.name}'\n",
    "\n",
    "    def enroll_course(self, course):\n",
    "        self.courses_students.append(course)\n",
    "\n",
    "    def display_courses(self):\n",
    "        if self.courses_students:\n",
    "            print(f\"{self.name}'s courses are:\")\n",
    "            for course in self.courses_students:\n",
    "                print(course)  # Use the Course object's __str__ method here\n",
    "        else:\n",
    "            print(f\"{self.name} is not enrolled in any courses.\")\n",
    "\n",
    "class Course:\n",
    "    def __init__(self, course_code, course_name):\n",
    "        self.course_code = course_code\n",
    "        self.course_name = course_name\n",
    "\n",
    "    def __str__(self) -> str:\n",
    "        return f'Course Code: {self.course_code}, Course Name: {self.course_name}'\n",
    "\n",
    "class StudentList:\n",
    "    def __init__(self):\n",
    "        self.students = []\n",
    "\n",
    "    def add_student(self, student):\n",
    "        self.students.append(student)\n",
    "\n",
    "    def list_students(self):\n",
    "        print(\"List of students:\")\n",
    "        for student in self.students:\n",
    "            print(student)\n",
    "\n",
    "    def search_student(self, id):\n",
    "        for student in self.students:\n",
    "            if student.id == id:\n",
    "                return student\n",
    "        return None\n",
    "\n",
    "def print_menu():\n",
    "    print(\"Welcome to Students Information program\")\n",
    "    print(\"1. Add a student\")\n",
    "    print(\"2. List all students\")\n",
    "    print(\"3. Enroll a student in a course\")\n",
    "    print(\"4. Display courses for a student\")\n",
    "    print(\"5. Exit\")\n",
    "\n",
    "#clear()\n",
    "\n",
    "def main():\n",
    "    studentlist = StudentList()\n",
    "\n",
    "    while True:\n",
    "        print_menu()\n",
    "        choice = input(\"Enter your choice (1-5): \")\n",
    "\n",
    "        if choice == \"1\":\n",
    "            id = input(\"Enter Student ID: \")\n",
    "            name = input(\"Enter Student Name: \")\n",
    "            student = Student(id, name)\n",
    "            studentlist.add_student(student)\n",
    "            print(f\"Student {name} has been added successfully.\")\n",
    "\n",
    "        elif choice == \"2\":\n",
    "            studentlist.list_students()\n",
    "\n",
    "        elif choice == \"3\":\n",
    "            id = input(\"Enter Student ID: \")\n",
    "            student = studentlist.search_student(id)\n",
    "            if student:\n",
    "                course_code = input(\"Enter course code: \")\n",
    "                course_name = input(\"Enter course name: \")\n",
    "                course = Course(course_code, course_name)\n",
    "                student.enroll_course(course)\n",
    "                print(f\"Student {student.name} enrolled in {course_name} successfully.\")\n",
    "            else:\n",
    "                print(f\"Student with ID {id} not found.\")\n",
    "\n",
    "        elif choice == \"4\":\n",
    "            id = input(\"Enter Student ID: \")\n",
    "            student = studentlist.search_student(id)\n",
    "            if student:\n",
    "                student.display_courses()\n",
    "            else:\n",
    "                print(f\"Student with ID {id} not found.\")\n",
    "\n",
    "        elif choice == \"5\":\n",
    "            print(\"Exiting the program.\")\n",
    "            break\n",
    "\n",
    "        else:\n",
    "            print(\"Please enter a number between 1 and 5.\")\n",
    "\n",
    "main()\n"
   ]
  }
 ],
 "metadata": {
  "kernelspec": {
   "display_name": "Python 3",
   "language": "python",
   "name": "python3"
  },
  "language_info": {
   "codemirror_mode": {
    "name": "ipython",
    "version": 3
   },
   "file_extension": ".py",
   "mimetype": "text/x-python",
   "name": "python",
   "nbconvert_exporter": "python",
   "pygments_lexer": "ipython3",
   "version": "3.10.6"
  },
  "orig_nbformat": 4
 },
 "nbformat": 4,
 "nbformat_minor": 2
}
