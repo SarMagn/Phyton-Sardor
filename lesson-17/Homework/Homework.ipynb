{
 "cells": [
  {
   "cell_type": "markdown",
   "metadata": {},
   "source": [
    "Creating and Inserting data"
   ]
  },
  {
   "cell_type": "code",
   "execution_count": null,
   "metadata": {},
   "outputs": [
    {
     "name": "stdout",
     "output_type": "stream",
     "text": [
      "Database RosterDatabase Created\n",
      "Table Created\n",
      "Values Inserted\n"
     ]
    }
   ],
   "source": [
    "import pypyodbc as odbc\n",
    "\n",
    "Server_name = r'Sardors-laptop\\SQLSERVER2025'\n",
    "Driver_name = 'SQL Server'\n",
    "\n",
    "connetcion_string = f'Driver={{{Driver_name}}};Server={Server_name};Trusted_Connection=Yes'\n",
    "\n",
    "db_name = 'RosterDatabase'\n",
    "\n",
    "connection = odbc.connect(connetcion_string, autocommit=True)\n",
    "cursor = connection.cursor()\n",
    "sql_query = f\"\"\"if not exists (select * from sys.sysdatabases where  name = 'RosterDatabase')\n",
    "        begin\n",
    "            Create database {db_name}\n",
    "        end\n",
    "\"\"\"\n",
    "cursor.execute(sql_query)\n",
    "print(f'Database {db_name} Created')\n",
    "cursor.close()\n",
    "\n",
    "connection = odbc.connect(f'{connetcion_string};DATABASE={db_name};',autocommit=True)\n",
    "cursor = connection.cursor()\n",
    "sql_query = 'create table Roster(Name varchar(50), Species varchar(50), Age int)'\n",
    "cursor.execute(sql_query)\n",
    "print('Table Roaster Created')\n",
    "cursor.close()\n",
    "\n",
    "cursor = connection.cursor()\n",
    "sql_query = \"Insert into Roster values ('Benjamin Sisko','Human',40), ('Jadzia Dax', 'Trill', 300), ('Kira Nerys', 'Bajoran', 29)\"\n",
    "cursor.execute(sql_query)\n",
    "print('All Values Inserted')\n",
    "\n",
    "\n",
    "cursor.close()\n",
    "connection.close()\n"
   ]
  },
  {
   "cell_type": "markdown",
   "metadata": {},
   "source": [
    "Updating "
   ]
  },
  {
   "cell_type": "code",
   "execution_count": 28,
   "metadata": {},
   "outputs": [],
   "source": [
    "Server_name = r'Sardors-laptop\\SQLSERVER2025'\n",
    "Driver_name = 'SQL Server'\n",
    "\n",
    "# connetcion_string = f'Driver={{{Driver_name}}};Server={Server_name};Trusted_Connection=Yes'\n",
    "\n",
    "connection = odbc.connect(f'Driver={{{Driver_name}}};Server={Server_name};DATABASE={db_name};Trusted_Connection=Yes',autocommit=True)\n",
    "cursor = connection.cursor()\n",
    "sql_query = \"Update Roster set Name = 'Ezri Dax' where name = 'Jadzia Dax' \"\n",
    "cursor.execute(sql_query)\n",
    "cursor.close()\n",
    "connection.close()"
   ]
  },
  {
   "cell_type": "markdown",
   "metadata": {},
   "source": [
    "Selecting"
   ]
  },
  {
   "cell_type": "code",
   "execution_count": 40,
   "metadata": {},
   "outputs": [
    {
     "name": "stdout",
     "output_type": "stream",
     "text": [
      "[('Kira Nerys', 29)]\n"
     ]
    }
   ],
   "source": [
    "Server_name = r'Sardors-laptop\\SQLSERVER2025'\n",
    "Driver_name = 'SQL Server'\n",
    "\n",
    "# connetcion_string = f'Driver={{{Driver_name}}};Server={Server_name};Trusted_Connection=Yes'\n",
    "\n",
    "connection = odbc.connect(f'Driver={{{Driver_name}}};Server={Server_name};DATABASE={db_name};Trusted_Connection=Yes',autocommit=True)\n",
    "cursor = connection.cursor()\n",
    "sql_query = \"Select Name, Age from Roster where Species like '%Bajoran%' \"\n",
    "execution = cursor.execute(sql_query)\n",
    "displaying = execution.fetchall()\n",
    "print(displaying)\n",
    "cursor.close()\n",
    "connection.close()"
   ]
  }
 ],
 "metadata": {
  "kernelspec": {
   "display_name": "Python 3",
   "language": "python",
   "name": "python3"
  },
  "language_info": {
   "codemirror_mode": {
    "name": "ipython",
    "version": 3
   },
   "file_extension": ".py",
   "mimetype": "text/x-python",
   "name": "python",
   "nbconvert_exporter": "python",
   "pygments_lexer": "ipython3",
   "version": "3.12.8"
  }
 },
 "nbformat": 4,
 "nbformat_minor": 2
}
