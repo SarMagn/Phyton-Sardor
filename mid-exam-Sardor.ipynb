{
 "cells": [
  {
   "attachments": {},
   "cell_type": "markdown",
   "metadata": {},
   "source": [
    "Question 1"
   ]
  },
  {
   "cell_type": "code",
   "execution_count": 23,
   "metadata": {},
   "outputs": [
    {
     "name": "stdout",
     "output_type": "stream",
     "text": [
      "Turkey is not in the top 10 largest countries\n"
     ]
    }
   ],
   "source": [
    "#Top 10 largest countries in the world per area\n",
    "largestCountries = [\"Russia\",\"Canada\",\"USA\",\"China\",\"Brazil\",\"Australia\",\"India\",\"Argentina\",\"Kazakhstan\",\"Algeria\"]\n",
    "\n",
    "#Ask the user to guess one of the top 10 biggest countries in the world\n",
    "#If the guess is correct, Return Country name with a statement. \"You are correct. Country_name is in the top 10 largest countries\"\n",
    "#If not. Country name is not in the top 10 largest countries \n",
    "#Replace Country name with the input user provides\n",
    "\n",
    "largests = []\n",
    "for i in largestCountries:\n",
    "    largests.append(i.lower())\n",
    "\n",
    "\n",
    "guessed_country = (input('Please, Guess one of the top 10 biggest countries in the world!')).lower()\n",
    "\n",
    "if guessed_country in largests:\n",
    "    print(f'You are correct. {guessed_country.capitalize()} is in the top 10 largest countries')\n",
    "else: \n",
    "    print(f'{guessed_country.capitalize()} is not in the top 10 largest countries')\n",
    "\n",
    "\n"
   ]
  },
  {
   "attachments": {},
   "cell_type": "markdown",
   "metadata": {},
   "source": [
    "Question 2"
   ]
  },
  {
   "cell_type": "code",
   "execution_count": 50,
   "metadata": {},
   "outputs": [
    {
     "data": {
      "text/plain": [
       "[1, 2, 3, 4, 8]"
      ]
     },
     "execution_count": 50,
     "metadata": {},
     "output_type": "execute_result"
    }
   ],
   "source": [
    "#Write a function unique_elements(lst) that returns a sorted list of unique elements from the input list.\n",
    "lst = [4, 2, 2, 8, 3, 3, 4, 1]\n",
    "# Output: [1, 2, 3, 4, 8]\n",
    "\n",
    "def unique_elements(lst):\n",
    "    return list(set(lst))\n",
    "\n",
    "unique_elements(lst)\n",
    "\n",
    "\n"
   ]
  },
  {
   "attachments": {},
   "cell_type": "markdown",
   "metadata": {},
   "source": [
    "Question 3"
   ]
  },
  {
   "cell_type": "code",
   "execution_count": 55,
   "metadata": {},
   "outputs": [
    {
     "data": {
      "text/plain": [
       "([2, 6, 8], [1, 3, 5])"
      ]
     },
     "execution_count": 55,
     "metadata": {},
     "output_type": "execute_result"
    }
   ],
   "source": [
    "#Write a function even_odd_sort(numbers) that separates even and odd numbers from a list.\n",
    "#Return a tuple where the first element is a sorted list of even numbers, and the second is a sorted list of odd numbers.\n",
    "\n",
    "numbers = [5, 3, 8, 6, 1, 2]  \n",
    "# Output: ([2, 6, 8], [1, 3, 5])\n",
    "\n",
    "def even_odd_sort(numbers):\n",
    "    even_list = []\n",
    "    odd_list = []\n",
    "    for i in numbers:\n",
    "        if i % 2 == 0:\n",
    "            even_list.append(i)\n",
    "        if i % 2 != 0:\n",
    "            odd_list.append(i)\n",
    "    even_list = sorted(even_list)\n",
    "    odd_list = sorted(odd_list)\n",
    "    return  (even_list, odd_list)\n",
    "\n",
    "\n",
    "even_odd_sort(numbers)\n"
   ]
  },
  {
   "attachments": {},
   "cell_type": "markdown",
   "metadata": {},
   "source": [
    "Question 4"
   ]
  },
  {
   "cell_type": "code",
   "execution_count": 83,
   "metadata": {},
   "outputs": [
    {
     "data": {
      "text/plain": [
       "5"
      ]
     },
     "execution_count": 83,
     "metadata": {},
     "output_type": "execute_result"
    }
   ],
   "source": [
    "#Write a function second_largest(lst) that returns the second largest unique number in a list.\n",
    "\n",
    "#If there is no second largest number, return None.\n",
    "\n",
    "lst = [5, 3, 9, 1, 9]\n",
    "#Output: 5\n",
    "\n",
    "def second_largest(lst):\n",
    "    lst = sorted(list(set(lst)))\n",
    "    try:\n",
    "        return lst[-2]\n",
    "    except IndexError:\n",
    "        print(None)    \n",
    "\n",
    "\n",
    "\n",
    "\n",
    "second_largest(lst)\n",
    "\n",
    "\n",
    "\n",
    "\n"
   ]
  },
  {
   "attachments": {},
   "cell_type": "markdown",
   "metadata": {},
   "source": [
    "Question 5"
   ]
  },
  {
   "cell_type": "code",
   "execution_count": 27,
   "metadata": {},
   "outputs": [
    {
     "name": "stdout",
     "output_type": "stream",
     "text": [
      "Welcome to Number guessing Game!\n",
      "Please, choose a difficulty level \n",
      "\"EASY\" -> 10 attempts or \"HARD\" -> 5 attempts\n",
      "Please, Enter guessed number!\n",
      "Your number is too low\n",
      "Your number is too low\n",
      "Your number is too low\n",
      "Your number is too low\n",
      "Your number is too low\n",
      "Your number is too high\n",
      "Your number is too high\n",
      "Your number is too high\n",
      "Your number is too high\n",
      "Your number is too low\n",
      " You ran out of attempts! The correct number was 83.\n"
     ]
    }
   ],
   "source": [
    "#Create a function for a Number Guessing Game where the computer randomly selects a number between 1 and 100, and the player has to guess it.\n",
    "\n",
    "# Requirements:\n",
    "# Display a welcome message and inform the player about the game rules.\n",
    "# Randomly generate a number between 1 and 100.\n",
    "# Allow the player to choose a difficulty level:\n",
    "# \"easy\" → 10 attempts\n",
    "# \"hard\" → 5 attempts\n",
    "# Give hints after each guess:\n",
    "# If the guess is too high, print \"Too high.\"\n",
    "# If the guess is too low, print \"Too low.\"\n",
    "# If the guess is correct, print \"You got it! The answer was <number>.\" and end the game.\n",
    "# End the game if the player runs out of attempts, displaying \"You've run out of guesses, you lose.\"\n",
    "# Handle invalid difficulty inputs by displaying \"Invalid input\" and exiting the game.\n",
    "import random \n",
    "\n",
    "\n",
    "\n",
    "def display_message():\n",
    "    print('Welcome to Number guessing Game!')\n",
    "\n",
    "    random_number = random.randint(1,100)\n",
    "\n",
    "    print('Please, choose a difficulty level \\n\"EASY\" -> 10 attempts or \"HARD\" -> 5 attempts')\n",
    "    mode = input().lower()\n",
    "    if mode == 'easy':\n",
    "        attempts = 10\n",
    "    elif mode == 'hard':\n",
    "        attempts = 5\n",
    "    else:\n",
    "        print('You entered invalid value')\n",
    "    \n",
    "    print('Please, Enter guessed number!')\n",
    "    \n",
    "    while attempts > 0:\n",
    "        try:\n",
    "            guessed_number = int(input('Please, Enter guessed number!'))\n",
    "           \n",
    "            if guessed_number == random_number:\n",
    "                print(f\"You got it! The answer was {random_number}.\")\n",
    "                break\n",
    "            elif int(guessed_number) > random_number:\n",
    "                print(f'Your number is too high')\n",
    "            else: \n",
    "                print(f'Your number is too low')\n",
    "            \n",
    "            attempts -= 1\n",
    "        except ValueError:\n",
    "            print('You entered invalid value!')\n",
    "            break\n",
    "        if attempts == 0:\n",
    "            print(f\" You ran out of attempts! The correct number was {random_number}.\")\n",
    "\n",
    "\n",
    "display_message()\n",
    "\n",
    "\n",
    "\n",
    "\n",
    "   #     elif  isinstance(mode,str) or mode.isdigit():\n",
    "    #         raise ValueError('Value error please enter \"Easy\" or \"Hard\" mode ')\n",
    "    # except ValueError :\n",
    "    #     print(ValueError)\n",
    "    #     exit()"
   ]
  }
 ],
 "metadata": {
  "kernelspec": {
   "display_name": "Python 3",
   "language": "python",
   "name": "python3"
  },
  "language_info": {
   "codemirror_mode": {
    "name": "ipython",
    "version": 3
   },
   "file_extension": ".py",
   "mimetype": "text/x-python",
   "name": "python",
   "nbconvert_exporter": "python",
   "pygments_lexer": "ipython3",
   "version": "3.12.8"
  },
  "orig_nbformat": 4
 },
 "nbformat": 4,
 "nbformat_minor": 2
}
