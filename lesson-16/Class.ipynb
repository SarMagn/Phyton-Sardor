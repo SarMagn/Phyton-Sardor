{
 "cells": [
  {
   "cell_type": "code",
   "execution_count": 22,
   "metadata": {},
   "outputs": [
    {
     "ename": "SyntaxError",
     "evalue": "cannot assign to expression here. Maybe you meant '==' instead of '='? (3207391001.py, line 18)",
     "output_type": "error",
     "traceback": [
      "\u001b[1;36m  Cell \u001b[1;32mIn[22], line 18\u001b[1;36m\u001b[0m\n\u001b[1;33m    25 + 5  = 30\u001b[0m\n\u001b[1;37m    ^\u001b[0m\n\u001b[1;31mSyntaxError\u001b[0m\u001b[1;31m:\u001b[0m cannot assign to expression here. Maybe you meant '==' instead of '='?\n"
     ]
    }
   ],
   "source": [
    "\n",
    "Input_Word = input('Please! Write your Words').lower()\n",
    "codingNumber = 5\n",
    "my_list = []\n",
    "index_list = []\n",
    "alphabet = ['a', 'b', 'c', 'd', 'e', 'f', 'g', 'h', 'i', 'j', 'k', 'l', 'm', 'n', 'o', 'p', 'q', 'r', 's', 't', 'u', 'v', 'w', 'x', 'y', 'z']\n",
    "\n",
    "for i in Input_Word:\n",
    "    # my_list.append(i)\n",
    "    index_list.append(alphabet.index(i)+codingNumber)\n",
    "\n",
    "# for i in index_list:\n",
    "#     if i > \n",
    "\n",
    "result = [ alphabet[i] for i in index_list]\n",
    "\n",
    "\n",
    "\n",
    "25 + 5  = 30  \n",
    "\n",
    "\n",
    "# print(my_list)\n",
    "print(index_list)\n",
    "print(result)\n",
    "print(len(alphabet))\n"
   ]
  },
  {
   "cell_type": "code",
   "execution_count": null,
   "metadata": {},
   "outputs": [
    {
     "name": "stdout",
     "output_type": "stream",
     "text": [
      "The encoded sentence is morning\n"
     ]
    }
   ],
   "source": [
    "alphabet = ['a', 'b', 'c', 'd', 'e', 'f', 'g', 'h', 'i', 'j', 'k', 'l', 'm', 'n', 'o', 'p', 'q', 'r', 's', 't', 'u', 'v', 'w', 'x', 'y', 'z',\n",
    "            'a', 'b', 'c', 'd', 'e', 'f', 'g', 'h', 'i', 'j', 'k', 'l', 'm', 'n', 'o', 'p', 'q', 'r', 's', 't', 'u', 'v', 'w', 'x', 'y', 'z']\n",
    "text = input('Type your message: ')\n",
    "shift = int(input('Type the shift number: '))\n",
    "\n",
    "def encryption(sentence, shif_amount):\n",
    "    encoded_text = ''\n",
    "    for i in sentence:\n",
    "        position = alphabet.index(i)\n",
    "        new_position = position + shif_amount\n",
    "        num = new_position % 26\n",
    "        # print(num)\n",
    "        new_letter = alphabet[num]\n",
    "        encoded_text += new_letter\n",
    "    print(f'The encoded sentence is {encoded_text}')\n",
    "\n",
    "encryption(text, shift)\n",
    "\n",
    "\n"
   ]
  },
  {
   "cell_type": "code",
   "execution_count": null,
   "metadata": {},
   "outputs": [
    {
     "data": {
      "text/plain": [
       "14716"
      ]
     },
     "execution_count": 19,
     "metadata": {},
     "output_type": "execute_result"
    }
   ],
   "source": [
    "\n",
    "\n"
   ]
  },
  {
   "cell_type": "code",
   "execution_count": null,
   "metadata": {},
   "outputs": [],
   "source": [
    "import threading\n",
    "\n"
   ]
  },
  {
   "cell_type": "code",
   "execution_count": 82,
   "metadata": {},
   "outputs": [],
   "source": [
    "#pyodbc\n",
    "# connect to your sql server\n",
    "# get data from a table and load it to csv"
   ]
  }
 ],
 "metadata": {
  "kernelspec": {
   "display_name": "Python 3",
   "language": "python",
   "name": "python3"
  },
  "language_info": {
   "codemirror_mode": {
    "name": "ipython",
    "version": 3
   },
   "file_extension": ".py",
   "mimetype": "text/x-python",
   "name": "python",
   "nbconvert_exporter": "python",
   "pygments_lexer": "ipython3",
   "version": "3.12.8"
  }
 },
 "nbformat": 4,
 "nbformat_minor": 2
}
