{
 "cells": [
  {
   "cell_type": "markdown",
   "metadata": {},
   "source": [
    "Dictionary"
   ]
  },
  {
   "cell_type": "code",
   "execution_count": 17,
   "metadata": {},
   "outputs": [
    {
     "name": "stdout",
     "output_type": "stream",
     "text": [
      "Wlecome to Polu Chudes\n",
      "Your word: _ _ _ _\n"
     ]
    }
   ],
   "source": [
    "import random\n",
    "\n",
    "def pole_chudes():\n",
    "    print('Wlecome to Polu Chudes')\n",
    "    words = [\"Table\", \"Laptop\", \"Tech\", \"Notebook\", \"Factory\", \"Stone\", \"Ghost\", \"User\", \"Flower\" ]\n",
    "    word = random.choice(words).upper()\n",
    "    hidden_word = len(word) * [\"_\"]\n",
    "    guessed_letters = set()\n",
    "    attempts = 3\n",
    "     \n",
    "    print(f\"Your word: {\" \".join(hidden_word)}\")\n",
    "    \n",
    "pole_chudes()"
   ]
  }
 ],
 "metadata": {
  "kernelspec": {
   "display_name": "Python 3",
   "language": "python",
   "name": "python3"
  },
  "language_info": {
   "codemirror_mode": {
    "name": "ipython",
    "version": 3
   },
   "file_extension": ".py",
   "mimetype": "text/x-python",
   "name": "python",
   "nbconvert_exporter": "python",
   "pygments_lexer": "ipython3",
   "version": "3.12.8"
  }
 },
 "nbformat": 4,
 "nbformat_minor": 2
}
