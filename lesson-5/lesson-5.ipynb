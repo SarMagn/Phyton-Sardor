{
 "cells": [
  {
   "cell_type": "code",
   "execution_count": 1,
   "metadata": {},
   "outputs": [
    {
     "name": "stdout",
     "output_type": "stream",
     "text": [
      "('Hi', 'Hello')\n",
      "<class 'tuple'>\n"
     ]
    }
   ],
   "source": [
    "a = 'Hi', 'Hello'\n",
    "print(a)\n",
    "print(type(a))"
   ]
  },
  {
   "cell_type": "code",
   "execution_count": 3,
   "metadata": {},
   "outputs": [
    {
     "name": "stdout",
     "output_type": "stream",
     "text": [
      "['w', 'o', 'r', 'l', 'd']\n",
      "('w', 'o', 'r', 'l', 'd')\n"
     ]
    }
   ],
   "source": [
    "b = list('world')\n",
    "c = tuple('world')\n",
    "\n",
    "print(b)\n",
    "print(c)"
   ]
  },
  {
   "cell_type": "code",
   "execution_count": 5,
   "metadata": {},
   "outputs": [
    {
     "name": "stdout",
     "output_type": "stream",
     "text": [
      "['w', 'a', 'r', 'l', 'd']\n"
     ]
    }
   ],
   "source": [
    "b[1] = 'a'\n",
    "print(b)"
   ]
  },
  {
   "cell_type": "code",
   "execution_count": 8,
   "metadata": {},
   "outputs": [
    {
     "ename": "TypeError",
     "evalue": "'tuple' object does not support item assignment",
     "output_type": "error",
     "traceback": [
      "\u001b[1;31m---------------------------------------------------------------------------\u001b[0m",
      "\u001b[1;31mTypeError\u001b[0m                                 Traceback (most recent call last)",
      "Cell \u001b[1;32mIn[8], line 1\u001b[0m\n\u001b[1;32m----> 1\u001b[0m \u001b[43mc\u001b[49m\u001b[43m[\u001b[49m\u001b[38;5;241;43m1\u001b[39;49m\u001b[43m]\u001b[49m \u001b[38;5;241m=\u001b[39m \u001b[38;5;124m'\u001b[39m\u001b[38;5;124ma\u001b[39m\u001b[38;5;124m'\u001b[39m\n\u001b[0;32m      2\u001b[0m \u001b[38;5;28mprint\u001b[39m(c)\n",
      "\u001b[1;31mTypeError\u001b[0m: 'tuple' object does not support item assignment"
     ]
    }
   ],
   "source": [
    "c[1] = 'a'\n",
    "print(c)"
   ]
  },
  {
   "cell_type": "code",
   "execution_count": 10,
   "metadata": {},
   "outputs": [
    {
     "name": "stdout",
     "output_type": "stream",
     "text": [
      "Python\n"
     ]
    }
   ],
   "source": [
    "\n",
    "nested_list = [1, [2, [3, 'Python']]]\n",
    "print(nested_list[1][1][1])"
   ]
  },
  {
   "cell_type": "code",
   "execution_count": null,
   "metadata": {},
   "outputs": [],
   "source": []
  },
  {
   "cell_type": "code",
   "execution_count": 15,
   "metadata": {},
   "outputs": [
    {
     "name": "stdout",
     "output_type": "stream",
     "text": [
      "[('Beck', 22), ('Joe', 31), ('Mike', 25)]\n",
      "[('Mike', 25), ('Joe', 31), ('Beck', 22)]\n",
      "[('Beck', 22), ('Mike', 25), ('Joe', 31)]\n"
     ]
    }
   ],
   "source": [
    "\n",
    "\n",
    "my_tuple_list = [\n",
    "    ('Mike', 25), ('Joe', 31), ('Beck', 22)\n",
    "]\n",
    "print(sorted(my_tuple_list))\n",
    "print(my_tuple_list)\n",
    "print(sorted(my_tuple_list, key=lambda x:x[1]))"
   ]
  },
  {
   "cell_type": "code",
   "execution_count": 20,
   "metadata": {},
   "outputs": [
    {
     "name": "stdout",
     "output_type": "stream",
     "text": [
      "[1, 2, 3, ('a', 'b', 'c')]\n"
     ]
    }
   ],
   "source": [
    "numbers = [1, 2, 3]\n",
    "letters = ('a', 'b', 'c')\n",
    "\n",
    "\n",
    "numbers.append(letters)\n",
    "print(numbers)"
   ]
  },
  {
   "cell_type": "code",
   "execution_count": 27,
   "metadata": {},
   "outputs": [
    {
     "name": "stdout",
     "output_type": "stream",
     "text": [
      "['apple', 'grape', 'cherry', 'orange']\n"
     ]
    }
   ],
   "source": [
    "#Puzzle.\n",
    "fruits = ['apple', 'banana', 'cherry']\n",
    "# Add 'orange' to the end of the list.\n",
    "# Insert 'grape' at index 1.\n",
    "# Remove 'banana' from the list.\n",
    "# Print the final list.\n",
    "\n",
    "fruits.append('orange')\n",
    "fruits.insert(1,'grape')\n",
    "fruits.remove('banana')\n",
    "print(fruits)"
   ]
  },
  {
   "cell_type": "code",
   "execution_count": 29,
   "metadata": {},
   "outputs": [
    {
     "name": "stdout",
     "output_type": "stream",
     "text": [
      "<class 'str'>\n"
     ]
    }
   ],
   "source": [
    "data = \"1,2,3,4,5\"\n",
    "print(type(data))"
   ]
  },
  {
   "cell_type": "code",
   "execution_count": 42,
   "metadata": {},
   "outputs": [
    {
     "name": "stdout",
     "output_type": "stream",
     "text": [
      "(1, 2, 3, 4, 5)\n"
     ]
    }
   ],
   "source": [
    "data1 = tuple(int(x) for x in data.split(','))\n",
    "print(data1)\n"
   ]
  },
  {
   "cell_type": "code",
   "execution_count": 34,
   "metadata": {},
   "outputs": [
    {
     "data": {
      "text/plain": [
       "['__add__',\n",
       " '__class__',\n",
       " '__class_getitem__',\n",
       " '__contains__',\n",
       " '__delattr__',\n",
       " '__dir__',\n",
       " '__doc__',\n",
       " '__eq__',\n",
       " '__format__',\n",
       " '__ge__',\n",
       " '__getattribute__',\n",
       " '__getitem__',\n",
       " '__getnewargs__',\n",
       " '__getstate__',\n",
       " '__gt__',\n",
       " '__hash__',\n",
       " '__init__',\n",
       " '__init_subclass__',\n",
       " '__iter__',\n",
       " '__le__',\n",
       " '__len__',\n",
       " '__lt__',\n",
       " '__mul__',\n",
       " '__ne__',\n",
       " '__new__',\n",
       " '__reduce__',\n",
       " '__reduce_ex__',\n",
       " '__repr__',\n",
       " '__rmul__',\n",
       " '__setattr__',\n",
       " '__sizeof__',\n",
       " '__str__',\n",
       " '__subclasshook__',\n",
       " 'count',\n",
       " 'index']"
      ]
     },
     "execution_count": 34,
     "metadata": {},
     "output_type": "execute_result"
    }
   ],
   "source": [
    "dir(tuple)"
   ]
  },
  {
   "cell_type": "code",
   "execution_count": 43,
   "metadata": {},
   "outputs": [
    {
     "name": "stdout",
     "output_type": "stream",
     "text": [
      "(1, 2, 3, 4, 5)\n"
     ]
    }
   ],
   "source": [
    "data1 = tuple(map(int, data.split(',')))\n",
    "print(data1)"
   ]
  },
  {
   "cell_type": "code",
   "execution_count": 44,
   "metadata": {},
   "outputs": [],
   "source": [
    "a = 7 \n",
    "b = 8\n"
   ]
  },
  {
   "cell_type": "code",
   "execution_count": 46,
   "metadata": {},
   "outputs": [
    {
     "name": "stdout",
     "output_type": "stream",
     "text": [
      "[[3, 4], [1, 2]]\n"
     ]
    }
   ],
   "source": [
    "nested_list1 = [[1,2], [3,4]]\n",
    "nested_list1[0] , nested_list1[1] =  nested_list1[1],  nested_list1[0]\n",
    "print(nested_list1)"
   ]
  },
  {
   "cell_type": "code",
   "execution_count": 62,
   "metadata": {},
   "outputs": [
    {
     "name": "stdout",
     "output_type": "stream",
     "text": [
      "(4, 5, 3, 2, 1)\n"
     ]
    }
   ],
   "source": [
    "nested_tuple = (1,(2,(3,(4,5))))\n",
    "n0 = nested_tuple[1][1][1][0], nested_tuple[1][1][1][1], nested_tuple[1][1][0], nested_tuple[1][0],  nested_tuple[0]\n",
    "print(n0)"
   ]
  },
  {
   "cell_type": "code",
   "execution_count": 3,
   "metadata": {},
   "outputs": [
    {
     "data": {
      "text/plain": [
       "('kary', 'Camera', 'Course', 'Map')"
      ]
     },
     "execution_count": 3,
     "metadata": {},
     "output_type": "execute_result"
    }
   ],
   "source": [
    "clock = ('kary','Camera','Course','Map')\n",
    "clock"
   ]
  },
  {
   "cell_type": "code",
   "execution_count": 6,
   "metadata": {},
   "outputs": [
    {
     "name": "stdout",
     "output_type": "stream",
     "text": [
      "('Kareness', 'Camera', 'Course', 'Map')\n"
     ]
    }
   ],
   "source": [
    "clock1 = list(clock)\n",
    "clock1[0]= \"Kareness\"\n",
    "clock  = tuple(clock1)\n",
    "print(clock)"
   ]
  },
  {
   "cell_type": "code",
   "execution_count": 10,
   "metadata": {},
   "outputs": [
    {
     "name": "stdout",
     "output_type": "stream",
     "text": [
      "('Kareness', 'Camera', 'Course', 'Map', 'Calendar', 'Calendar')\n",
      "<class 'tuple'>\n"
     ]
    }
   ],
   "source": [
    "y = list(clock)\n",
    "y.append(\"Calendar\")\n",
    "clock   = tuple(y)\n",
    "print(clock)\n",
    "print(type(clock))"
   ]
  },
  {
   "cell_type": "code",
   "execution_count": 15,
   "metadata": {},
   "outputs": [
    {
     "name": "stdout",
     "output_type": "stream",
     "text": [
      "Kareness\n",
      "Camera\n",
      "Course\n",
      "Map\n",
      "['Calendar', 'Calendar']\n"
     ]
    }
   ],
   "source": [
    "clock\n",
    "\n",
    "(care, cam, cor, ma, *cal) = clock\n",
    "\n",
    "print(care)\n",
    "print(cam)\n",
    "print(cor)\n",
    "print(ma)\n",
    "print(cal)\n"
   ]
  },
  {
   "cell_type": "code",
   "execution_count": 13,
   "metadata": {},
   "outputs": [
    {
     "name": "stdout",
     "output_type": "stream",
     "text": [
      "apple\n",
      "banana\n",
      "cherry\n"
     ]
    }
   ],
   "source": [
    "fruits = (\"apple\", \"banana\", \"cherry\")\n",
    "\n",
    "(green, yellow, red) = fruits\n",
    "\n",
    "print(green)\n",
    "print(yellow)\n",
    "print(red)"
   ]
  },
  {
   "cell_type": "code",
   "execution_count": 16,
   "metadata": {},
   "outputs": [
    {
     "name": "stdout",
     "output_type": "stream",
     "text": [
      "Kareness\n",
      "Camera\n",
      "Course\n",
      "Map\n",
      "Calendar\n",
      "Calendar\n"
     ]
    }
   ],
   "source": [
    "for i in clock:\n",
    "    print(i)"
   ]
  },
  {
   "cell_type": "code",
   "execution_count": 20,
   "metadata": {},
   "outputs": [
    {
     "name": "stdout",
     "output_type": "stream",
     "text": [
      "['apple', 'banana', 'cherry', 'apple', 'banana', 'cherry', 'apple', 'banana', 'cherry']\n"
     ]
    }
   ],
   "source": [
    "fruitslist = list(fruits)\n",
    "x = fruitslist * 3\n",
    "print(x)"
   ]
  },
  {
   "cell_type": "code",
   "execution_count": 22,
   "metadata": {},
   "outputs": [
    {
     "data": {
      "text/plain": [
       "[1, 2, 3, 'a', 'b', 'c']"
      ]
     },
     "execution_count": 22,
     "metadata": {},
     "output_type": "execute_result"
    }
   ],
   "source": [
    "numbers1 = [1,2,3]\n",
    "letters1 = list(('a','b','c'))\n",
    "nm = numbers1 + letters1\n",
    "nm"
   ]
  }
 ],
 "metadata": {
  "kernelspec": {
   "display_name": "Python 3",
   "language": "python",
   "name": "python3"
  },
  "language_info": {
   "codemirror_mode": {
    "name": "ipython",
    "version": 3
   },
   "file_extension": ".py",
   "mimetype": "text/x-python",
   "name": "python",
   "nbconvert_exporter": "python",
   "pygments_lexer": "ipython3",
   "version": "3.12.8"
  }
 },
 "nbformat": 4,
 "nbformat_minor": 2
}
