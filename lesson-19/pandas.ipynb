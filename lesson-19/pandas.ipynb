{
 "cells": [
  {
   "cell_type": "code",
   "execution_count": 1,
   "metadata": {},
   "outputs": [
    {
     "name": "stdout",
     "output_type": "stream",
     "text": [
      "Tozalash tugadi. Natija 'cleaned_file.csv' fayliga saqlandi.\n"
     ]
    }
   ],
   "source": [
    "import pandas as pd\n",
    "\n",
    "# CSV faylni yuklash\n",
    "df = pd.read_csv(\"addresses.csv\")\n",
    "\n",
    "# Longitude va Latitude qiymati bo'sh bo'lgan qatorlarni o‘chirish\n",
    "df_cleaned = df.dropna(subset=['latitude', 'longitude'])\n",
    "\n",
    "# Tozalangan ma'lumotlarni yangi CSV fayl sifatida saqlash\n",
    "df_cleaned.to_csv(\"need_to_be_cetring_file.csv\", index=False)\n",
    "\n",
    "print(\"Tozalash tugadi. Natija 'cleaned_file.csv' fayliga saqlandi.\")\n"
   ]
  },
  {
   "cell_type": "code",
   "execution_count": 2,
   "metadata": {},
   "outputs": [
    {
     "name": "stdout",
     "output_type": "stream",
     "text": [
      "✅ Duplikatlar olib tashlandi. Natija 'clean_data.csv' fayliga saqlandi.\n"
     ]
    }
   ],
   "source": [
    "import pandas as pd\n",
    "\n",
    "# CSV faylni yuklash\n",
    "df = pd.read_csv(\"need_to_be_cetring_file.csv\")\n",
    "\n",
    "# Duplikat qatorlarni yo‘qotish\n",
    "df_cleaned = df.drop_duplicates(subset=[\"street\"], keep=\"first\")\n",
    "\n",
    "# Tozalangan CSV faylni saqlash\n",
    "df_cleaned.to_csv(\"need_to_be_cetring_file.csv\", index=False)\n",
    "\n",
    "print(\"✅ Duplikatlar olib tashlandi. Natija 'clean_data.csv' fayliga saqlandi.\")"
   ]
  },
  {
   "cell_type": "code",
   "execution_count": 1,
   "metadata": {},
   "outputs": [
    {
     "name": "stdout",
     "output_type": "stream",
     "text": [
      "✅ City topildi va masofalar hisoblandi. 'cleaned_with_city_and_distance.csv' yaratildi.\n"
     ]
    }
   ],
   "source": [
    "import pandas as pd\n",
    "from geopy.geocoders import Nominatim\n",
    "from geopy.distance import geodesic\n",
    "\n",
    "# CSV faylni yuklash\n",
    "df = pd.read_csv(\"need_to_be_cetring_file.csv\")\n",
    "\n",
    "# O'zbekiston viloyat markazlari koordinatalari\n",
    "city_centers = {\n",
    "    \"Tashkent\": (41.2995, 69.2401),\n",
    "    \"Samarkand\": (39.6542, 66.9597),\n",
    "    \"Bukhara\": (39.7670, 64.4556),\n",
    "    \"Fergana\": (40.3894, 71.7864),\n",
    "    \"Namangan\": (40.9983, 71.6726),\n",
    "    \"Andijan\": (40.7833, 72.3500),\n",
    "    \"Nukus\": (42.4531, 59.6103),\n",
    "    \"Khiva\": (41.3786, 60.3639),\n",
    "    \"Urgench\": (41.5500, 60.6333),\n",
    "    \"Termez\": (37.2242, 67.2783),\n",
    "    \"Jizzakh\": (40.1158, 67.8422),\n",
    "    \"Gulistan\": (40.4958, 68.7842),\n",
    "    \"Navoi\": (40.0844, 65.3792),\n",
    "    \"Zarafshan\": (41.5789, 64.1975),\n",
    "    \"Qarshi\": (38.8600, 65.8000)\n",
    "}\n",
    "\n",
    "# Geolocator yaratish\n",
    "geolocator = Nominatim(user_agent=\"geoapiExercises\")\n",
    "\n",
    "# City nomini topish funksiyasi\n",
    "def find_city(row):\n",
    "    if pd.notna(row.get(\"region\")):  # Agar shahar nomi allaqachon bo'lsa, o'zgartirmaymiz\n",
    "        return row[\"region\"]\n",
    "    \n",
    "    try:\n",
    "        location = geolocator.reverse((row[\"latitude\"], row[\"longitude\"]), exactly_one=True)\n",
    "        if location:\n",
    "            return location.raw.get(\"address\", {}).get(\"city\", \"Unknown\")  # Shahar nomini qaytaradi\n",
    "    except:\n",
    "        pass\n",
    "    \n",
    "    # Agar geopy ishlamasa, eng yaqin viloyatni topamiz\n",
    "    min_dist = float(\"inf\")\n",
    "    nearest_city = \"Unknown\"\n",
    "    \n",
    "    for city, coords in city_centers.items():\n",
    "        dist = geodesic(coords, (row[\"latitude\"], row[\"longitude\"])).km\n",
    "        if dist < min_dist:\n",
    "            min_dist = dist\n",
    "            nearest_city = city\n",
    "    \n",
    "    return nearest_city\n",
    "\n",
    "# Har bir joy uchun viloyat markazini aniqlash\n",
    "df[\"region\"] = df.apply(find_city, axis=1)\n",
    "\n",
    "# Masofani hisoblash\n",
    "def calculate_distance(row):\n",
    "    city = row[\"region\"]\n",
    "    if city in city_centers:\n",
    "        city_center_coords = city_centers[city]\n",
    "        point_coords = (row[\"latitude\"], row[\"longitude\"])\n",
    "        return geodesic(city_center_coords, point_coords).km\n",
    "    return \"Unknown\"\n",
    "\n",
    "# Masofani qo'shish\n",
    "df[\"distance_from_center\"] = df.apply(calculate_distance, axis=1)\n",
    "\n",
    "# Natijani saqlash\n",
    "df.to_csv(\"cleaned_with_city_and_distance.csv\", index=False)\n",
    "\n",
    "print(\"✅ City topildi va masofalar hisoblandi. 'cleaned_with_city_and_distance.csv' yaratildi.\")\n"
   ]
  }
 ],
 "metadata": {
  "kernelspec": {
   "display_name": "Python 3",
   "language": "python",
   "name": "python3"
  },
  "language_info": {
   "codemirror_mode": {
    "name": "ipython",
    "version": 3
   },
   "file_extension": ".py",
   "mimetype": "text/x-python",
   "name": "python",
   "nbconvert_exporter": "python",
   "pygments_lexer": "ipython3",
   "version": "3.12.8"
  }
 },
 "nbformat": 4,
 "nbformat_minor": 2
}
